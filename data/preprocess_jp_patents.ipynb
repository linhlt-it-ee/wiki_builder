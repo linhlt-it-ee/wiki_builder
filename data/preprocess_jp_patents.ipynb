{
 "cells": [
  {
   "cell_type": "code",
   "execution_count": 1,
   "id": "ffc5c6ee-7ac4-4b9d-945a-0a9431957243",
   "metadata": {},
   "outputs": [
    {
     "name": "stderr",
     "output_type": "stream",
     "text": [
      "/home/joanna/miniconda3/envs/default-env/lib/python3.8/site-packages/gensim/similarities/__init__.py:15: UserWarning: The gensim.similarities.levenshtein submodule is disabled, because the optional Levenshtein package <https://pypi.org/project/python-Levenshtein/> is unavailable. Install Levenhstein (e.g. `pip install python-Levenshtein`) to suppress this warning.\n",
      "  warnings.warn(msg)\n"
     ]
    }
   ],
   "source": [
    "import os\n",
    "import json\n",
    "import sys\n",
    "sys.path.append(\"../\")\n",
    "\n",
    "from tqdm import tqdm\n",
    "from collections import defaultdict\n",
    "import numpy as np\n",
    "import utils\n",
    "import matplotlib.pyplot as plt\n",
    "plt.style.use(\"seaborn-darkgrid\")\n",
    "\n",
    "from skmultilearn.model_selection import iterative_train_test_split"
   ]
  },
  {
   "cell_type": "code",
   "execution_count": 2,
   "id": "d08f6824-74d8-496e-982a-cf5ca047a271",
   "metadata": {},
   "outputs": [],
   "source": [
    "data_dir = \"../../data/google_patents/24054-jp-patents\"\n",
    "data_ratio = {\"train\": 0.8, \"dev\": 0.1, \"test\": 0.1}\n",
    "random_state = np.random.RandomState(1)\n",
    "\n",
    "save_data_path = os.path.join(data_dir, \"data.ndjson\")\n",
    "save_label_path = os.path.join(data_dir, \"doc_label_encoder.json\")"
   ]
  },
  {
   "cell_type": "code",
   "execution_count": 3,
   "id": "cecf61bb-9629-47a3-b3d5-1a768ffdcc94",
   "metadata": {},
   "outputs": [
    {
     "name": "stdout",
     "output_type": "stream",
     "text": [
      "Number of document files: 24054\n"
     ]
    }
   ],
   "source": [
    "doc_files = utils.get_file_name_in_dir(os.path.join(data_dir, \"doc\"), \"json\")\n",
    "print(\"Number of document files:\", len(doc_files))"
   ]
  },
  {
   "cell_type": "markdown",
   "id": "b2c0b74e-0944-48d3-a4a8-baffcced80ae",
   "metadata": {},
   "source": [
    "**Data format:**\n",
    "\n",
    "A .json file contains multiple patents on different lines.\n",
    "\n",
    "Format of each patent:\n",
    "\n",
    "```json\n",
    "{\n",
    "    \"title\": str,\n",
    "    \"pdf\": str,\n",
    "    \"description\": List[str],      # should be concatenated\n",
    "    \"claims\": List[str],\n",
    "    \"classifications\": List[str],   # each string uses \"\\n\" to separate the cluster ID and its description \n",
    "}\n",
    "```"
   ]
  },
  {
   "cell_type": "code",
   "execution_count": 4,
   "id": "cb4bc883-db57-4422-9ce3-faf3b76d7adf",
   "metadata": {},
   "outputs": [
    {
     "name": "stdout",
     "output_type": "stream",
     "text": [
      "Document attributes: dict_keys(['title', 'pdf', 'classifications', 'description', 'claims'])\n"
     ]
    }
   ],
   "source": [
    "sample_doc_file = doc_files[2]\n",
    "with open(sample_doc_file, \"r\") as f:\n",
    "    sample_doc = json.load(f)\n",
    "    print(\"Document attributes:\", sample_doc.keys())"
   ]
  },
  {
   "cell_type": "code",
   "execution_count": 5,
   "id": "40e99176-9153-4f08-a7c1-ef6f19c2a5c5",
   "metadata": {},
   "outputs": [
    {
     "data": {
      "text/plain": [
       "['A61N1/0456\\nSpecially adapted for transcutaneous electrical nerve stimulation [TENS]',\n",
       " 'A61N1/0526\\nHead electrodes',\n",
       " 'A61N1/0551\\nSpinal or peripheral nerve electrodes',\n",
       " 'A61N1/36017\\nExternal stimulators, e.g. with patch electrodes with leads or electrodes penetrating the skin',\n",
       " 'A61N1/36025\\nExternal stimulators, e.g. with patch electrodes for treating a mental or cerebral condition',\n",
       " 'A61N1/36031\\nControl systems using physiological parameters for adjustment',\n",
       " 'A61N1/36034\\nControl systems specified by the stimulation parameters',\n",
       " 'A61N1/36053\\nImplantable neurostimulators for stimulating central or peripheral nerve system adapted for vagal stimulation',\n",
       " 'A61N1/36064\\nEpilepsy',\n",
       " 'A61N1/36085\\nEating disorders or obesity',\n",
       " 'A61N1/36089\\nAddiction or withdrawal from substance abuse such as alcohol or drugs',\n",
       " 'A61N1/36096\\nMood disorders, e.g. depression, anxiety or panic disorder',\n",
       " 'A61N1/361\\nPhantom sensations, e.g. tinnitus',\n",
       " 'A61N1/36114\\nCardiac control, e.g. by vagal stimulation']"
      ]
     },
     "execution_count": 5,
     "metadata": {},
     "output_type": "execute_result"
    }
   ],
   "source": [
    "sample_doc[\"classifications\"]"
   ]
  },
  {
   "cell_type": "code",
   "execution_count": 6,
   "id": "1555210a-3d11-4d17-8d5c-312c4458285f",
   "metadata": {},
   "outputs": [],
   "source": [
    "def tokens(segments):\n",
    "    res = []\n",
    "    for c in segments:\n",
    "        for x in c.split():\n",
    "            res.append(x)\n",
    "    return res\n",
    "\n",
    "def get_id(doc_file_name):\n",
    "    x = os.path.basename(doc_file_name)\n",
    "    return os.path.splitext(x)[0]\n",
    "    \n",
    "def get_content(doc):\n",
    "    return \" \".join(tokens(doc[\"claims\"]))\n",
    "\n",
    "def get_label(doc):\n",
    "    res = set(x.split(\"\\n\")[0][:3] for x in doc[\"classifications\"])\n",
    "    return list(res)\n",
    "    \n",
    "def get_title(doc):\n",
    "    return doc[\"title\"]\n",
    "\n",
    "def get_description(doc):\n",
    "    return \" \".join(tokens(doc[\"description\"]))\n",
    "\n",
    "def get_sample(doc, fname):\n",
    "    return {\n",
    "        \"id\": get_id(fname), \"title\": get_title(doc), \n",
    "        \"desc\": get_description(doc), \"content\": get_content(doc), \n",
    "        \"labels\": get_label(doc)\n",
    "    }"
   ]
  },
  {
   "cell_type": "code",
   "execution_count": 7,
   "id": "cb565752-2192-4c92-9315-6e7bcaef13a2",
   "metadata": {},
   "outputs": [
    {
     "name": "stdout",
     "output_type": "stream",
     "text": [
      "Number of valid documents: 23884\n"
     ]
    }
   ],
   "source": [
    "\"\"\"\n",
    "Extract samples from raw data\n",
    "\"\"\"\n",
    "samples = []\n",
    "for fname in doc_files:\n",
    "    with open(fname, \"r\") as fin:\n",
    "        doc = json.load(fin)\n",
    "        if get_label(doc):\n",
    "            samples.append(get_sample(doc, fname))\n",
    "            \n",
    "print(\"Number of valid documents:\", len(samples))"
   ]
  },
  {
   "cell_type": "code",
   "execution_count": 8,
   "id": "95c41d63-ffea-4406-a50e-bc7517d3465e",
   "metadata": {},
   "outputs": [
    {
     "name": "stdout",
     "output_type": "stream",
     "text": [
      "Number of labels: 22\n"
     ]
    }
   ],
   "source": [
    "\"\"\"\n",
    "Count number of samples/label and discard labels with < 500 samples\n",
    "\"\"\"\n",
    "def compute_frequency(samples):\n",
    "    freq = {}\n",
    "    for x in samples:\n",
    "        for label in x[\"labels\"]:\n",
    "            freq[label] = freq.get(label, 0) + 1\n",
    "    return freq\n",
    "\n",
    "freq = compute_frequency(samples)\n",
    "labels = set(k for k, v in freq.items() if v >= 500)\n",
    "label_ids = {x : i for i, x in enumerate(labels)}\n",
    "print(\"Number of labels:\", len(labels))"
   ]
  },
  {
   "cell_type": "code",
   "execution_count": 9,
   "id": "1d99a41b-6ab5-45d3-9dfe-0898be633ca1",
   "metadata": {},
   "outputs": [
    {
     "name": "stderr",
     "output_type": "stream",
     "text": [
      "100%|██████████| 23884/23884 [00:00<00:00, 1058212.63it/s]\n"
     ]
    }
   ],
   "source": [
    "new_samples = []\n",
    "for sample in tqdm(samples):\n",
    "    sample[\"labels\"] = [e for e in sample[\"labels\"] if e in labels]\n",
    "    if len(sample[\"labels\"]) != 0:\n",
    "        new_samples.append(sample)\n",
    "\n",
    "samples = new_samples"
   ]
  },
  {
   "cell_type": "markdown",
   "id": "79aa3351-ef10-4b0c-aafc-68d835fe8095",
   "metadata": {},
   "source": [
    "## EDA"
   ]
  },
  {
   "cell_type": "code",
   "execution_count": 10,
   "id": "c635fd8f-89a1-4bb4-9379-31a08cd4193b",
   "metadata": {},
   "outputs": [
    {
     "data": {
      "text/html": [
       "<div>\n",
       "<style scoped>\n",
       "    .dataframe tbody tr th:only-of-type {\n",
       "        vertical-align: middle;\n",
       "    }\n",
       "\n",
       "    .dataframe tbody tr th {\n",
       "        vertical-align: top;\n",
       "    }\n",
       "\n",
       "    .dataframe thead th {\n",
       "        text-align: right;\n",
       "    }\n",
       "</style>\n",
       "<table border=\"1\" class=\"dataframe\">\n",
       "  <thead>\n",
       "    <tr style=\"text-align: right;\">\n",
       "      <th></th>\n",
       "      <th>id</th>\n",
       "      <th>title</th>\n",
       "      <th>desc</th>\n",
       "      <th>content</th>\n",
       "      <th>labels</th>\n",
       "    </tr>\n",
       "  </thead>\n",
       "  <tbody>\n",
       "    <tr>\n",
       "      <th>0</th>\n",
       "      <td>JP6856711B2</td>\n",
       "      <td>半導体装置</td>\n",
       "      <td>Description translated from 本発明は、酸化物半導体を用いる半導体...</td>\n",
       "      <td>ゲート電極層と、 前記ゲート電極層上にゲート絶縁層と、 前記ゲート絶縁層上に酸化物半導体層と...</td>\n",
       "      <td>[G02, H01]</td>\n",
       "    </tr>\n",
       "    <tr>\n",
       "      <th>1</th>\n",
       "      <td>JP6856704B2</td>\n",
       "      <td>医学的障害の治療のためのデバイス</td>\n",
       "      <td>Description translated from 関連出願の相互参照 [0001] 本...</td>\n",
       "      <td>医学的障害の治療のための三叉神経刺激のためのシステムであって、 パルス発生器と、 前記パルス...</td>\n",
       "      <td>[A61]</td>\n",
       "    </tr>\n",
       "    <tr>\n",
       "      <th>2</th>\n",
       "      <td>JP6856696B2</td>\n",
       "      <td>コンテナの管理及びスケジューリングのためのシステム</td>\n",
       "      <td>Description translated from 関連出願の相互参照 本出願は、「ＳＹ...</td>\n",
       "      <td>１つまたは複数のプロセッサと、 前記１つまたは複数のプロセッサによって実行される際、実行可能...</td>\n",
       "      <td>[G06]</td>\n",
       "    </tr>\n",
       "    <tr>\n",
       "      <th>3</th>\n",
       "      <td>JP6856695B2</td>\n",
       "      <td>タービン・カートリッジを備えるオーバーハング・タービン及び発電機システム</td>\n",
       "      <td>Description translated from （関連出願のデータ） [0001] ...</td>\n",
       "      <td>シャフトと、 ハウジングと、 複数の固定子板を含む少なくとも１つの固定子であって、前記複数の...</td>\n",
       "      <td>[H02, Y02, Y10]</td>\n",
       "    </tr>\n",
       "    <tr>\n",
       "      <th>4</th>\n",
       "      <td>JP6856694B2</td>\n",
       "      <td>Ｔｉｍ−３に対する抗体分子およびその使用</td>\n",
       "      <td>Description translated from 関連出願の相互参照 本出願は、米国仮...</td>\n",
       "      <td>（ａ）配列番号９のＶＨＣＤＲ１アミノ酸配列；配列番号１０のＶＨＣＤＲ２アミノ酸配列；および配...</td>\n",
       "      <td>[Y02, G01, C07, A61]</td>\n",
       "    </tr>\n",
       "    <tr>\n",
       "      <th>...</th>\n",
       "      <td>...</td>\n",
       "      <td>...</td>\n",
       "      <td>...</td>\n",
       "      <td>...</td>\n",
       "      <td>...</td>\n",
       "    </tr>\n",
       "    <tr>\n",
       "      <th>22838</th>\n",
       "      <td>JP3194731U</td>\n",
       "      <td>呼吸器及び呼吸器用選択素子</td>\n",
       "      <td>Description translated from 本考案は、気体混合物の処理、特に、人...</td>\n",
       "      <td>患者からの吐出気体のための気体経路に気体分離膜を有し、 その気体分離膜は、希ガスが比較的低浸...</td>\n",
       "      <td>[B01, A61]</td>\n",
       "    </tr>\n",
       "    <tr>\n",
       "      <th>22839</th>\n",
       "      <td>JP3194569U</td>\n",
       "      <td>保護カバー</td>\n",
       "      <td>Description translated from 本考案は、保護カバーに関するものであ...</td>\n",
       "      <td>収容部と、 前記収容部に設置される緩和部と、 を備えてなる保護カバーであって、 前記収容部に...</td>\n",
       "      <td>[H04]</td>\n",
       "    </tr>\n",
       "    <tr>\n",
       "      <th>22840</th>\n",
       "      <td>JP3194297U</td>\n",
       "      <td>自動車用及び産業用のモーション感知制御装置</td>\n",
       "      <td>Description translated from 本願の技術は、自動車用及び産業用の制...</td>\n",
       "      <td>組み込み可能なモーション感知制御装置であって、 眺められている景色の立体的なイメージ情報を提...</td>\n",
       "      <td>[G06, G01, H04]</td>\n",
       "    </tr>\n",
       "    <tr>\n",
       "      <th>22841</th>\n",
       "      <td>JP3193976U</td>\n",
       "      <td>過熱破壊式安全構造及び過熱破壊式安全構造を備えるコンセントとプラグ</td>\n",
       "      <td>Description translated from 本考案は、動作温度が高くなりすぎた時...</td>\n",
       "      <td>２つの導電部材と、熱変形温度下で変形破壊する位置規制部材とを備える過熱破壊式安全構造であって...</td>\n",
       "      <td>[H01]</td>\n",
       "    </tr>\n",
       "    <tr>\n",
       "      <th>22842</th>\n",
       "      <td>JP3193848U</td>\n",
       "      <td>フローセルへ試薬を送達するための流体システム</td>\n",
       "      <td>Description translated from 本考案の実施形態は、一般に、例えば塩...</td>\n",
       "      <td>試薬カートリッジからフローセルへ試薬を送達するための流体システムであって、 試薬カートリッジ...</td>\n",
       "      <td>[G01, C12, B01, Y10]</td>\n",
       "    </tr>\n",
       "  </tbody>\n",
       "</table>\n",
       "<p>22843 rows × 5 columns</p>\n",
       "</div>"
      ],
      "text/plain": [
       "                id                                 title  \\\n",
       "0      JP6856711B2                                 半導体装置   \n",
       "1      JP6856704B2                      医学的障害の治療のためのデバイス   \n",
       "2      JP6856696B2             コンテナの管理及びスケジューリングのためのシステム   \n",
       "3      JP6856695B2  タービン・カートリッジを備えるオーバーハング・タービン及び発電機システム   \n",
       "4      JP6856694B2                  Ｔｉｍ−３に対する抗体分子およびその使用   \n",
       "...            ...                                   ...   \n",
       "22838   JP3194731U                         呼吸器及び呼吸器用選択素子   \n",
       "22839   JP3194569U                                 保護カバー   \n",
       "22840   JP3194297U                 自動車用及び産業用のモーション感知制御装置   \n",
       "22841   JP3193976U     過熱破壊式安全構造及び過熱破壊式安全構造を備えるコンセントとプラグ   \n",
       "22842   JP3193848U                フローセルへ試薬を送達するための流体システム   \n",
       "\n",
       "                                                    desc  \\\n",
       "0      Description translated from 本発明は、酸化物半導体を用いる半導体...   \n",
       "1      Description translated from 関連出願の相互参照 [0001] 本...   \n",
       "2      Description translated from 関連出願の相互参照 本出願は、「ＳＹ...   \n",
       "3      Description translated from （関連出願のデータ） [0001] ...   \n",
       "4      Description translated from 関連出願の相互参照 本出願は、米国仮...   \n",
       "...                                                  ...   \n",
       "22838  Description translated from 本考案は、気体混合物の処理、特に、人...   \n",
       "22839  Description translated from 本考案は、保護カバーに関するものであ...   \n",
       "22840  Description translated from 本願の技術は、自動車用及び産業用の制...   \n",
       "22841  Description translated from 本考案は、動作温度が高くなりすぎた時...   \n",
       "22842  Description translated from 本考案の実施形態は、一般に、例えば塩...   \n",
       "\n",
       "                                                 content                labels  \n",
       "0      ゲート電極層と、 前記ゲート電極層上にゲート絶縁層と、 前記ゲート絶縁層上に酸化物半導体層と...            [G02, H01]  \n",
       "1      医学的障害の治療のための三叉神経刺激のためのシステムであって、 パルス発生器と、 前記パルス...                 [A61]  \n",
       "2      １つまたは複数のプロセッサと、 前記１つまたは複数のプロセッサによって実行される際、実行可能...                 [G06]  \n",
       "3      シャフトと、 ハウジングと、 複数の固定子板を含む少なくとも１つの固定子であって、前記複数の...       [H02, Y02, Y10]  \n",
       "4      （ａ）配列番号９のＶＨＣＤＲ１アミノ酸配列；配列番号１０のＶＨＣＤＲ２アミノ酸配列；および配...  [Y02, G01, C07, A61]  \n",
       "...                                                  ...                   ...  \n",
       "22838  患者からの吐出気体のための気体経路に気体分離膜を有し、 その気体分離膜は、希ガスが比較的低浸...            [B01, A61]  \n",
       "22839  収容部と、 前記収容部に設置される緩和部と、 を備えてなる保護カバーであって、 前記収容部に...                 [H04]  \n",
       "22840  組み込み可能なモーション感知制御装置であって、 眺められている景色の立体的なイメージ情報を提...       [G06, G01, H04]  \n",
       "22841  ２つの導電部材と、熱変形温度下で変形破壊する位置規制部材とを備える過熱破壊式安全構造であって...                 [H01]  \n",
       "22842  試薬カートリッジからフローセルへ試薬を送達するための流体システムであって、 試薬カートリッジ...  [G01, C12, B01, Y10]  \n",
       "\n",
       "[22843 rows x 5 columns]"
      ]
     },
     "execution_count": 10,
     "metadata": {},
     "output_type": "execute_result"
    }
   ],
   "source": [
    "import pandas as pd\n",
    "df = pd.DataFrame(samples)\n",
    "df"
   ]
  },
  {
   "cell_type": "code",
   "execution_count": 11,
   "id": "4bc01795-974a-4b7c-abfb-08ff5b64da31",
   "metadata": {},
   "outputs": [
    {
     "data": {
      "image/png": "[encoded data removed]",
      "text/plain": [
       "<Figure size 500x300 with 1 Axes>"
      ]
     },
     "metadata": {},
     "output_type": "display_data"
    }
   ],
   "source": [
    "fig = plt.figure(figsize=(5, 3))\n",
    "ax = df[\"labels\"].apply(lambda x : len(x)).value_counts().plot(kind=\"bar\");\n",
    "ax.set_title(\"Number of labels per patent\");\n",
    "plt.show()"
   ]
  },
  {
   "cell_type": "code",
   "execution_count": 12,
   "id": "96fd7398-0289-4394-986a-ea75a59a67ad",
   "metadata": {},
   "outputs": [
    {
     "data": {
      "image/png": "[encoded data removed]",
      "text/plain": [
       "<Figure size 900x400 with 1 Axes>"
      ]
     },
     "metadata": {},
     "output_type": "display_data"
    }
   ],
   "source": [
    "freq = compute_frequency(samples)\n",
    "fig = plt.figure(figsize=(9, 4))\n",
    "plt.bar(freq.keys(), freq.values())\n",
    "plt.title(\"Number of samples per label\")\n",
    "plt.show()"
   ]
  },
  {
   "cell_type": "code",
   "execution_count": 13,
   "id": "8b426440-fee6-4f4a-8b10-73f245eb3282",
   "metadata": {},
   "outputs": [
    {
     "data": {
      "text/plain": [
       "count    22843.000000\n",
       "mean         1.873222\n",
       "std          1.037449\n",
       "min          1.000000\n",
       "25%          1.000000\n",
       "50%          2.000000\n",
       "75%          2.000000\n",
       "max          8.000000\n",
       "Name: labels, dtype: float64"
      ]
     },
     "execution_count": 13,
     "metadata": {},
     "output_type": "execute_result"
    }
   ],
   "source": [
    "df[\"labels\"].apply(lambda x : len(x)).describe()"
   ]
  },
  {
   "cell_type": "code",
   "execution_count": 14,
   "id": "3a5487b7-f0c0-48a5-85c3-b93f4363bcbb",
   "metadata": {},
   "outputs": [
    {
     "name": "stdout",
     "output_type": "stream",
     "text": [
      "Threshold: 506\n"
     ]
    }
   ],
   "source": [
    "threshold = min_freq = min(freq.values())\n",
    "print(\"Threshold:\", threshold)"
   ]
  },
  {
   "cell_type": "code",
   "execution_count": 15,
   "id": "13569ad6-1094-4cb7-bd91-0ee79f12e3eb",
   "metadata": {},
   "outputs": [],
   "source": [
    "class_label = defaultdict(set)\n",
    "sample_label = defaultdict(set)\n",
    "\n",
    "for rid, labels in df[\"labels\"].iteritems():\n",
    "    sample_label[rid].update(labels)\n",
    "    for x in labels:\n",
    "        class_label[x].add(rid)\n",
    "\n",
    "selected_samples = set()\n",
    "selected_labels = set()\n",
    "\n",
    "for label in sorted(freq, key=lambda x : freq.get(x)):\n",
    "    if len(class_label[label]) == min_freq:\n",
    "        selected_samples.update(class_label[label])\n",
    "        selected_labels.add(label)\n",
    "        continue\n",
    "\n",
    "    # compute number of samples needed to be drawn (ignoring duplicated samples)\n",
    "    included_samples = class_label[label].intersection(selected_samples)\n",
    "    sample_size = max(0, threshold - len(included_samples))\n",
    "\n",
    "    # samples that contain least unselected labels have the highest priority\n",
    "    sample_space = list(class_label[label].difference(selected_samples))\n",
    "    sorted_sample_space = sorted(sample_space, key=lambda x : len(sample_label[x].difference(selected_labels)))\n",
    "\n",
    "    #selected_samples.update(random_state.choice(sample_space, sample_size, replace=False))\n",
    "    selected_samples.update(sorted_sample_space[:sample_size])\n",
    "    selected_labels.add(label)\n",
    "\n",
    "new_samples = [x for i, x in enumerate(samples) if i in selected_samples]"
   ]
  },
  {
   "cell_type": "code",
   "execution_count": 16,
   "id": "89c4f938-a410-469c-b271-09a88b2520a4",
   "metadata": {},
   "outputs": [
    {
     "name": "stdout",
     "output_type": "stream",
     "text": [
      "6048\n"
     ]
    }
   ],
   "source": [
    "print(len(selected_samples))"
   ]
  },
  {
   "cell_type": "code",
   "execution_count": 17,
   "id": "7777590b-480f-4ece-bf4f-2446f94ef291",
   "metadata": {},
   "outputs": [
    {
     "data": {
      "image/png": "[encoded data removed]",
      "text/plain": [
       "<Figure size 900x400 with 1 Axes>"
      ]
     },
     "metadata": {},
     "output_type": "display_data"
    },
    {
     "data": {
      "text/plain": [
       "count      22.000000\n",
       "mean      597.409091\n",
       "std       144.809451\n",
       "min       506.000000\n",
       "25%       511.500000\n",
       "50%       537.500000\n",
       "75%       615.500000\n",
       "max      1080.000000\n",
       "dtype: float64"
      ]
     },
     "execution_count": 17,
     "metadata": {},
     "output_type": "execute_result"
    }
   ],
   "source": [
    "new_freq = compute_frequency(new_samples)\n",
    "new_freq = {k: new_freq[k] for k in sorted(new_freq, key=new_freq.get)}\n",
    "fig = plt.figure(figsize=(9, 4))\n",
    "plt.bar(new_freq.keys(), new_freq.values())\n",
    "plt.title(\"Number of samples per label\")\n",
    "plt.show()\n",
    "pd.Series(new_freq).describe()"
   ]
  },
  {
   "cell_type": "code",
   "execution_count": 18,
   "id": "d74bde3c-919e-447c-ada5-a3bd4d37c01f",
   "metadata": {},
   "outputs": [
    {
     "data": {
      "image/png": "[encoded data removed]",
      "text/plain": [
       "<Figure size 500x300 with 1 Axes>"
      ]
     },
     "metadata": {},
     "output_type": "display_data"
    },
    {
     "data": {
      "text/plain": [
       "count    6048.000000\n",
       "mean        2.173115\n",
       "std         0.956966\n",
       "min         1.000000\n",
       "25%         1.000000\n",
       "50%         2.000000\n",
       "75%         3.000000\n",
       "max         7.000000\n",
       "Name: labels, dtype: float64"
      ]
     },
     "execution_count": 18,
     "metadata": {},
     "output_type": "execute_result"
    }
   ],
   "source": [
    "new_df = pd.DataFrame(new_samples)\n",
    "fig = plt.figure(figsize=(5, 3))\n",
    "ax = new_df[\"labels\"].apply(lambda x : len(x)).value_counts().plot(kind=\"bar\");\n",
    "ax.set_title(\"Number of labels per patent\");\n",
    "plt.show()\n",
    "new_df[\"labels\"].apply(lambda x : len(x)).describe()"
   ]
  },
  {
   "cell_type": "markdown",
   "id": "820fe49b-4719-409b-9291-181e949768c4",
   "metadata": {},
   "source": [
    "## Data Splitting"
   ]
  },
  {
   "cell_type": "code",
   "execution_count": 19,
   "id": "fabfc664-201e-4f48-8ee8-6b8270aff6ff",
   "metadata": {},
   "outputs": [],
   "source": [
    "df = new_df\n",
    "samples = new_samples"
   ]
  },
  {
   "cell_type": "code",
   "execution_count": 20,
   "id": "54a64ec1-b04a-4bbe-8c6d-b19da74d28d5",
   "metadata": {},
   "outputs": [
    {
     "data": {
      "text/plain": [
       "(6048, 22)"
      ]
     },
     "execution_count": 20,
     "metadata": {},
     "output_type": "execute_result"
    }
   ],
   "source": [
    "X_raw = np.array([[x] for x in samples])\n",
    "y_raw = np.matrix([utils.get_onehot(x[\"labels\"], label_ids) for x in samples])\n",
    "X, y = {}, {}\n",
    "y_raw.shape"
   ]
  },
  {
   "cell_type": "code",
   "execution_count": 21,
   "id": "c001ee3f-f094-4cea-a439-dde547412858",
   "metadata": {},
   "outputs": [],
   "source": [
    "X[\"train\"], y[\"train\"], X[\"test\"], y[\"test\"] = iterative_train_test_split(X_raw, y_raw, test_size=0.1)"
   ]
  },
  {
   "cell_type": "code",
   "execution_count": 22,
   "id": "d0210927-51dc-484f-a92d-701405eec303",
   "metadata": {},
   "outputs": [
    {
     "data": {
      "text/plain": [
       "set()"
      ]
     },
     "execution_count": 22,
     "metadata": {},
     "output_type": "execute_result"
    }
   ],
   "source": [
    "# Make sure all sets share the same set of labels\n",
    "set(np.unique(np.where(y[\"train\"] == 1)[1]).tolist()).difference(set(np.unique(np.where(y[\"test\"] == 1)[1]).tolist()))"
   ]
  },
  {
   "cell_type": "code",
   "execution_count": 23,
   "id": "1cd46698-dd43-4bc2-816b-703578d02caa",
   "metadata": {},
   "outputs": [],
   "source": [
    "X[\"train\"], y[\"train\"], X[\"dev\"], y[\"dev\"] = iterative_train_test_split(X[\"train\"], y[\"train\"], test_size=len(y[\"test\"]) / len(y[\"train\"]))"
   ]
  },
  {
   "cell_type": "code",
   "execution_count": 24,
   "id": "f1b7f0c0-0741-4b1f-9af2-157b8540fc50",
   "metadata": {},
   "outputs": [
    {
     "data": {
      "text/plain": [
       "set()"
      ]
     },
     "execution_count": 24,
     "metadata": {},
     "output_type": "execute_result"
    }
   ],
   "source": [
    "# Make sure all sets share the same set of labels\n",
    "set(np.unique(np.where(y[\"train\"] == 1)[1]).tolist()).difference(set(np.unique(np.where(y[\"dev\"] == 1)[1]).tolist()))"
   ]
  },
  {
   "cell_type": "code",
   "execution_count": 25,
   "id": "4bec3ef1-6fa6-4eea-bf90-6af44167e4d0",
   "metadata": {},
   "outputs": [],
   "source": [
    "samples = []\n",
    "for data_type in (\"train\", \"dev\", \"test\"):\n",
    "    for sample in X[data_type]:\n",
    "        sample = sample[0]\n",
    "        sample[\"is_train\"] = sample[\"is_dev\"] = sample[\"is_test\"] = False\n",
    "        sample[f\"is_{data_type}\"] = True\n",
    "        samples.append(sample)"
   ]
  },
  {
   "cell_type": "code",
   "execution_count": 26,
   "id": "6675b54f-f58a-464c-983a-72b761c79954",
   "metadata": {},
   "outputs": [
    {
     "data": {
      "text/html": [
       "<div>\n",
       "<style scoped>\n",
       "    .dataframe tbody tr th:only-of-type {\n",
       "        vertical-align: middle;\n",
       "    }\n",
       "\n",
       "    .dataframe tbody tr th {\n",
       "        vertical-align: top;\n",
       "    }\n",
       "\n",
       "    .dataframe thead th {\n",
       "        text-align: right;\n",
       "    }\n",
       "</style>\n",
       "<table border=\"1\" class=\"dataframe\">\n",
       "  <thead>\n",
       "    <tr style=\"text-align: right;\">\n",
       "      <th></th>\n",
       "      <th>id</th>\n",
       "      <th>title</th>\n",
       "      <th>desc</th>\n",
       "      <th>content</th>\n",
       "      <th>labels</th>\n",
       "      <th>is_train</th>\n",
       "      <th>is_dev</th>\n",
       "      <th>is_test</th>\n",
       "    </tr>\n",
       "  </thead>\n",
       "  <tbody>\n",
       "    <tr>\n",
       "      <th>0</th>\n",
       "      <td>JP6856694B2</td>\n",
       "      <td>Ｔｉｍ−３に対する抗体分子およびその使用</td>\n",
       "      <td>Description translated from 関連出願の相互参照 本出願は、米国仮...</td>\n",
       "      <td>（ａ）配列番号９のＶＨＣＤＲ１アミノ酸配列；配列番号１０のＶＨＣＤＲ２アミノ酸配列；および配...</td>\n",
       "      <td>[Y02, G01, C07, A61]</td>\n",
       "      <td>True</td>\n",
       "      <td>False</td>\n",
       "      <td>False</td>\n",
       "    </tr>\n",
       "    <tr>\n",
       "      <th>1</th>\n",
       "      <td>JP6855650B2</td>\n",
       "      <td>自動運転制御装置及び車両</td>\n",
       "      <td>Description translated from 関連出願の相互参照 本国際出願は、２...</td>\n",
       "      <td>車両に搭載される自動運転制御装置であって、 前記車両の周囲の情報である周囲情報を取得するよう...</td>\n",
       "      <td>[B60]</td>\n",
       "      <td>True</td>\n",
       "      <td>False</td>\n",
       "      <td>False</td>\n",
       "    </tr>\n",
       "    <tr>\n",
       "      <th>2</th>\n",
       "      <td>JP6855432B2</td>\n",
       "      <td>遷移金属／ゼオライトｓｃｒ触媒</td>\n",
       "      <td>Description translated from 本発明は、例えば車両リーンバーン内燃...</td>\n",
       "      <td>車両リーンバーン内燃機関のための排気システムであって、 流れる排ガスを通過させる導管と、 窒...</td>\n",
       "      <td>[Y02, B01]</td>\n",
       "      <td>True</td>\n",
       "      <td>False</td>\n",
       "      <td>False</td>\n",
       "    </tr>\n",
       "    <tr>\n",
       "      <th>3</th>\n",
       "      <td>JP6855366B2</td>\n",
       "      <td>プラスチック部品を製造する方法、プラスチック部品、および靴</td>\n",
       "      <td>Description translated from 本発明は、プラスチック部品、特にスポ...</td>\n",
       "      <td>プラスチック部品を製造する方法であって、 ａ．発泡材料の粒子を含む第１の材料を型に装填するス...</td>\n",
       "      <td>[B29]</td>\n",
       "      <td>True</td>\n",
       "      <td>False</td>\n",
       "      <td>False</td>\n",
       "    </tr>\n",
       "    <tr>\n",
       "      <th>4</th>\n",
       "      <td>JP6854836B2</td>\n",
       "      <td>共押出しされた、多層電池セパレーター</td>\n",
       "      <td>Description translated from 本明細書に開示される電池セパレーター...</td>\n",
       "      <td>共押出しされたポリオレフィン系ミクロポーラス多層のドライ延伸された膜である、リチウムイオン電...</td>\n",
       "      <td>[Y02, B29, H01]</td>\n",
       "      <td>True</td>\n",
       "      <td>False</td>\n",
       "      <td>False</td>\n",
       "    </tr>\n",
       "  </tbody>\n",
       "</table>\n",
       "</div>"
      ],
      "text/plain": [
       "            id                          title  \\\n",
       "0  JP6856694B2           Ｔｉｍ−３に対する抗体分子およびその使用   \n",
       "1  JP6855650B2                   自動運転制御装置及び車両   \n",
       "2  JP6855432B2                遷移金属／ゼオライトｓｃｒ触媒   \n",
       "3  JP6855366B2  プラスチック部品を製造する方法、プラスチック部品、および靴   \n",
       "4  JP6854836B2             共押出しされた、多層電池セパレーター   \n",
       "\n",
       "                                                desc  \\\n",
       "0  Description translated from 関連出願の相互参照 本出願は、米国仮...   \n",
       "1  Description translated from 関連出願の相互参照 本国際出願は、２...   \n",
       "2  Description translated from 本発明は、例えば車両リーンバーン内燃...   \n",
       "3  Description translated from 本発明は、プラスチック部品、特にスポ...   \n",
       "4  Description translated from 本明細書に開示される電池セパレーター...   \n",
       "\n",
       "                                             content                labels  \\\n",
       "0  （ａ）配列番号９のＶＨＣＤＲ１アミノ酸配列；配列番号１０のＶＨＣＤＲ２アミノ酸配列；および配...  [Y02, G01, C07, A61]   \n",
       "1  車両に搭載される自動運転制御装置であって、 前記車両の周囲の情報である周囲情報を取得するよう...                 [B60]   \n",
       "2  車両リーンバーン内燃機関のための排気システムであって、 流れる排ガスを通過させる導管と、 窒...            [Y02, B01]   \n",
       "3  プラスチック部品を製造する方法であって、 ａ．発泡材料の粒子を含む第１の材料を型に装填するス...                 [B29]   \n",
       "4  共押出しされたポリオレフィン系ミクロポーラス多層のドライ延伸された膜である、リチウムイオン電...       [Y02, B29, H01]   \n",
       "\n",
       "   is_train  is_dev  is_test  \n",
       "0      True   False    False  \n",
       "1      True   False    False  \n",
       "2      True   False    False  \n",
       "3      True   False    False  \n",
       "4      True   False    False  "
      ]
     },
     "execution_count": 26,
     "metadata": {},
     "output_type": "execute_result"
    }
   ],
   "source": [
    "df = pd.DataFrame(samples)\n",
    "df.head()"
   ]
  },
  {
   "cell_type": "code",
   "execution_count": 27,
   "id": "2e3c2656-7058-4e99-97e8-9b906f263db4",
   "metadata": {},
   "outputs": [
    {
     "name": "stdout",
     "output_type": "stream",
     "text": [
      "4863 & 582 & 603 & 41 & 2454 & 22\n"
     ]
    }
   ],
   "source": [
    "num_words = int(df[\"content\"].apply(lambda x : len(x.split())).mean())\n",
    "num_chars = int(df[\"content\"].apply(lambda x : sum(1 for e in x if e.strip())).mean())\n",
    "num_train = len(df[df[\"is_train\"] == True])\n",
    "num_val = len(df[df[\"is_dev\"] == True])\n",
    "num_test = len(df[df[\"is_test\"] == True])\n",
    "num_labels = len(label_ids)\n",
    "print(\"{} & {} & {} & {} & {} & {}\".format(num_train, num_val, num_test, num_words, num_chars, num_labels))"
   ]
  },
  {
   "cell_type": "code",
   "execution_count": 28,
   "id": "b8e68b7a-e885-4776-99d6-b1b113ae31c6",
   "metadata": {},
   "outputs": [
    {
     "data": {
      "text/plain": [
       "(4863, 582, 603)"
      ]
     },
     "execution_count": 28,
     "metadata": {},
     "output_type": "execute_result"
    }
   ],
   "source": [
    "sum(df[\"is_train\"]), sum(df[\"is_dev\"]), sum(df[\"is_test\"])"
   ]
  },
  {
   "cell_type": "code",
   "execution_count": 29,
   "id": "6e466996-84cd-4e23-9df5-b4e5dddacb1a",
   "metadata": {},
   "outputs": [
    {
     "data": {
      "text/html": [
       "<div>\n",
       "<style scoped>\n",
       "    .dataframe tbody tr th:only-of-type {\n",
       "        vertical-align: middle;\n",
       "    }\n",
       "\n",
       "    .dataframe tbody tr th {\n",
       "        vertical-align: top;\n",
       "    }\n",
       "\n",
       "    .dataframe thead th {\n",
       "        text-align: right;\n",
       "    }\n",
       "</style>\n",
       "<table border=\"1\" class=\"dataframe\">\n",
       "  <thead>\n",
       "    <tr style=\"text-align: right;\">\n",
       "      <th></th>\n",
       "      <th>id</th>\n",
       "      <th>title</th>\n",
       "      <th>desc</th>\n",
       "      <th>content</th>\n",
       "      <th>labels</th>\n",
       "      <th>is_train</th>\n",
       "      <th>is_dev</th>\n",
       "      <th>is_test</th>\n",
       "    </tr>\n",
       "  </thead>\n",
       "  <tbody>\n",
       "  </tbody>\n",
       "</table>\n",
       "</div>"
      ],
      "text/plain": [
       "Empty DataFrame\n",
       "Columns: [id, title, desc, content, labels, is_train, is_dev, is_test]\n",
       "Index: []"
      ]
     },
     "execution_count": 29,
     "metadata": {},
     "output_type": "execute_result"
    }
   ],
   "source": [
    "# Check if there is any empty patent\n",
    "df[df[\"content\"].apply(lambda x : len(x)) == 0]"
   ]
  },
  {
   "cell_type": "markdown",
   "id": "c3cfe400-6e6b-4b22-ae56-0f5a1e571287",
   "metadata": {},
   "source": [
    "## Save data"
   ]
  },
  {
   "cell_type": "code",
   "execution_count": 30,
   "id": "f15927a3-715c-496d-a56f-820ed5f35659",
   "metadata": {},
   "outputs": [
    {
     "name": "stderr",
     "output_type": "stream",
     "text": [
      "100%|██████████| 6048/6048 [00:03<00:00, 1985.93it/s]\n"
     ]
    }
   ],
   "source": [
    "with open(save_data_path, \"w\") as f:\n",
    "    for sample in tqdm(samples):\n",
    "        f.write(json.dumps(sample, ensure_ascii=False) + \"\\n\")\n",
    "label_ids = utils.load_json(save_label_path)"
   ]
  }
 ],
 "metadata": {
  "kernelspec": {
   "display_name": "Python 3",
   "language": "python",
   "name": "python3"
  },
  "language_info": {
   "codemirror_mode": {
    "name": "ipython",
    "version": 3
   },
   "file_extension": ".py",
   "mimetype": "text/x-python",
   "name": "python",
   "nbconvert_exporter": "python",
   "pygments_lexer": "ipython3",
   "version": "3.8.11"
  }
 },
 "nbformat": 4,
 "nbformat_minor": 5
}
