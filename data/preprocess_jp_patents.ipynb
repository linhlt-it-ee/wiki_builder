{
 "cells": [
  {
   "cell_type": "code",
   "execution_count": 1,
   "id": "ffc5c6ee-7ac4-4b9d-945a-0a9431957243",
   "metadata": {},
   "outputs": [],
   "source": [
    "import os\n",
    "import json\n",
    "import sys\n",
    "sys.path.append(\"../\")\n",
    "\n",
    "from tqdm import tqdm\n",
    "import numpy as np\n",
    "import utils\n",
    "import matplotlib.pyplot as plt"
   ]
  },
  {
   "cell_type": "code",
   "execution_count": 2,
   "id": "d08f6824-74d8-496e-982a-cf5ca047a271",
   "metadata": {},
   "outputs": [],
   "source": [
    "data_dir = \"../../data/google_patents/24054-jp-patents\"\n",
    "data_ratio = {\"train\": 0.8, \"dev\": 0.1, \"test\": 0.1}\n",
    "random_state = np.random.RandomState(1)\n",
    "\n",
    "save_data_path = os.path.join(data_dir, \"data.ndjson\")\n",
    "save_label_path = os.path.join(data_dir, \"doc_label_encoder.json\")"
   ]
  },
  {
   "cell_type": "code",
   "execution_count": 3,
   "id": "cecf61bb-9629-47a3-b3d5-1a768ffdcc94",
   "metadata": {},
   "outputs": [
    {
     "name": "stdout",
     "output_type": "stream",
     "text": [
      "Number of document files: 24054\n"
     ]
    }
   ],
   "source": [
    "doc_files = utils.get_file_name_in_dir(os.path.join(data_dir, \"doc\"), \"json\")\n",
    "print(\"Number of document files:\", len(doc_files))"
   ]
  },
  {
   "cell_type": "markdown",
   "id": "b2c0b74e-0944-48d3-a4a8-baffcced80ae",
   "metadata": {},
   "source": [
    "**Data format:**\n",
    "\n",
    "A .json file contains multiple patents on different lines.\n",
    "\n",
    "Format of each patent:\n",
    "\n",
    "```json\n",
    "{\n",
    "    \"title\": str,\n",
    "    \"pdf\": str,\n",
    "    \"description\": List[str],      # should be concatenated\n",
    "    \"claims\": List[str],\n",
    "    \"classifications\": List[str],   # each string uses \"\\n\" to separate the cluster ID and its description \n",
    "}\n",
    "```"
   ]
  },
  {
   "cell_type": "code",
   "execution_count": 4,
   "id": "cb4bc883-db57-4422-9ce3-faf3b76d7adf",
   "metadata": {},
   "outputs": [
    {
     "name": "stdout",
     "output_type": "stream",
     "text": [
      "Document attributes: dict_keys(['title', 'pdf', 'classifications', 'description', 'claims'])\n"
     ]
    }
   ],
   "source": [
    "sample_doc_file = doc_files[2]\n",
    "with open(sample_doc_file, \"r\") as f:\n",
    "    sample_doc = json.load(f)\n",
    "    print(\"Document attributes:\", sample_doc.keys())"
   ]
  },
  {
   "cell_type": "code",
   "execution_count": 5,
   "id": "40e99176-9153-4f08-a7c1-ef6f19c2a5c5",
   "metadata": {},
   "outputs": [
    {
     "data": {
      "text/plain": [
       "['A61N1/0456\\nSpecially adapted for transcutaneous electrical nerve stimulation [TENS]',\n",
       " 'A61N1/0526\\nHead electrodes',\n",
       " 'A61N1/0551\\nSpinal or peripheral nerve electrodes',\n",
       " 'A61N1/36017\\nExternal stimulators, e.g. with patch electrodes with leads or electrodes penetrating the skin',\n",
       " 'A61N1/36025\\nExternal stimulators, e.g. with patch electrodes for treating a mental or cerebral condition',\n",
       " 'A61N1/36031\\nControl systems using physiological parameters for adjustment',\n",
       " 'A61N1/36034\\nControl systems specified by the stimulation parameters',\n",
       " 'A61N1/36053\\nImplantable neurostimulators for stimulating central or peripheral nerve system adapted for vagal stimulation',\n",
       " 'A61N1/36064\\nEpilepsy',\n",
       " 'A61N1/36085\\nEating disorders or obesity',\n",
       " 'A61N1/36089\\nAddiction or withdrawal from substance abuse such as alcohol or drugs',\n",
       " 'A61N1/36096\\nMood disorders, e.g. depression, anxiety or panic disorder',\n",
       " 'A61N1/361\\nPhantom sensations, e.g. tinnitus',\n",
       " 'A61N1/36114\\nCardiac control, e.g. by vagal stimulation']"
      ]
     },
     "execution_count": 5,
     "metadata": {},
     "output_type": "execute_result"
    }
   ],
   "source": [
    "sample_doc[\"classifications\"]"
   ]
  },
  {
   "cell_type": "code",
   "execution_count": 6,
   "id": "1555210a-3d11-4d17-8d5c-312c4458285f",
   "metadata": {},
   "outputs": [],
   "source": [
    "def get_id(doc_file_name):\n",
    "    x = os.path.basename(doc_file_name)\n",
    "    return os.path.splitext(x)[0]\n",
    "    \n",
    "def get_content(doc):\n",
    "    return \"\\n\".join(doc[\"claims\"])\n",
    "\n",
    "def get_label(doc):\n",
    "    res = set(x.split(\"\\n\")[0][:4] for x in doc[\"classifications\"])\n",
    "    return list(res)\n",
    "    \n",
    "def get_title(doc):\n",
    "    return doc[\"title\"]\n",
    "\n",
    "def get_sample(doc, fname):\n",
    "    return {\"id\": get_id(fname), \"title\": get_title(doc), \"content\": get_content(doc), \"labels\": get_label(doc)}"
   ]
  },
  {
   "cell_type": "code",
   "execution_count": 7,
   "id": "cb565752-2192-4c92-9315-6e7bcaef13a2",
   "metadata": {},
   "outputs": [
    {
     "name": "stdout",
     "output_type": "stream",
     "text": [
      "Number of valid documents: 23884\n"
     ]
    }
   ],
   "source": [
    "samples = []\n",
    "for fname in doc_files:\n",
    "    with open(fname, \"r\") as fin:\n",
    "        doc = json.load(fin)\n",
    "        if get_label(doc):\n",
    "            samples.append(get_sample(doc, fname))\n",
    "            \n",
    "doc_ids = random_state.permutation([x[\"id\"] for x in samples if x[\"labels\"]])\n",
    "print(\"Number of valid documents:\", len(doc_ids))"
   ]
  },
  {
   "cell_type": "code",
   "execution_count": 8,
   "id": "95c41d63-ffea-4406-a50e-bc7517d3465e",
   "metadata": {},
   "outputs": [
    {
     "name": "stdout",
     "output_type": "stream",
     "text": [
      "Number of labels: 227\n"
     ]
    }
   ],
   "source": [
    "freq = {}\n",
    "for x in samples:\n",
    "    for label in x[\"labels\"]:\n",
    "        freq[label] = freq.get(label, 0) + 1\n",
    "\n",
    "labels = set(k for k, v in freq.items() if v >= 30)\n",
    "label_ids = {x : i for i, x in enumerate(sorted(labels))}\n",
    "utils.dump_json(label_ids, save_label_path)\n",
    "print(\"Number of labels:\", len(labels))"
   ]
  },
  {
   "cell_type": "code",
   "execution_count": 9,
   "id": "1d99a41b-6ab5-45d3-9dfe-0898be633ca1",
   "metadata": {},
   "outputs": [
    {
     "name": "stderr",
     "output_type": "stream",
     "text": [
      "100%|██████████| 23884/23884 [00:00<00:00, 1012397.74it/s]\n"
     ]
    }
   ],
   "source": [
    "new_samples = []\n",
    "for sample in tqdm(samples):\n",
    "    sample[\"labels\"] = [e for e in sample[\"labels\"] if e in labels]\n",
    "    if len(sample[\"labels\"]) != 0:\n",
    "        new_samples.append(sample)\n",
    "\n",
    "samples = new_samples"
   ]
  },
  {
   "cell_type": "code",
   "execution_count": 10,
   "id": "03c177a7-d316-45fa-8775-2bd6f964a06d",
   "metadata": {},
   "outputs": [
    {
     "data": {
      "text/plain": [
       "(23712, 227)"
      ]
     },
     "execution_count": 10,
     "metadata": {},
     "output_type": "execute_result"
    }
   ],
   "source": [
    "from skmultilearn.model_selection import iterative_train_test_split\n",
    "X_raw = np.array([[x] for x in samples])\n",
    "y_raw = np.matrix([utils.get_onehot(x[\"labels\"], label_ids) for x in samples])\n",
    "X, y = {}, {}\n",
    "y_raw.shape"
   ]
  },
  {
   "cell_type": "code",
   "execution_count": 11,
   "id": "e748e0a6-453d-465a-8e0c-8f764b7ef60d",
   "metadata": {},
   "outputs": [],
   "source": [
    "X[\"train\"], y[\"train\"], X[\"test\"], y[\"test\"] = iterative_train_test_split(X_raw, y_raw, test_size=0.1)"
   ]
  },
  {
   "cell_type": "code",
   "execution_count": 12,
   "id": "6515ee8e-6922-4753-ae24-441f36be53c8",
   "metadata": {},
   "outputs": [
    {
     "data": {
      "text/plain": [
       "set()"
      ]
     },
     "execution_count": 12,
     "metadata": {},
     "output_type": "execute_result"
    }
   ],
   "source": [
    "set(np.unique(np.where(y[\"train\"] == 1)[1]).tolist()).difference(set(np.unique(np.where(y[\"test\"] == 1)[1]).tolist()))"
   ]
  },
  {
   "cell_type": "code",
   "execution_count": 13,
   "id": "b1657e2c-cc1d-48ac-b9df-2183c1365823",
   "metadata": {},
   "outputs": [],
   "source": [
    "X[\"train\"], y[\"train\"], X[\"dev\"], y[\"dev\"] = iterative_train_test_split(X[\"train\"], y[\"train\"], test_size=len(y[\"test\"]) / len(y[\"train\"]))"
   ]
  },
  {
   "cell_type": "code",
   "execution_count": 14,
   "id": "954a479c-dab2-4a2a-aad4-879b84503982",
   "metadata": {},
   "outputs": [
    {
     "data": {
      "text/plain": [
       "set()"
      ]
     },
     "execution_count": 14,
     "metadata": {},
     "output_type": "execute_result"
    }
   ],
   "source": [
    "set(np.unique(np.where(y[\"train\"] == 1)[1]).tolist()).difference(set(np.unique(np.where(y[\"dev\"] == 1)[1]).tolist()))"
   ]
  },
  {
   "cell_type": "code",
   "execution_count": 15,
   "id": "bde5ca43-9b72-42ca-af49-841a69cb31c6",
   "metadata": {},
   "outputs": [],
   "source": [
    "samples = []\n",
    "for data_type in (\"train\", \"dev\", \"test\"):\n",
    "    for sample in X[data_type]:\n",
    "        sample = sample[0]\n",
    "        sample[\"is_train\"] = sample[\"is_dev\"] = sample[\"is_test\"] = False\n",
    "        sample[f\"is_{data_type}\"] = True\n",
    "        samples.append(sample)"
   ]
  },
  {
   "cell_type": "code",
   "execution_count": 16,
   "id": "6e272731-9b58-46d4-af92-b41530cd810c",
   "metadata": {},
   "outputs": [
    {
     "name": "stderr",
     "output_type": "stream",
     "text": [
      "100%|██████████| 23712/23712 [00:01<00:00, 20055.03it/s]\n"
     ]
    }
   ],
   "source": [
    "with open(save_data_path, \"w\") as f:\n",
    "    for sample in tqdm(samples):\n",
    "        f.write(json.dumps(sample, ensure_ascii=False) + \"\\n\")"
   ]
  },
  {
   "cell_type": "code",
   "execution_count": 17,
   "id": "c635fd8f-89a1-4bb4-9379-31a08cd4193b",
   "metadata": {},
   "outputs": [
    {
     "data": {
      "text/html": [
       "<div>\n",
       "<style scoped>\n",
       "    .dataframe tbody tr th:only-of-type {\n",
       "        vertical-align: middle;\n",
       "    }\n",
       "\n",
       "    .dataframe tbody tr th {\n",
       "        vertical-align: top;\n",
       "    }\n",
       "\n",
       "    .dataframe thead th {\n",
       "        text-align: right;\n",
       "    }\n",
       "</style>\n",
       "<table border=\"1\" class=\"dataframe\">\n",
       "  <thead>\n",
       "    <tr style=\"text-align: right;\">\n",
       "      <th></th>\n",
       "      <th>id</th>\n",
       "      <th>title</th>\n",
       "      <th>content</th>\n",
       "      <th>labels</th>\n",
       "      <th>is_train</th>\n",
       "      <th>is_dev</th>\n",
       "      <th>is_test</th>\n",
       "    </tr>\n",
       "  </thead>\n",
       "  <tbody>\n",
       "    <tr>\n",
       "      <th>0</th>\n",
       "      <td>JP6856695B2</td>\n",
       "      <td>タービン・カートリッジを備えるオーバーハング・タービン及び発電機システム</td>\n",
       "      <td>シャフトと、\\n  ハウジングと、\\n  複数の固定子板を含む少なくとも１つの固定子であって...</td>\n",
       "      <td>[H02K, Y10T, F05D, B23P, Y02E, F02C, F16C]</td>\n",
       "      <td>True</td>\n",
       "      <td>False</td>\n",
       "      <td>False</td>\n",
       "    </tr>\n",
       "    <tr>\n",
       "      <th>1</th>\n",
       "      <td>JP6855484B2</td>\n",
       "      <td>下流側の電流ベースのモータ制御を有する外科用ステープラ</td>\n",
       "      <td>外科用ステープラであって、\\n  駆動システムと、\\n  前記駆動システムに機械的に結合され...</td>\n",
       "      <td>[H02P, A61B]</td>\n",
       "      <td>True</td>\n",
       "      <td>False</td>\n",
       "      <td>False</td>\n",
       "    </tr>\n",
       "    <tr>\n",
       "      <th>2</th>\n",
       "      <td>JP6855454B2</td>\n",
       "      <td>外科用ステープルドライバアレイ</td>\n",
       "      <td>外科用ステープルカートリッジと共に動作可能に使用される外科用ステープルドライバアレイであって...</td>\n",
       "      <td>[A61B]</td>\n",
       "      <td>True</td>\n",
       "      <td>False</td>\n",
       "      <td>False</td>\n",
       "    </tr>\n",
       "    <tr>\n",
       "      <th>3</th>\n",
       "      <td>JP6855432B2</td>\n",
       "      <td>遷移金属／ゼオライトｓｃｒ触媒</td>\n",
       "      <td>車両リーンバーン内燃機関のための排気システムであって、\\n流れる排ガスを通過させる導管と、\\...</td>\n",
       "      <td>[Y02C, Y02T, B01J, C01B, B01D, Y02A]</td>\n",
       "      <td>True</td>\n",
       "      <td>False</td>\n",
       "      <td>False</td>\n",
       "    </tr>\n",
       "    <tr>\n",
       "      <th>4</th>\n",
       "      <td>JP6855430B2</td>\n",
       "      <td>遊技場における不正検知システム</td>\n",
       "      <td>複数の遊技テーブルを有する遊技場におけるテーブルゲームの管理システムであって、\\n  前記遊...</td>\n",
       "      <td>[G06Q, G07F, A63F]</td>\n",
       "      <td>True</td>\n",
       "      <td>False</td>\n",
       "      <td>False</td>\n",
       "    </tr>\n",
       "    <tr>\n",
       "      <th>...</th>\n",
       "      <td>...</td>\n",
       "      <td>...</td>\n",
       "      <td>...</td>\n",
       "      <td>...</td>\n",
       "      <td>...</td>\n",
       "      <td>...</td>\n",
       "      <td>...</td>\n",
       "    </tr>\n",
       "    <tr>\n",
       "      <th>23707</th>\n",
       "      <td>JP5585742B1</td>\n",
       "      <td>受信装置および通信方法</td>\n",
       "      <td>外部機器から、差動信号により、ＨＤＭＩケーブルを介して映像信号を受信する信号受信部と、\\n ...</td>\n",
       "      <td>[H04B, G09G, H04N]</td>\n",
       "      <td>False</td>\n",
       "      <td>False</td>\n",
       "      <td>True</td>\n",
       "    </tr>\n",
       "    <tr>\n",
       "      <th>23708</th>\n",
       "      <td>JP5576581B1</td>\n",
       "      <td>ユーザインターフェイス拡張システム</td>\n",
       "      <td>タッチインターフェイスデバイス（１０）のユーザインターフェイス拡張システムであって、\\n  ...</td>\n",
       "      <td>[G06F, G08B]</td>\n",
       "      <td>False</td>\n",
       "      <td>False</td>\n",
       "      <td>True</td>\n",
       "    </tr>\n",
       "    <tr>\n",
       "      <th>23709</th>\n",
       "      <td>JP3214893U</td>\n",
       "      <td>携帯型薬剤ディスペンサー</td>\n",
       "      <td>複数の別々に含有された製剤を保持するためのチャンバーと；\\n  分配機構の起動時に前記複数の...</td>\n",
       "      <td>[G16H, A61J]</td>\n",
       "      <td>False</td>\n",
       "      <td>False</td>\n",
       "      <td>True</td>\n",
       "    </tr>\n",
       "    <tr>\n",
       "      <th>23710</th>\n",
       "      <td>JP3207426U</td>\n",
       "      <td>高電圧能力を有する高静電容量の多層</td>\n",
       "      <td>交互に配置される層内の複数の第１内部導電体および複数の第２内部導電体であって、前記第１内部導...</td>\n",
       "      <td>[H01G, Y10T]</td>\n",
       "      <td>False</td>\n",
       "      <td>False</td>\n",
       "      <td>True</td>\n",
       "    </tr>\n",
       "    <tr>\n",
       "      <th>23711</th>\n",
       "      <td>JP3205420U</td>\n",
       "      <td>ハザード検出装置</td>\n",
       "      <td>ハザード検出システムであって、\\n  少なくとも１つのハザード検出センサと、\\n  前記少な...</td>\n",
       "      <td>[H04L, G06F, G08B, G06K]</td>\n",
       "      <td>False</td>\n",
       "      <td>False</td>\n",
       "      <td>True</td>\n",
       "    </tr>\n",
       "  </tbody>\n",
       "</table>\n",
       "<p>23712 rows × 7 columns</p>\n",
       "</div>"
      ],
      "text/plain": [
       "                id                                 title  \\\n",
       "0      JP6856695B2  タービン・カートリッジを備えるオーバーハング・タービン及び発電機システム   \n",
       "1      JP6855484B2           下流側の電流ベースのモータ制御を有する外科用ステープラ   \n",
       "2      JP6855454B2                       外科用ステープルドライバアレイ   \n",
       "3      JP6855432B2                       遷移金属／ゼオライトｓｃｒ触媒   \n",
       "4      JP6855430B2                       遊技場における不正検知システム   \n",
       "...            ...                                   ...   \n",
       "23707  JP5585742B1                           受信装置および通信方法   \n",
       "23708  JP5576581B1                     ユーザインターフェイス拡張システム   \n",
       "23709   JP3214893U                          携帯型薬剤ディスペンサー   \n",
       "23710   JP3207426U                     高電圧能力を有する高静電容量の多層   \n",
       "23711   JP3205420U                              ハザード検出装置   \n",
       "\n",
       "                                                 content  \\\n",
       "0      シャフトと、\\n  ハウジングと、\\n  複数の固定子板を含む少なくとも１つの固定子であって...   \n",
       "1      外科用ステープラであって、\\n  駆動システムと、\\n  前記駆動システムに機械的に結合され...   \n",
       "2      外科用ステープルカートリッジと共に動作可能に使用される外科用ステープルドライバアレイであって...   \n",
       "3      車両リーンバーン内燃機関のための排気システムであって、\\n流れる排ガスを通過させる導管と、\\...   \n",
       "4      複数の遊技テーブルを有する遊技場におけるテーブルゲームの管理システムであって、\\n  前記遊...   \n",
       "...                                                  ...   \n",
       "23707  外部機器から、差動信号により、ＨＤＭＩケーブルを介して映像信号を受信する信号受信部と、\\n ...   \n",
       "23708  タッチインターフェイスデバイス（１０）のユーザインターフェイス拡張システムであって、\\n  ...   \n",
       "23709  複数の別々に含有された製剤を保持するためのチャンバーと；\\n  分配機構の起動時に前記複数の...   \n",
       "23710  交互に配置される層内の複数の第１内部導電体および複数の第２内部導電体であって、前記第１内部導...   \n",
       "23711  ハザード検出システムであって、\\n  少なくとも１つのハザード検出センサと、\\n  前記少な...   \n",
       "\n",
       "                                           labels  is_train  is_dev  is_test  \n",
       "0      [H02K, Y10T, F05D, B23P, Y02E, F02C, F16C]      True   False    False  \n",
       "1                                    [H02P, A61B]      True   False    False  \n",
       "2                                          [A61B]      True   False    False  \n",
       "3            [Y02C, Y02T, B01J, C01B, B01D, Y02A]      True   False    False  \n",
       "4                              [G06Q, G07F, A63F]      True   False    False  \n",
       "...                                           ...       ...     ...      ...  \n",
       "23707                          [H04B, G09G, H04N]     False   False     True  \n",
       "23708                                [G06F, G08B]     False   False     True  \n",
       "23709                                [G16H, A61J]     False   False     True  \n",
       "23710                                [H01G, Y10T]     False   False     True  \n",
       "23711                    [H04L, G06F, G08B, G06K]     False   False     True  \n",
       "\n",
       "[23712 rows x 7 columns]"
      ]
     },
     "execution_count": 17,
     "metadata": {},
     "output_type": "execute_result"
    }
   ],
   "source": [
    "import pandas as pd\n",
    "df = pd.DataFrame(samples)\n",
    "df"
   ]
  },
  {
   "cell_type": "code",
   "execution_count": 18,
   "id": "cc8899f0-7298-42b7-a09f-cfe69b6afff8",
   "metadata": {},
   "outputs": [
    {
     "data": {
      "text/plain": [
       "(18870, 2427, 2415)"
      ]
     },
     "execution_count": 18,
     "metadata": {},
     "output_type": "execute_result"
    }
   ],
   "source": [
    "sum(df[\"is_train\"]), sum(df[\"is_dev\"]), sum(df[\"is_test\"])"
   ]
  },
  {
   "cell_type": "code",
   "execution_count": 19,
   "id": "0133b3af-4725-4695-8bec-87230220bab3",
   "metadata": {},
   "outputs": [
    {
     "data": {
      "image/png": "[encoded data removed]",
      "text/plain": [
       "<Figure size 640x480 with 1 Axes>"
      ]
     },
     "metadata": {},
     "output_type": "display_data"
    }
   ],
   "source": [
    "ax = df[\"labels\"].apply(lambda x : len(x)).value_counts().plot(kind=\"bar\");\n",
    "ax.set_title(\"Number of labels per patent\");\n",
    "plt.show()"
   ]
  },
  {
   "cell_type": "markdown",
   "id": "7a21a663-2770-4728-a4aa-008855080a0a",
   "metadata": {},
   "source": [
    "**Check**"
   ]
  },
  {
   "cell_type": "code",
   "execution_count": 21,
   "id": "d729aee6-f75d-4afb-9960-a33caa9c88ca",
   "metadata": {},
   "outputs": [
    {
     "data": {
      "text/plain": [
       "44.30705971659919"
      ]
     },
     "execution_count": 21,
     "metadata": {},
     "output_type": "execute_result"
    }
   ],
   "source": [
    "df[\"content\"].apply(lambda x : len(x.split())).mean()"
   ]
  },
  {
   "cell_type": "code",
   "execution_count": 22,
   "id": "18617e1d-4f4c-4aed-a24f-25d0b2cb9fe2",
   "metadata": {},
   "outputs": [
    {
     "data": {
      "text/plain": [
       "227"
      ]
     },
     "execution_count": 22,
     "metadata": {},
     "output_type": "execute_result"
    }
   ],
   "source": [
    "len(label_ids)"
   ]
  },
  {
   "cell_type": "code",
   "execution_count": 23,
   "id": "bcb5cf01-e9ad-4355-88db-5a6110bbaeb2",
   "metadata": {},
   "outputs": [
    {
     "data": {
      "text/html": [
       "<div>\n",
       "<style scoped>\n",
       "    .dataframe tbody tr th:only-of-type {\n",
       "        vertical-align: middle;\n",
       "    }\n",
       "\n",
       "    .dataframe tbody tr th {\n",
       "        vertical-align: top;\n",
       "    }\n",
       "\n",
       "    .dataframe thead th {\n",
       "        text-align: right;\n",
       "    }\n",
       "</style>\n",
       "<table border=\"1\" class=\"dataframe\">\n",
       "  <thead>\n",
       "    <tr style=\"text-align: right;\">\n",
       "      <th></th>\n",
       "      <th>id</th>\n",
       "      <th>title</th>\n",
       "      <th>content</th>\n",
       "      <th>labels</th>\n",
       "      <th>is_train</th>\n",
       "      <th>is_dev</th>\n",
       "      <th>is_test</th>\n",
       "    </tr>\n",
       "  </thead>\n",
       "  <tbody>\n",
       "  </tbody>\n",
       "</table>\n",
       "</div>"
      ],
      "text/plain": [
       "Empty DataFrame\n",
       "Columns: [id, title, content, labels, is_train, is_dev, is_test]\n",
       "Index: []"
      ]
     },
     "execution_count": 23,
     "metadata": {},
     "output_type": "execute_result"
    }
   ],
   "source": [
    "df[df[\"content\"].apply(lambda x : len(x)) == 0]"
   ]
  },
  {
   "cell_type": "code",
   "execution_count": 24,
   "id": "d1907580-0f79-4ffc-9c58-647de6bcaca5",
   "metadata": {},
   "outputs": [
    {
     "data": {
      "text/plain": [
       "227"
      ]
     },
     "execution_count": 24,
     "metadata": {},
     "output_type": "execute_result"
    }
   ],
   "source": [
    "res = set()\n",
    "for x in df[df[\"is_train\"]][\"labels\"].values:\n",
    "    res.update(x)\n",
    "len(res)"
   ]
  },
  {
   "cell_type": "code",
   "execution_count": 25,
   "id": "96933c16-089b-491c-9842-94f0f999c661",
   "metadata": {},
   "outputs": [
    {
     "data": {
      "text/plain": [
       "227"
      ]
     },
     "execution_count": 25,
     "metadata": {},
     "output_type": "execute_result"
    }
   ],
   "source": [
    "res = set()\n",
    "for x in df[df[\"is_dev\"]][\"labels\"].values:\n",
    "    res.update(x)\n",
    "len(res)"
   ]
  },
  {
   "cell_type": "code",
   "execution_count": 26,
   "id": "a324d534-d5e1-4a9e-bc29-000f0bbca4a8",
   "metadata": {},
   "outputs": [
    {
     "data": {
      "text/plain": [
       "227"
      ]
     },
     "execution_count": 26,
     "metadata": {},
     "output_type": "execute_result"
    }
   ],
   "source": [
    "res = set()\n",
    "for x in df[df[\"is_test\"]][\"labels\"].values:\n",
    "    res.update(x)\n",
    "len(res)"
   ]
  },
  {
   "cell_type": "code",
   "execution_count": null,
   "id": "a1ef8472-71be-4634-9940-c87d6bc5836c",
   "metadata": {},
   "outputs": [],
   "source": []
  }
 ],
 "metadata": {
  "kernelspec": {
   "display_name": "Python 3",
   "language": "python",
   "name": "python3"
  },
  "language_info": {
   "codemirror_mode": {
    "name": "ipython",
    "version": 3
   },
   "file_extension": ".py",
   "mimetype": "text/x-python",
   "name": "python",
   "nbconvert_exporter": "python",
   "pygments_lexer": "ipython3",
   "version": "3.8.5"
  }
 },
 "nbformat": 4,
 "nbformat_minor": 5
}
