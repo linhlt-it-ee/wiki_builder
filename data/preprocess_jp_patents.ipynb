{
 "cells": [
  {
   "cell_type": "code",
   "execution_count": 1,
   "id": "ffc5c6ee-7ac4-4b9d-945a-0a9431957243",
   "metadata": {},
   "outputs": [],
   "source": [
    "import os\n",
    "import json\n",
    "import sys\n",
    "sys.path.append(\"../\")\n",
    "\n",
    "from tqdm import tqdm\n",
    "import numpy as np\n",
    "import utils"
   ]
  },
  {
   "cell_type": "code",
   "execution_count": 2,
   "id": "d08f6824-74d8-496e-982a-cf5ca047a271",
   "metadata": {},
   "outputs": [],
   "source": [
    "data_dir = \"../../data/google_patents/24054-jp-patents\"\n",
    "data_ratio = {\"train\": 0.8, \"dev\": 0.1, \"test\": 0.1}\n",
    "random_state = np.random.RandomState(1)\n",
    "\n",
    "save_data_path = os.path.join(data_dir, \"data.ndjson\")\n",
    "save_label_path = os.path.join(data_dir, \"doc_label_encoder.json\")"
   ]
  },
  {
   "cell_type": "code",
   "execution_count": 3,
   "id": "cecf61bb-9629-47a3-b3d5-1a768ffdcc94",
   "metadata": {},
   "outputs": [
    {
     "name": "stdout",
     "output_type": "stream",
     "text": [
      "Number of document files: 24054\n"
     ]
    }
   ],
   "source": [
    "doc_files = utils.get_file_name_in_dir(os.path.join(data_dir, \"doc\"), \"json\")\n",
    "print(\"Number of document files:\", len(doc_files))"
   ]
  },
  {
   "cell_type": "markdown",
   "id": "b2c0b74e-0944-48d3-a4a8-baffcced80ae",
   "metadata": {},
   "source": [
    "**Data format:**\n",
    "\n",
    "A .json file contains multiple patents on different lines.\n",
    "\n",
    "Format of each patent:\n",
    "\n",
    "```json\n",
    "{\n",
    "    \"title\": str,\n",
    "    \"pdf\": str,\n",
    "    \"description\": List[str],      # should be concatenated\n",
    "    \"claims\": List[str],\n",
    "    \"classifications\": List[str],   # each string uses \"\\n\" to separate the cluster ID and its description \n",
    "}\n",
    "```"
   ]
  },
  {
   "cell_type": "code",
   "execution_count": 13,
   "id": "cb4bc883-db57-4422-9ce3-faf3b76d7adf",
   "metadata": {},
   "outputs": [
    {
     "name": "stdout",
     "output_type": "stream",
     "text": [
      "Document attributes: dict_keys(['title', 'pdf', 'classifications', 'description', 'claims'])\n"
     ]
    }
   ],
   "source": [
    "sample_doc_file = doc_files[2]\n",
    "with open(sample_doc_file, \"r\") as f:\n",
    "    sample_doc = json.load(f)\n",
    "    print(\"Document attributes:\", sample_doc.keys())"
   ]
  },
  {
   "cell_type": "code",
   "execution_count": 14,
   "id": "40e99176-9153-4f08-a7c1-ef6f19c2a5c5",
   "metadata": {},
   "outputs": [
    {
     "data": {
      "text/plain": [
       "['A61N1/0456\\nSpecially adapted for transcutaneous electrical nerve stimulation [TENS]',\n",
       " 'A61N1/0526\\nHead electrodes',\n",
       " 'A61N1/0551\\nSpinal or peripheral nerve electrodes',\n",
       " 'A61N1/36017\\nExternal stimulators, e.g. with patch electrodes with leads or electrodes penetrating the skin',\n",
       " 'A61N1/36025\\nExternal stimulators, e.g. with patch electrodes for treating a mental or cerebral condition',\n",
       " 'A61N1/36031\\nControl systems using physiological parameters for adjustment',\n",
       " 'A61N1/36034\\nControl systems specified by the stimulation parameters',\n",
       " 'A61N1/36053\\nImplantable neurostimulators for stimulating central or peripheral nerve system adapted for vagal stimulation',\n",
       " 'A61N1/36064\\nEpilepsy',\n",
       " 'A61N1/36085\\nEating disorders or obesity',\n",
       " 'A61N1/36089\\nAddiction or withdrawal from substance abuse such as alcohol or drugs',\n",
       " 'A61N1/36096\\nMood disorders, e.g. depression, anxiety or panic disorder',\n",
       " 'A61N1/361\\nPhantom sensations, e.g. tinnitus',\n",
       " 'A61N1/36114\\nCardiac control, e.g. by vagal stimulation']"
      ]
     },
     "execution_count": 14,
     "metadata": {},
     "output_type": "execute_result"
    }
   ],
   "source": [
    "sample_doc[\"classifications\"]"
   ]
  },
  {
   "cell_type": "code",
   "execution_count": 6,
   "id": "1555210a-3d11-4d17-8d5c-312c4458285f",
   "metadata": {},
   "outputs": [],
   "source": [
    "def get_id(doc_file_name):\n",
    "    x = os.path.basename(doc_file_name)\n",
    "    return os.path.splitext(x)[0]\n",
    "    \n",
    "def get_content(doc):\n",
    "    return \"\\n\".join(doc[\"claims\"])\n",
    "\n",
    "def get_label(doc):\n",
    "    res = set(x.split(\"\\n\")[0][:4] for x in doc[\"classifications\"])\n",
    "    return list(res)\n",
    "    \n",
    "def get_title(doc):\n",
    "    return doc[\"title\"]\n",
    "\n",
    "def get_sample(doc, fname):\n",
    "    return {\"id\": get_id(fname), \"title\": get_title(doc), \"content\": get_content(doc), \"labels\": get_label(doc)}"
   ]
  },
  {
   "cell_type": "code",
   "execution_count": 7,
   "id": "cb565752-2192-4c92-9315-6e7bcaef13a2",
   "metadata": {},
   "outputs": [
    {
     "name": "stdout",
     "output_type": "stream",
     "text": [
      "Number of valid documents: 23884\n"
     ]
    }
   ],
   "source": [
    "samples = []\n",
    "for fname in doc_files:\n",
    "    with open(fname, \"r\") as fin:\n",
    "        doc = json.load(fin)\n",
    "        if get_label(doc):\n",
    "            samples.append(get_sample(doc, fname))\n",
    "            \n",
    "doc_ids = random_state.permutation([x[\"id\"] for x in samples if x[\"labels\"]])\n",
    "print(\"Number of valid documents:\", len(doc_ids))"
   ]
  },
  {
   "cell_type": "code",
   "execution_count": 8,
   "id": "95c41d63-ffea-4406-a50e-bc7517d3465e",
   "metadata": {},
   "outputs": [
    {
     "data": {
      "text/plain": [
       "{'train': array(['JP6602935B2', 'JP6641425B2', 'JP5752836B2', ..., 'JP6322694B2',\n",
       "        'JP6432121B2', 'JP6659298B2'], dtype='<U11'),\n",
       " 'dev': array(['JP5839139B2', 'JP6002828B2', 'JP6407981B2', ..., 'JP5890508B2',\n",
       "        'JP6310978B2', 'JP6697636B2'], dtype='<U11'),\n",
       " 'test': array(['JP6335260B2', 'JP5919344B2', 'JP6173359B2', ..., 'JP6195956B2',\n",
       "        'JP6643958B2', 'JP6400728B2'], dtype='<U11')}"
      ]
     },
     "execution_count": 8,
     "metadata": {},
     "output_type": "execute_result"
    }
   ],
   "source": [
    "split_ids = {}\n",
    "last_id = 0\n",
    "\n",
    "for data_type in (\"train\", \"dev\", \"test\"):\n",
    "    num_samples = int(data_ratio[data_type] * len(doc_ids))\n",
    "    split_ids[data_type] = doc_ids[last_id : last_id + num_samples]\n",
    "    last_id += num_samples\n",
    "    \n",
    "split_ids"
   ]
  },
  {
   "cell_type": "code",
   "execution_count": 9,
   "id": "1d99a41b-6ab5-45d3-9dfe-0898be633ca1",
   "metadata": {},
   "outputs": [],
   "source": [
    "for sample in samples:\n",
    "    id = sample[\"id\"]\n",
    "    sample[\"is_train\"] = id in split_ids[\"train\"]\n",
    "    sample[\"is_dev\"] = id in split_ids[\"dev\"]\n",
    "    sample[\"is_test\"] = id in split_ids[\"test\"]"
   ]
  },
  {
   "cell_type": "code",
   "execution_count": 10,
   "id": "88b815bb-4b29-4384-9782-b5269c4363fd",
   "metadata": {},
   "outputs": [
    {
     "name": "stderr",
     "output_type": "stream",
     "text": [
      "100%|██████████| 23884/23884 [00:00<00:00, 28563.92it/s]\n"
     ]
    }
   ],
   "source": [
    "labels = set()\n",
    "with open(save_data_path, \"w\") as f:\n",
    "    for sample in tqdm(samples):\n",
    "        if sample[\"labels\"]:\n",
    "            f.write(json.dumps(sample, ensure_ascii=False) + \"\\n\")\n",
    "            labels.update(sample[\"labels\"])\n",
    "\n",
    "label_ids = {x : i for i, x in enumerate(sorted(labels))}\n",
    "utils.dump_json(label_ids, save_label_path)"
   ]
  },
  {
   "cell_type": "code",
   "execution_count": 11,
   "id": "8763586e-fe51-4385-8a30-2d56245bf135",
   "metadata": {},
   "outputs": [
    {
     "data": {
      "text/html": [
       "<div>\n",
       "<style scoped>\n",
       "    .dataframe tbody tr th:only-of-type {\n",
       "        vertical-align: middle;\n",
       "    }\n",
       "\n",
       "    .dataframe tbody tr th {\n",
       "        vertical-align: top;\n",
       "    }\n",
       "\n",
       "    .dataframe thead th {\n",
       "        text-align: right;\n",
       "    }\n",
       "</style>\n",
       "<table border=\"1\" class=\"dataframe\">\n",
       "  <thead>\n",
       "    <tr style=\"text-align: right;\">\n",
       "      <th></th>\n",
       "      <th>id</th>\n",
       "      <th>title</th>\n",
       "      <th>content</th>\n",
       "      <th>labels</th>\n",
       "      <th>is_train</th>\n",
       "      <th>is_dev</th>\n",
       "      <th>is_test</th>\n",
       "    </tr>\n",
       "  </thead>\n",
       "  <tbody>\n",
       "    <tr>\n",
       "      <th>0</th>\n",
       "      <td>JP6856713B2</td>\n",
       "      <td>合わせガラス用中間膜及び合わせガラスの製造方法</td>\n",
       "      <td>２層以上の樹脂層が積層された合わせガラス用中間膜であって、\\n少なくとも一方の表面に、多数の...</td>\n",
       "      <td>[B32B, C03C]</td>\n",
       "      <td>True</td>\n",
       "      <td>False</td>\n",
       "      <td>False</td>\n",
       "    </tr>\n",
       "    <tr>\n",
       "      <th>1</th>\n",
       "      <td>JP6856711B2</td>\n",
       "      <td>半導体装置</td>\n",
       "      <td>ゲート電極層と、\\n  前記ゲート電極層上にゲート絶縁層と、\\n  前記ゲート絶縁層上に酸化...</td>\n",
       "      <td>[G02F, H01L]</td>\n",
       "      <td>True</td>\n",
       "      <td>False</td>\n",
       "      <td>False</td>\n",
       "    </tr>\n",
       "    <tr>\n",
       "      <th>2</th>\n",
       "      <td>JP6856704B2</td>\n",
       "      <td>医学的障害の治療のためのデバイス</td>\n",
       "      <td>医学的障害の治療のための三叉神経刺激のためのシステムであって、\\n  パルス発生器と、\\n ...</td>\n",
       "      <td>[A61N]</td>\n",
       "      <td>True</td>\n",
       "      <td>False</td>\n",
       "      <td>False</td>\n",
       "    </tr>\n",
       "    <tr>\n",
       "      <th>3</th>\n",
       "      <td>JP6856696B2</td>\n",
       "      <td>コンテナの管理及びスケジューリングのためのシステム</td>\n",
       "      <td>１つまたは複数のプロセッサと、\\n  前記１つまたは複数のプロセッサによって実行される際、実...</td>\n",
       "      <td>[G06F]</td>\n",
       "      <td>True</td>\n",
       "      <td>False</td>\n",
       "      <td>False</td>\n",
       "    </tr>\n",
       "    <tr>\n",
       "      <th>4</th>\n",
       "      <td>JP6856695B2</td>\n",
       "      <td>タービン・カートリッジを備えるオーバーハング・タービン及び発電機システム</td>\n",
       "      <td>シャフトと、\\n  ハウジングと、\\n  複数の固定子板を含む少なくとも１つの固定子であって...</td>\n",
       "      <td>[Y10T, F01K, F16C, Y02E, B23P, F05D, H02K, F01...</td>\n",
       "      <td>True</td>\n",
       "      <td>False</td>\n",
       "      <td>False</td>\n",
       "    </tr>\n",
       "    <tr>\n",
       "      <th>...</th>\n",
       "      <td>...</td>\n",
       "      <td>...</td>\n",
       "      <td>...</td>\n",
       "      <td>...</td>\n",
       "      <td>...</td>\n",
       "      <td>...</td>\n",
       "      <td>...</td>\n",
       "    </tr>\n",
       "    <tr>\n",
       "      <th>23879</th>\n",
       "      <td>JP3194731U</td>\n",
       "      <td>呼吸器及び呼吸器用選択素子</td>\n",
       "      <td>患者からの吐出気体のための気体経路に気体分離膜を有し、\\nその気体分離膜は、希ガスが比較的低...</td>\n",
       "      <td>[A61M, B01D, C01B]</td>\n",
       "      <td>True</td>\n",
       "      <td>False</td>\n",
       "      <td>False</td>\n",
       "    </tr>\n",
       "    <tr>\n",
       "      <th>23880</th>\n",
       "      <td>JP3194569U</td>\n",
       "      <td>保護カバー</td>\n",
       "      <td>収容部と、\\n  前記収容部に設置される緩和部と、\\nを備えてなる保護カバーであって、\\n ...</td>\n",
       "      <td>[B65D, A45C, H04B]</td>\n",
       "      <td>True</td>\n",
       "      <td>False</td>\n",
       "      <td>False</td>\n",
       "    </tr>\n",
       "    <tr>\n",
       "      <th>23881</th>\n",
       "      <td>JP3194297U</td>\n",
       "      <td>自動車用及び産業用のモーション感知制御装置</td>\n",
       "      <td>組み込み可能なモーション感知制御装置であって、\\n  眺められている景色の立体的なイメージ情...</td>\n",
       "      <td>[G06T, G06K, G01P, G06F, H04N]</td>\n",
       "      <td>True</td>\n",
       "      <td>False</td>\n",
       "      <td>False</td>\n",
       "    </tr>\n",
       "    <tr>\n",
       "      <th>23882</th>\n",
       "      <td>JP3193976U</td>\n",
       "      <td>過熱破壊式安全構造及び過熱破壊式安全構造を備えるコンセントとプラグ</td>\n",
       "      <td>２つの導電部材と、熱変形温度下で変形破壊する位置規制部材とを備える過熱破壊式安全構造であって...</td>\n",
       "      <td>[H01R]</td>\n",
       "      <td>False</td>\n",
       "      <td>False</td>\n",
       "      <td>True</td>\n",
       "    </tr>\n",
       "    <tr>\n",
       "      <th>23883</th>\n",
       "      <td>JP3193848U</td>\n",
       "      <td>フローセルへ試薬を送達するための流体システム</td>\n",
       "      <td>試薬カートリッジからフローセルへ試薬を送達するための流体システムであって、\\n試薬カートリッ...</td>\n",
       "      <td>[Y10T, C12Q, G01N, B01L]</td>\n",
       "      <td>True</td>\n",
       "      <td>False</td>\n",
       "      <td>False</td>\n",
       "    </tr>\n",
       "  </tbody>\n",
       "</table>\n",
       "<p>23884 rows × 7 columns</p>\n",
       "</div>"
      ],
      "text/plain": [
       "                id                                 title  \\\n",
       "0      JP6856713B2               合わせガラス用中間膜及び合わせガラスの製造方法   \n",
       "1      JP6856711B2                                 半導体装置   \n",
       "2      JP6856704B2                      医学的障害の治療のためのデバイス   \n",
       "3      JP6856696B2             コンテナの管理及びスケジューリングのためのシステム   \n",
       "4      JP6856695B2  タービン・カートリッジを備えるオーバーハング・タービン及び発電機システム   \n",
       "...            ...                                   ...   \n",
       "23879   JP3194731U                         呼吸器及び呼吸器用選択素子   \n",
       "23880   JP3194569U                                 保護カバー   \n",
       "23881   JP3194297U                 自動車用及び産業用のモーション感知制御装置   \n",
       "23882   JP3193976U     過熱破壊式安全構造及び過熱破壊式安全構造を備えるコンセントとプラグ   \n",
       "23883   JP3193848U                フローセルへ試薬を送達するための流体システム   \n",
       "\n",
       "                                                 content  \\\n",
       "0      ２層以上の樹脂層が積層された合わせガラス用中間膜であって、\\n少なくとも一方の表面に、多数の...   \n",
       "1      ゲート電極層と、\\n  前記ゲート電極層上にゲート絶縁層と、\\n  前記ゲート絶縁層上に酸化...   \n",
       "2      医学的障害の治療のための三叉神経刺激のためのシステムであって、\\n  パルス発生器と、\\n ...   \n",
       "3      １つまたは複数のプロセッサと、\\n  前記１つまたは複数のプロセッサによって実行される際、実...   \n",
       "4      シャフトと、\\n  ハウジングと、\\n  複数の固定子板を含む少なくとも１つの固定子であって...   \n",
       "...                                                  ...   \n",
       "23879  患者からの吐出気体のための気体経路に気体分離膜を有し、\\nその気体分離膜は、希ガスが比較的低...   \n",
       "23880  収容部と、\\n  前記収容部に設置される緩和部と、\\nを備えてなる保護カバーであって、\\n ...   \n",
       "23881  組み込み可能なモーション感知制御装置であって、\\n  眺められている景色の立体的なイメージ情...   \n",
       "23882  ２つの導電部材と、熱変形温度下で変形破壊する位置規制部材とを備える過熱破壊式安全構造であって...   \n",
       "23883  試薬カートリッジからフローセルへ試薬を送達するための流体システムであって、\\n試薬カートリッ...   \n",
       "\n",
       "                                                  labels  is_train  is_dev  \\\n",
       "0                                           [B32B, C03C]      True   False   \n",
       "1                                           [G02F, H01L]      True   False   \n",
       "2                                                 [A61N]      True   False   \n",
       "3                                                 [G06F]      True   False   \n",
       "4      [Y10T, F01K, F16C, Y02E, B23P, F05D, H02K, F01...      True   False   \n",
       "...                                                  ...       ...     ...   \n",
       "23879                                 [A61M, B01D, C01B]      True   False   \n",
       "23880                                 [B65D, A45C, H04B]      True   False   \n",
       "23881                     [G06T, G06K, G01P, G06F, H04N]      True   False   \n",
       "23882                                             [H01R]     False   False   \n",
       "23883                           [Y10T, C12Q, G01N, B01L]      True   False   \n",
       "\n",
       "       is_test  \n",
       "0        False  \n",
       "1        False  \n",
       "2        False  \n",
       "3        False  \n",
       "4        False  \n",
       "...        ...  \n",
       "23879    False  \n",
       "23880    False  \n",
       "23881    False  \n",
       "23882     True  \n",
       "23883    False  \n",
       "\n",
       "[23884 rows x 7 columns]"
      ]
     },
     "execution_count": 11,
     "metadata": {},
     "output_type": "execute_result"
    }
   ],
   "source": [
    "import pandas as pd\n",
    "df = pd.DataFrame(samples)\n",
    "df"
   ]
  },
  {
   "cell_type": "code",
   "execution_count": 15,
   "id": "b7727a52-93e3-41a0-9008-90344ac6bacc",
   "metadata": {},
   "outputs": [
    {
     "data": {
      "text/plain": [
       "(19107, 2388, 2388)"
      ]
     },
     "execution_count": 15,
     "metadata": {},
     "output_type": "execute_result"
    }
   ],
   "source": [
    "sum(df[\"is_train\"]), sum(df[\"is_dev\"]), sum(df[\"is_test\"])"
   ]
  },
  {
   "cell_type": "code",
   "execution_count": 12,
   "id": "3125f628-f17f-464a-bd66-0fe0e8ac57bc",
   "metadata": {},
   "outputs": [
    {
     "data": {
      "image/png": "[encoded data removed]",
      "text/plain": [
       "<Figure size 432x288 with 1 Axes>"
      ]
     },
     "metadata": {
      "needs_background": "light"
     },
     "output_type": "display_data"
    }
   ],
   "source": [
    "ax = df[\"labels\"].apply(lambda x : len(x)).value_counts().plot(kind=\"bar\");\n",
    "ax.set_title(\"Number of labels per patent\");"
   ]
  },
  {
   "cell_type": "code",
   "execution_count": 17,
   "id": "c2ea5247-0e8b-4303-a1ea-e9e3ab1a4af7",
   "metadata": {},
   "outputs": [
    {
     "data": {
      "text/plain": [
       "44.22144531904204"
      ]
     },
     "execution_count": 17,
     "metadata": {},
     "output_type": "execute_result"
    }
   ],
   "source": [
    "df[\"content\"].apply(lambda x : len(x.split())).mean()"
   ]
  },
  {
   "cell_type": "code",
   "execution_count": 18,
   "id": "62a709cd-370e-4da4-8b30-a7d704a5cf8c",
   "metadata": {},
   "outputs": [
    {
     "data": {
      "text/plain": [
       "555"
      ]
     },
     "execution_count": 18,
     "metadata": {},
     "output_type": "execute_result"
    }
   ],
   "source": [
    "len(label_ids)"
   ]
  },
  {
   "cell_type": "code",
   "execution_count": null,
   "id": "4c82176d-4c16-40e8-b7a3-1ab6405f8782",
   "metadata": {},
   "outputs": [],
   "source": []
  }
 ],
 "metadata": {
  "kernelspec": {
   "display_name": "Python 3",
   "language": "python",
   "name": "python3"
  },
  "language_info": {
   "codemirror_mode": {
    "name": "ipython",
    "version": 3
   },
   "file_extension": ".py",
   "mimetype": "text/x-python",
   "name": "python",
   "nbconvert_exporter": "python",
   "pygments_lexer": "ipython3",
   "version": "3.8.5"
  }
 },
 "nbformat": 4,
 "nbformat_minor": 5
}
