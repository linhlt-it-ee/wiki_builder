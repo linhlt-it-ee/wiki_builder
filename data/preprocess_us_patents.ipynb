{
 "cells": [
  {
   "cell_type": "code",
   "execution_count": 1,
   "id": "f3917ced-0671-4894-bee9-51545981cbbe",
   "metadata": {},
   "outputs": [
    {
     "name": "stderr",
     "output_type": "stream",
     "text": [
      "/home/joanna/miniconda3/envs/default-env/lib/python3.8/site-packages/gensim/similarities/__init__.py:15: UserWarning: The gensim.similarities.levenshtein submodule is disabled, because the optional Levenshtein package <https://pypi.org/project/python-Levenshtein/> is unavailable. Install Levenhstein (e.g. `pip install python-Levenshtein`) to suppress this warning.\n",
      "  warnings.warn(msg)\n"
     ]
    }
   ],
   "source": [
    "import os\n",
    "import json\n",
    "import sys\n",
    "sys.path.append(\"../\")\n",
    "\n",
    "from collections import defaultdict\n",
    "from tqdm import tqdm\n",
    "\n",
    "import numpy as np\n",
    "import pandas as pd\n",
    "import utils\n",
    "import matplotlib.pyplot as plt\n",
    "plt.style.use(\"seaborn-darkgrid\")\n",
    "from skmultilearn.model_selection import iterative_train_test_split"
   ]
  },
  {
   "cell_type": "code",
   "execution_count": 2,
   "id": "37d2db6b-52a7-42c6-8d0e-f135cd7b1a61",
   "metadata": {},
   "outputs": [],
   "source": [
    "data_dir = \"../../data/google_patents/us-25000\"\n",
    "data_ratio = {\"train\": 0.8, \"dev\": 0.1, \"test\": 0.1}\n",
    "random_state = np.random.RandomState(1)\n",
    "\n",
    "save_data_path = os.path.join(data_dir, \"data.ndjson\")\n",
    "save_label_path = os.path.join(data_dir, \"doc_label_encoder.json\")"
   ]
  },
  {
   "cell_type": "code",
   "execution_count": 3,
   "id": "73b8e7a2-9bb1-4591-bbf5-7eda8d8917a3",
   "metadata": {},
   "outputs": [
    {
     "name": "stdout",
     "output_type": "stream",
     "text": [
      "Number of document files: 10\n"
     ]
    }
   ],
   "source": [
    "doc_files = utils.get_file_name_in_dir(os.path.join(data_dir, \"doc\"), \"json\")\n",
    "print(\"Number of document files:\", len(doc_files))"
   ]
  },
  {
   "cell_type": "markdown",
   "id": "827cff56-424e-468b-9820-97b8648d3c76",
   "metadata": {},
   "source": [
    "**Data format:**\n",
    "\n",
    "A .json file contains multiple patents on different lines.\n",
    "\n",
    "Format of each patent:\n",
    "\n",
    "```json\n",
    "{\n",
    "    \"patent_id\": str,\n",
    "    \"title\": [{\"text\": str, \"language\": str, \"truncated\": bool}],\n",
    "    \"description\": [{\"text\": str, \"language\": str, \"truncated\": bool}],\n",
    "    \"claims\": [{\"text\": str, \"language\": str, \"truncated\": bool}],\n",
    "    \"classifications\": [{\"code\": str, \"inventive\": bool, \"first\": bool, \"tree\": List[str]}, ...]\n",
    "}\n",
    "```"
   ]
  },
  {
   "cell_type": "code",
   "execution_count": 4,
   "id": "bb1c4645-0f91-425d-ab10-ab8492d4dff8",
   "metadata": {},
   "outputs": [
    {
     "data": {
      "text/plain": [
       "[{'code': 'A46B11/0006', 'inventive': True, 'first': True, 'tree': []},\n",
       " {'code': 'A46B9/023', 'inventive': True, 'first': False, 'tree': []},\n",
       " {'code': 'A45D24/28', 'inventive': True, 'first': False, 'tree': []},\n",
       " {'code': 'A46B5/0095', 'inventive': True, 'first': False, 'tree': []},\n",
       " {'code': 'A45D24/22', 'inventive': False, 'first': False, 'tree': []},\n",
       " {'code': 'A46B11/002', 'inventive': True, 'first': False, 'tree': []},\n",
       " {'code': 'A46B2200/104', 'inventive': False, 'first': False, 'tree': []},\n",
       " {'code': 'A46B9/023', 'inventive': True, 'first': False, 'tree': []},\n",
       " {'code': 'A46B2200/104', 'inventive': False, 'first': False, 'tree': []},\n",
       " {'code': 'A45D24/22', 'inventive': False, 'first': False, 'tree': []},\n",
       " {'code': 'A46B11/0006', 'inventive': True, 'first': True, 'tree': []},\n",
       " {'code': 'A46B5/0095', 'inventive': True, 'first': False, 'tree': []},\n",
       " {'code': 'A46B11/002', 'inventive': False, 'first': False, 'tree': []}]"
      ]
     },
     "execution_count": 4,
     "metadata": {},
     "output_type": "execute_result"
    }
   ],
   "source": [
    "sample_doc_file = doc_files[0]\n",
    "with open(sample_doc_file, \"r\") as f:\n",
    "    for line in f:\n",
    "        sample_doc = json.loads(line)\n",
    "        break\n",
    "sample_doc[\"classifications\"]"
   ]
  },
  {
   "cell_type": "code",
   "execution_count": 5,
   "id": "0b02e976-61ad-4e99-9c24-63c74e2d032c",
   "metadata": {},
   "outputs": [],
   "source": [
    "def tokens(segments):\n",
    "    res = []\n",
    "    for c in segments:\n",
    "        for x in c[\"text\"].split():\n",
    "            res.append(x)\n",
    "    return res\n",
    "\n",
    "def get_id(doc):\n",
    "    return doc[\"patent_id\"]\n",
    "\n",
    "def get_content(doc):\n",
    "    return \" \".join(tokens(doc[\"claims\"]))\n",
    "    \n",
    "def get_title(doc):\n",
    "    return \" \".join(tokens(doc[\"title\"]))\n",
    "    \n",
    "def get_description(doc):\n",
    "    return \" \".join(tokens(doc[\"description\"]))\n",
    "    \n",
    "def get_label(doc):\n",
    "    return list(set(x[\"code\"][:3] for x in doc[\"classifications\"]))\n",
    "\n",
    "def get_sample(doc):\n",
    "    return {\n",
    "        \"id\": get_id(doc), \"title\": get_title(doc), \n",
    "        \"desc\": get_description(doc), \"content\": get_content(doc), \n",
    "        \"labels\": get_label(doc)\n",
    "    }"
   ]
  },
  {
   "cell_type": "code",
   "execution_count": 6,
   "id": "7c4c8cf3-eafc-489a-ad85-b9cb2516e059",
   "metadata": {
    "tags": []
   },
   "outputs": [
    {
     "name": "stdout",
     "output_type": "stream",
     "text": [
      "Number of valid documents: 17952\n"
     ]
    }
   ],
   "source": [
    "\"\"\"\n",
    "Extract samples from raw data\n",
    "\"\"\"\n",
    "samples = []\n",
    "for fname in doc_files:\n",
    "    with open(fname, \"r\") as f:\n",
    "        for line in f:\n",
    "            doc = json.loads(line)\n",
    "            if get_label(doc) and get_content(doc):\n",
    "                samples.append(get_sample(doc))\n",
    " \n",
    "print(\"Number of valid documents:\", len(samples))"
   ]
  },
  {
   "cell_type": "code",
   "execution_count": 7,
   "id": "3357e7b8-ea45-4b4b-9316-4a1f10302d82",
   "metadata": {},
   "outputs": [
    {
     "name": "stdout",
     "output_type": "stream",
     "text": [
      "Number of labels: 34\n"
     ]
    }
   ],
   "source": [
    "\"\"\"\n",
    "Count number of samples/label and discard labels with < 500 samples\n",
    "\"\"\"\n",
    "def compute_frequency(samples):\n",
    "    freq = {}\n",
    "    for x in samples:\n",
    "        for label in x[\"labels\"]:\n",
    "            freq[label] = freq.get(label, 0) + 1\n",
    "    return freq\n",
    "\n",
    "freq = compute_frequency(samples)\n",
    "labels = set(k for k, v in freq.items() if v >= 200)\n",
    "label_ids = {x : i for i, x in enumerate(labels)}\n",
    "print(\"Number of labels:\", len(labels))"
   ]
  },
  {
   "cell_type": "code",
   "execution_count": 8,
   "id": "5515848c-a74b-4f56-a30a-fe4230b6fbba",
   "metadata": {},
   "outputs": [
    {
     "name": "stderr",
     "output_type": "stream",
     "text": [
      "100%|██████████| 17952/17952 [00:00<00:00, 496257.42it/s]"
     ]
    },
    {
     "name": "stdout",
     "output_type": "stream",
     "text": [
      "Number of samples: 16451\n"
     ]
    },
    {
     "name": "stderr",
     "output_type": "stream",
     "text": [
      "\n"
     ]
    }
   ],
   "source": [
    "new_samples = []\n",
    "for sample in tqdm(samples):\n",
    "    sample[\"labels\"] = [e for e in sample[\"labels\"] if e in labels]\n",
    "    if len(sample[\"labels\"]) != 0:\n",
    "        new_samples.append(sample)\n",
    "\n",
    "samples = new_samples\n",
    "print(\"Number of samples:\", len(samples))"
   ]
  },
  {
   "cell_type": "markdown",
   "id": "15919245-c4b1-4f0f-9780-2110d084ade8",
   "metadata": {},
   "source": [
    "## EDA"
   ]
  },
  {
   "cell_type": "code",
   "execution_count": 9,
   "id": "5d2ca531-2da9-4a40-8532-3f57a981d572",
   "metadata": {},
   "outputs": [
    {
     "data": {
      "text/html": [
       "<div>\n",
       "<style scoped>\n",
       "    .dataframe tbody tr th:only-of-type {\n",
       "        vertical-align: middle;\n",
       "    }\n",
       "\n",
       "    .dataframe tbody tr th {\n",
       "        vertical-align: top;\n",
       "    }\n",
       "\n",
       "    .dataframe thead th {\n",
       "        text-align: right;\n",
       "    }\n",
       "</style>\n",
       "<table border=\"1\" class=\"dataframe\">\n",
       "  <thead>\n",
       "    <tr style=\"text-align: right;\">\n",
       "      <th></th>\n",
       "      <th>id</th>\n",
       "      <th>title</th>\n",
       "      <th>desc</th>\n",
       "      <th>content</th>\n",
       "      <th>labels</th>\n",
       "    </tr>\n",
       "  </thead>\n",
       "  <tbody>\n",
       "    <tr>\n",
       "      <th>0</th>\n",
       "      <td>US-10033661-B1</td>\n",
       "      <td>Tiered priority system and callout performance...</td>\n",
       "      <td>BACKGROUND OF THE INVENTION The present invent...</td>\n",
       "      <td>What is claimed is: 1. A method comprising: re...</td>\n",
       "      <td>[G06, H04]</td>\n",
       "    </tr>\n",
       "    <tr>\n",
       "      <th>1</th>\n",
       "      <td>US-10027048-B2</td>\n",
       "      <td>Electrical component and electronic device</td>\n",
       "      <td>CROSS REFERENCE TO RELATED APPLICATIONS This a...</td>\n",
       "      <td>What is claimed is: 1. An electrical component...</td>\n",
       "      <td>[H01]</td>\n",
       "    </tr>\n",
       "    <tr>\n",
       "      <th>2</th>\n",
       "      <td>US-10077129-B2</td>\n",
       "      <td>Labeler with sealing label press-on device</td>\n",
       "      <td>CROSS-REFERENCE TO RELATED APPLICATIONS This A...</td>\n",
       "      <td>What is claimed is: 1. A labeler comprising: a...</td>\n",
       "      <td>[B65]</td>\n",
       "    </tr>\n",
       "    <tr>\n",
       "      <th>3</th>\n",
       "      <td>US-10193177-B2</td>\n",
       "      <td>Fuel cell system and operating method therefor</td>\n",
       "      <td>CROSS-REFERENCE TO RELATED APPLICATIONS This i...</td>\n",
       "      <td>The invention claimed is: 1. A residual water ...</td>\n",
       "      <td>[H01, Y02]</td>\n",
       "    </tr>\n",
       "    <tr>\n",
       "      <th>4</th>\n",
       "      <td>US-10147384-B2</td>\n",
       "      <td>Boosting voltage generator and a display appar...</td>\n",
       "      <td>CROSS-REFERENCE TO RELATED APPLICATION This ap...</td>\n",
       "      <td>What is claimed is: 1. A boosting voltage gene...</td>\n",
       "      <td>[G09]</td>\n",
       "    </tr>\n",
       "    <tr>\n",
       "      <th>...</th>\n",
       "      <td>...</td>\n",
       "      <td>...</td>\n",
       "      <td>...</td>\n",
       "      <td>...</td>\n",
       "      <td>...</td>\n",
       "    </tr>\n",
       "    <tr>\n",
       "      <th>16446</th>\n",
       "      <td>US-10235166-B1</td>\n",
       "      <td>Code quality evaluation and user interfaces</td>\n",
       "      <td>BACKGROUND In many software development enviro...</td>\n",
       "      <td>What is claimed is: 1. A method of generating ...</td>\n",
       "      <td>[G06]</td>\n",
       "    </tr>\n",
       "    <tr>\n",
       "      <th>16447</th>\n",
       "      <td>US-10030890-B2</td>\n",
       "      <td>Hinge apparatus</td>\n",
       "      <td>CROSS-REFERENCE TO RELATED APPLICATIONS This a...</td>\n",
       "      <td>What is claimed is: 1. A hinge apparatus for m...</td>\n",
       "      <td>[F16, G09]</td>\n",
       "    </tr>\n",
       "    <tr>\n",
       "      <th>16448</th>\n",
       "      <td>US-10076584-B2</td>\n",
       "      <td>Low odor latex paint capable of reducing inter...</td>\n",
       "      <td>CROSS REFERENCE TO RELATED APPLICATIONS This a...</td>\n",
       "      <td>What is claimed is: 1. A paint composition com...</td>\n",
       "      <td>[A61, C08, C09, Y10]</td>\n",
       "    </tr>\n",
       "    <tr>\n",
       "      <th>16449</th>\n",
       "      <td>US-10066520-B2</td>\n",
       "      <td>Valve opening and closing timing control appar...</td>\n",
       "      <td>CROSS REFERENCE TO RELATED APPLICATIONS This a...</td>\n",
       "      <td>What is claimed is: 1. A valve opening and clo...</td>\n",
       "      <td>[F01]</td>\n",
       "    </tr>\n",
       "    <tr>\n",
       "      <th>16450</th>\n",
       "      <td>US-10004455-B2</td>\n",
       "      <td>Realtime biofeedback mechanism and data presen...</td>\n",
       "      <td>CROSS-REFERENCE TO RELATED APPLICATIONS The pr...</td>\n",
       "      <td>What is claimed is: 1. A method implemented by...</td>\n",
       "      <td>[A61]</td>\n",
       "    </tr>\n",
       "  </tbody>\n",
       "</table>\n",
       "<p>16451 rows × 5 columns</p>\n",
       "</div>"
      ],
      "text/plain": [
       "                   id                                              title  \\\n",
       "0      US-10033661-B1  Tiered priority system and callout performance...   \n",
       "1      US-10027048-B2         Electrical component and electronic device   \n",
       "2      US-10077129-B2         Labeler with sealing label press-on device   \n",
       "3      US-10193177-B2     Fuel cell system and operating method therefor   \n",
       "4      US-10147384-B2  Boosting voltage generator and a display appar...   \n",
       "...               ...                                                ...   \n",
       "16446  US-10235166-B1        Code quality evaluation and user interfaces   \n",
       "16447  US-10030890-B2                                    Hinge apparatus   \n",
       "16448  US-10076584-B2  Low odor latex paint capable of reducing inter...   \n",
       "16449  US-10066520-B2  Valve opening and closing timing control appar...   \n",
       "16450  US-10004455-B2  Realtime biofeedback mechanism and data presen...   \n",
       "\n",
       "                                                    desc  \\\n",
       "0      BACKGROUND OF THE INVENTION The present invent...   \n",
       "1      CROSS REFERENCE TO RELATED APPLICATIONS This a...   \n",
       "2      CROSS-REFERENCE TO RELATED APPLICATIONS This A...   \n",
       "3      CROSS-REFERENCE TO RELATED APPLICATIONS This i...   \n",
       "4      CROSS-REFERENCE TO RELATED APPLICATION This ap...   \n",
       "...                                                  ...   \n",
       "16446  BACKGROUND In many software development enviro...   \n",
       "16447  CROSS-REFERENCE TO RELATED APPLICATIONS This a...   \n",
       "16448  CROSS REFERENCE TO RELATED APPLICATIONS This a...   \n",
       "16449  CROSS REFERENCE TO RELATED APPLICATIONS This a...   \n",
       "16450  CROSS-REFERENCE TO RELATED APPLICATIONS The pr...   \n",
       "\n",
       "                                                 content                labels  \n",
       "0      What is claimed is: 1. A method comprising: re...            [G06, H04]  \n",
       "1      What is claimed is: 1. An electrical component...                 [H01]  \n",
       "2      What is claimed is: 1. A labeler comprising: a...                 [B65]  \n",
       "3      The invention claimed is: 1. A residual water ...            [H01, Y02]  \n",
       "4      What is claimed is: 1. A boosting voltage gene...                 [G09]  \n",
       "...                                                  ...                   ...  \n",
       "16446  What is claimed is: 1. A method of generating ...                 [G06]  \n",
       "16447  What is claimed is: 1. A hinge apparatus for m...            [F16, G09]  \n",
       "16448  What is claimed is: 1. A paint composition com...  [A61, C08, C09, Y10]  \n",
       "16449  What is claimed is: 1. A valve opening and clo...                 [F01]  \n",
       "16450  What is claimed is: 1. A method implemented by...                 [A61]  \n",
       "\n",
       "[16451 rows x 5 columns]"
      ]
     },
     "execution_count": 9,
     "metadata": {},
     "output_type": "execute_result"
    }
   ],
   "source": [
    "import pandas as pd\n",
    "df = pd.DataFrame(samples)\n",
    "df"
   ]
  },
  {
   "cell_type": "code",
   "execution_count": 10,
   "id": "fa2399ad-5400-437a-9f96-b053175626f8",
   "metadata": {},
   "outputs": [
    {
     "name": "stdout",
     "output_type": "stream",
     "text": [
      "What is claimed is: 1. A method comprising: receiving a call from a first online transaction program (first OTP); in response to receiving the call: generating an express socket path, generating a dispatchable unit of work and a corresponding token identifier (token ID), sending the token ID to the first OTP; receiving, from the first OTP a first callout message, where the first callout message includes the token ID; sending the first callout message on the express socket path; receiving a first response corresponding to the first callout message; sending the first response to the first OTP; receiving, from the first OTP a second callout message, where the second callout message includes the token ID; sending the second callout message on the express socket path; receiving, a second response corresponding to the second callout message; sending the second response to the first OTP; receiving a signal indicating that the first OTP has terminated; in response to receiving the signal, terminating the dispatchable unit of work; receiving a plurality of callout messages from one or more second online transaction programs (second OTPs); combining the plurality of callout messages into a shared callout message; sending the shared callout message to a TCP/IP server; receiving a shared return message from the TCP/IP server; extracting a plurality of return messages from the shared return message; returning the plurality of return messages to respectively corresponding one or more second OTPs; receiving a second callout message where the second callout message is of a first priority level; assigning an available socket to the second callout message; receiving a third callout message where the third callout message is of a second priority level; and reassigning the available socket to the third callout message.\n"
     ]
    }
   ],
   "source": [
    "print(df[\"content\"].iloc[0])"
   ]
  },
  {
   "cell_type": "code",
   "execution_count": 11,
   "id": "cdf6d766-0af7-4400-bbcb-da3efab768fb",
   "metadata": {},
   "outputs": [
    {
     "data": {
      "image/png": "[encoded data removed]",
      "text/plain": [
       "<Figure size 700x300 with 1 Axes>"
      ]
     },
     "metadata": {},
     "output_type": "display_data"
    }
   ],
   "source": [
    "freq = compute_frequency(samples)\n",
    "fig = plt.figure(figsize=(7, 3))\n",
    "plt.bar(freq.keys(), freq.values())\n",
    "plt.title(\"Number of samples per label\")\n",
    "plt.show()"
   ]
  },
  {
   "cell_type": "code",
   "execution_count": 12,
   "id": "e6f732fc-afda-4f3a-87df-70f98c375eb2",
   "metadata": {},
   "outputs": [
    {
     "name": "stdout",
     "output_type": "stream",
     "text": [
      "Threshold: 200\n"
     ]
    }
   ],
   "source": [
    "threshold = 200\n",
    "print(\"Threshold:\", threshold)\n",
    "\n",
    "def pivot(arr, keys):\n",
    "    global sample_label\n",
    "    a, b = [], []\n",
    "    for x in arr:\n",
    "        if keys.intersection(sample_label[x]):\n",
    "            b.append(x)\n",
    "        else:\n",
    "            a.append(x)\n",
    "    a.extend(b)\n",
    "    return a"
   ]
  },
  {
   "cell_type": "code",
   "execution_count": 13,
   "id": "41611f80-53fd-4375-9f27-ffbd96dd9382",
   "metadata": {},
   "outputs": [],
   "source": [
    "class_label = defaultdict(set)\n",
    "sample_label = defaultdict(set)\n",
    "predominant_labels = set([\"Y10\", \"G06\"])\n",
    "\n",
    "for rid, labels in df[\"labels\"].iteritems():\n",
    "    sample_label[rid].update(labels)\n",
    "    for x in labels:\n",
    "        class_label[x].add(rid)\n",
    "\n",
    "selected_samples = set()\n",
    "selected_labels = set()\n",
    "\n",
    "for label in sorted(freq, key=lambda x : freq.get(x)):\n",
    "    if len(class_label[label]) <= threshold:\n",
    "        selected_samples.update(class_label[label])\n",
    "        selected_labels.add(label)\n",
    "        continue\n",
    "\n",
    "    # compute number of samples needed to be drawn (ignoring duplicated samples)\n",
    "    included_samples = class_label[label].intersection(selected_samples)\n",
    "    sample_size = max(0, threshold - len(included_samples))\n",
    "\n",
    "    # samples that contain least unselected labels have the highest priority\n",
    "    sample_space = list(class_label[label].difference(selected_samples))\n",
    "    sorted_sample_space = sorted(sample_space, key=lambda x : len(sample_label[x].difference(selected_labels)))\n",
    "    sorted_sample_space = pivot(sorted_sample_space, predominant_labels)\n",
    "    choices = random_state.choice(sorted_sample_space[:sample_size + 50], sample_size, replace=False)\n",
    "    \n",
    "    selected_samples.update(choices)\n",
    "    selected_labels.add(label)\n",
    "\n",
    "new_samples = [x for i, x in enumerate(samples) if i in selected_samples]"
   ]
  },
  {
   "cell_type": "code",
   "execution_count": 14,
   "id": "b145cf42-9d7f-4b20-8ecc-796af573ffb6",
   "metadata": {},
   "outputs": [
    {
     "data": {
      "text/plain": [
       "4440"
      ]
     },
     "execution_count": 14,
     "metadata": {},
     "output_type": "execute_result"
    }
   ],
   "source": [
    "len(new_samples)"
   ]
  },
  {
   "cell_type": "code",
   "execution_count": 15,
   "id": "0ea02ebc-6a90-48cc-abfa-589300d409f7",
   "metadata": {},
   "outputs": [
    {
     "data": {
      "image/png": "[encoded data removed]",
      "text/plain": [
       "<Figure size 600x300 with 1 Axes>"
      ]
     },
     "metadata": {},
     "output_type": "display_data"
    },
    {
     "data": {
      "text/plain": [
       "count     34.000000\n",
       "mean     211.411765\n",
       "std       10.745309\n",
       "min      200.000000\n",
       "25%      203.250000\n",
       "50%      208.000000\n",
       "75%      216.750000\n",
       "max      241.000000\n",
       "dtype: float64"
      ]
     },
     "execution_count": 15,
     "metadata": {},
     "output_type": "execute_result"
    }
   ],
   "source": [
    "new_freq = compute_frequency(new_samples)\n",
    "new_freq = {k: new_freq[k] for k in sorted(new_freq, key=new_freq.get)}\n",
    "fig = plt.figure(figsize=(6, 3))\n",
    "plt.bar(new_freq.keys(), new_freq.values())\n",
    "plt.title(\"Number of samples per label\")\n",
    "plt.show()\n",
    "pd.Series(new_freq).describe()"
   ]
  },
  {
   "cell_type": "code",
   "execution_count": 16,
   "id": "0be7a32a-c364-4ad1-a13d-dbb9b0ddedc5",
   "metadata": {},
   "outputs": [
    {
     "data": {
      "image/png": "[encoded data removed]",
      "text/plain": [
       "<Figure size 500x300 with 1 Axes>"
      ]
     },
     "metadata": {},
     "output_type": "display_data"
    },
    {
     "data": {
      "text/plain": [
       "count    4440.000000\n",
       "mean        1.618919\n",
       "std         0.891906\n",
       "min         1.000000\n",
       "25%         1.000000\n",
       "50%         1.000000\n",
       "75%         2.000000\n",
       "max        12.000000\n",
       "Name: labels, dtype: float64"
      ]
     },
     "execution_count": 16,
     "metadata": {},
     "output_type": "execute_result"
    }
   ],
   "source": [
    "new_df = pd.DataFrame(new_samples)\n",
    "fig = plt.figure(figsize=(5, 3))\n",
    "ax = new_df[\"labels\"].apply(lambda x : len(x)).value_counts().plot(kind=\"bar\");\n",
    "ax.set_title(\"Number of labels per patent\");\n",
    "plt.show()\n",
    "new_df[\"labels\"].apply(lambda x : len(x)).describe()"
   ]
  },
  {
   "cell_type": "markdown",
   "id": "ffd6d102-c9e0-47b8-affb-ab29645ec439",
   "metadata": {},
   "source": [
    "## Data Splitting"
   ]
  },
  {
   "cell_type": "code",
   "execution_count": 17,
   "id": "bff34985-6f72-4abb-90a0-b3cd0349b92a",
   "metadata": {},
   "outputs": [],
   "source": [
    "df = new_df\n",
    "samples = new_samples"
   ]
  },
  {
   "cell_type": "code",
   "execution_count": 18,
   "id": "b5aaa912-9f60-4be0-bd81-62762181e7fe",
   "metadata": {},
   "outputs": [
    {
     "data": {
      "text/plain": [
       "(4440, 34)"
      ]
     },
     "execution_count": 18,
     "metadata": {},
     "output_type": "execute_result"
    }
   ],
   "source": [
    "X_raw = np.array([[x] for x in samples])\n",
    "y_raw = np.matrix([utils.get_onehot(x[\"labels\"], label_ids) for x in samples])\n",
    "X, y = {}, {}\n",
    "y_raw.shape"
   ]
  },
  {
   "cell_type": "code",
   "execution_count": 19,
   "id": "1d86ced1-7bab-410d-a9c5-f0757473d109",
   "metadata": {},
   "outputs": [],
   "source": [
    "X[\"train\"], y[\"train\"], X[\"test\"], y[\"test\"] = iterative_train_test_split(X_raw, y_raw, test_size=0.1)"
   ]
  },
  {
   "cell_type": "code",
   "execution_count": 20,
   "id": "44441cb8-296d-4a0e-8c5d-2fb6b0427b99",
   "metadata": {},
   "outputs": [
    {
     "data": {
      "text/plain": [
       "set()"
      ]
     },
     "execution_count": 20,
     "metadata": {},
     "output_type": "execute_result"
    }
   ],
   "source": [
    "# Make sure all sets share the same set of labels\n",
    "set(np.unique(np.where(y[\"train\"] == 1)[1]).tolist()).difference(set(np.unique(np.where(y[\"test\"] == 1)[1]).tolist()))"
   ]
  },
  {
   "cell_type": "code",
   "execution_count": 21,
   "id": "958c4780-60ab-4c2c-915b-9cd84a496e6b",
   "metadata": {},
   "outputs": [],
   "source": [
    "X[\"train\"], y[\"train\"], X[\"dev\"], y[\"dev\"] = iterative_train_test_split(X[\"train\"], y[\"train\"], test_size=len(y[\"test\"]) / len(y[\"train\"]))"
   ]
  },
  {
   "cell_type": "code",
   "execution_count": 22,
   "id": "016740fc-abef-4256-9367-b7dbbbf332f5",
   "metadata": {},
   "outputs": [
    {
     "data": {
      "text/plain": [
       "set()"
      ]
     },
     "execution_count": 22,
     "metadata": {},
     "output_type": "execute_result"
    }
   ],
   "source": [
    "# Make sure all sets share the same set of labels\n",
    "set(np.unique(np.where(y[\"train\"] == 1)[1]).tolist()).difference(set(np.unique(np.where(y[\"dev\"] == 1)[1]).tolist()))"
   ]
  },
  {
   "cell_type": "code",
   "execution_count": 23,
   "id": "dc7655e4-6dfb-4bf8-a254-4370d32b07c2",
   "metadata": {},
   "outputs": [],
   "source": [
    "samples = []\n",
    "for data_type in (\"train\", \"dev\", \"test\"):\n",
    "    for sample in X[data_type]:\n",
    "        sample = sample[0]\n",
    "        sample[\"is_train\"] = sample[\"is_dev\"] = sample[\"is_test\"] = False\n",
    "        sample[f\"is_{data_type}\"] = True\n",
    "        samples.append(sample)"
   ]
  },
  {
   "cell_type": "code",
   "execution_count": 24,
   "id": "9af2d964-d89f-4993-b234-ec3c7ab344be",
   "metadata": {},
   "outputs": [
    {
     "data": {
      "text/html": [
       "<div>\n",
       "<style scoped>\n",
       "    .dataframe tbody tr th:only-of-type {\n",
       "        vertical-align: middle;\n",
       "    }\n",
       "\n",
       "    .dataframe tbody tr th {\n",
       "        vertical-align: top;\n",
       "    }\n",
       "\n",
       "    .dataframe thead th {\n",
       "        text-align: right;\n",
       "    }\n",
       "</style>\n",
       "<table border=\"1\" class=\"dataframe\">\n",
       "  <thead>\n",
       "    <tr style=\"text-align: right;\">\n",
       "      <th></th>\n",
       "      <th>id</th>\n",
       "      <th>title</th>\n",
       "      <th>desc</th>\n",
       "      <th>content</th>\n",
       "      <th>labels</th>\n",
       "      <th>is_train</th>\n",
       "      <th>is_dev</th>\n",
       "      <th>is_test</th>\n",
       "    </tr>\n",
       "  </thead>\n",
       "  <tbody>\n",
       "    <tr>\n",
       "      <th>0</th>\n",
       "      <td>US-10089316-B1</td>\n",
       "      <td>Managing multiple file system expansions</td>\n",
       "      <td>BACKGROUND Data storage systems are arrangemen...</td>\n",
       "      <td>What is claimed is: 1. A method of managing mu...</td>\n",
       "      <td>[G06]</td>\n",
       "      <td>True</td>\n",
       "      <td>False</td>\n",
       "      <td>False</td>\n",
       "    </tr>\n",
       "    <tr>\n",
       "      <th>1</th>\n",
       "      <td>US-10048471-B2</td>\n",
       "      <td>Photographing system, image capturing unit and...</td>\n",
       "      <td>RELATED APPLICATIONS This application is a con...</td>\n",
       "      <td>What is claimed is: 1. A photographing system ...</td>\n",
       "      <td>[G02]</td>\n",
       "      <td>True</td>\n",
       "      <td>False</td>\n",
       "      <td>False</td>\n",
       "    </tr>\n",
       "    <tr>\n",
       "      <th>2</th>\n",
       "      <td>US-10103729-B2</td>\n",
       "      <td>Auxiliary commutated silicon-controlled rectif...</td>\n",
       "      <td>BACKGROUND An electrical load which receives p...</td>\n",
       "      <td>What is claimed is: 1. A device comprising: a ...</td>\n",
       "      <td>[H03, H02]</td>\n",
       "      <td>True</td>\n",
       "      <td>False</td>\n",
       "      <td>False</td>\n",
       "    </tr>\n",
       "    <tr>\n",
       "      <th>3</th>\n",
       "      <td>US-10153439-B2</td>\n",
       "      <td>Charge transport material</td>\n",
       "      <td>TECHNICAL FIELD This invention relates to a ch...</td>\n",
       "      <td>The invention claimed is: 1. A charge-transpor...</td>\n",
       "      <td>[H01, C09, H05]</td>\n",
       "      <td>True</td>\n",
       "      <td>False</td>\n",
       "      <td>False</td>\n",
       "    </tr>\n",
       "    <tr>\n",
       "      <th>4</th>\n",
       "      <td>US-2006144720-A1</td>\n",
       "      <td>Chemical sensors</td>\n",
       "      <td>RELATED APPLICATION This application claims pr...</td>\n",
       "      <td>1 . A method for detecting one or more metals ...</td>\n",
       "      <td>[G01]</td>\n",
       "      <td>True</td>\n",
       "      <td>False</td>\n",
       "      <td>False</td>\n",
       "    </tr>\n",
       "  </tbody>\n",
       "</table>\n",
       "</div>"
      ],
      "text/plain": [
       "                 id                                              title  \\\n",
       "0    US-10089316-B1           Managing multiple file system expansions   \n",
       "1    US-10048471-B2  Photographing system, image capturing unit and...   \n",
       "2    US-10103729-B2  Auxiliary commutated silicon-controlled rectif...   \n",
       "3    US-10153439-B2                          Charge transport material   \n",
       "4  US-2006144720-A1                                   Chemical sensors   \n",
       "\n",
       "                                                desc  \\\n",
       "0  BACKGROUND Data storage systems are arrangemen...   \n",
       "1  RELATED APPLICATIONS This application is a con...   \n",
       "2  BACKGROUND An electrical load which receives p...   \n",
       "3  TECHNICAL FIELD This invention relates to a ch...   \n",
       "4  RELATED APPLICATION This application claims pr...   \n",
       "\n",
       "                                             content           labels  \\\n",
       "0  What is claimed is: 1. A method of managing mu...            [G06]   \n",
       "1  What is claimed is: 1. A photographing system ...            [G02]   \n",
       "2  What is claimed is: 1. A device comprising: a ...       [H03, H02]   \n",
       "3  The invention claimed is: 1. A charge-transpor...  [H01, C09, H05]   \n",
       "4  1 . A method for detecting one or more metals ...            [G01]   \n",
       "\n",
       "   is_train  is_dev  is_test  \n",
       "0      True   False    False  \n",
       "1      True   False    False  \n",
       "2      True   False    False  \n",
       "3      True   False    False  \n",
       "4      True   False    False  "
      ]
     },
     "execution_count": 24,
     "metadata": {},
     "output_type": "execute_result"
    }
   ],
   "source": [
    "df = pd.DataFrame(samples)\n",
    "df.head()"
   ]
  },
  {
   "cell_type": "code",
   "execution_count": 25,
   "id": "965d5566-355d-496a-bf15-799517fa5248",
   "metadata": {},
   "outputs": [
    {
     "name": "stdout",
     "output_type": "stream",
     "text": [
      "3566 & 436 & 438 & 920 & 4609 & 34\n"
     ]
    }
   ],
   "source": [
    "num_words = int(df[\"content\"].apply(lambda x : len(x.split())).mean())\n",
    "num_chars = int(df[\"content\"].apply(lambda x : sum(1 for e in x if e.strip())).mean())\n",
    "num_train = len(df[df[\"is_train\"] == True])\n",
    "num_val = len(df[df[\"is_dev\"] == True])\n",
    "num_test = len(df[df[\"is_test\"] == True])\n",
    "num_labels = len(label_ids)\n",
    "print(\"{} & {} & {} & {} & {} & {}\".format(num_train, num_val, num_test, num_words, num_chars, num_labels))"
   ]
  },
  {
   "cell_type": "code",
   "execution_count": 26,
   "id": "19916455-7779-4196-99ef-210549b4b305",
   "metadata": {},
   "outputs": [
    {
     "data": {
      "text/plain": [
       "(3566, 436, 438)"
      ]
     },
     "execution_count": 26,
     "metadata": {},
     "output_type": "execute_result"
    }
   ],
   "source": [
    "sum(df[\"is_train\"]), sum(df[\"is_dev\"]), sum(df[\"is_test\"])"
   ]
  },
  {
   "cell_type": "code",
   "execution_count": 27,
   "id": "ddc12ae8-03ee-4af4-9761-e0f0db48d3e0",
   "metadata": {},
   "outputs": [
    {
     "data": {
      "text/html": [
       "<div>\n",
       "<style scoped>\n",
       "    .dataframe tbody tr th:only-of-type {\n",
       "        vertical-align: middle;\n",
       "    }\n",
       "\n",
       "    .dataframe tbody tr th {\n",
       "        vertical-align: top;\n",
       "    }\n",
       "\n",
       "    .dataframe thead th {\n",
       "        text-align: right;\n",
       "    }\n",
       "</style>\n",
       "<table border=\"1\" class=\"dataframe\">\n",
       "  <thead>\n",
       "    <tr style=\"text-align: right;\">\n",
       "      <th></th>\n",
       "      <th>id</th>\n",
       "      <th>title</th>\n",
       "      <th>desc</th>\n",
       "      <th>content</th>\n",
       "      <th>labels</th>\n",
       "      <th>is_train</th>\n",
       "      <th>is_dev</th>\n",
       "      <th>is_test</th>\n",
       "    </tr>\n",
       "  </thead>\n",
       "  <tbody>\n",
       "  </tbody>\n",
       "</table>\n",
       "</div>"
      ],
      "text/plain": [
       "Empty DataFrame\n",
       "Columns: [id, title, desc, content, labels, is_train, is_dev, is_test]\n",
       "Index: []"
      ]
     },
     "execution_count": 27,
     "metadata": {},
     "output_type": "execute_result"
    }
   ],
   "source": [
    "# Check if there is any empty patent\n",
    "df[df[\"content\"].apply(lambda x : len(x)) == 0]"
   ]
  },
  {
   "cell_type": "markdown",
   "id": "3e3954fe-6684-43bf-b312-a6227045f6cc",
   "metadata": {},
   "source": [
    "## Save data"
   ]
  },
  {
   "cell_type": "code",
   "execution_count": 28,
   "id": "0cf39e2b-a530-451f-aafa-cafdef8eb0c9",
   "metadata": {},
   "outputs": [
    {
     "name": "stderr",
     "output_type": "stream",
     "text": [
      "100%|██████████| 4440/4440 [00:01<00:00, 2333.55it/s]\n"
     ]
    }
   ],
   "source": [
    "with open(save_data_path, \"w\") as f:\n",
    "    for sample in tqdm(samples):\n",
    "        f.write(json.dumps(sample, ensure_ascii=False) + \"\\n\")\n",
    "utils.dump_json(label_ids, save_label_path)"
   ]
  }
 ],
 "metadata": {
  "kernelspec": {
   "display_name": "Python 3",
   "language": "python",
   "name": "python3"
  },
  "language_info": {
   "codemirror_mode": {
    "name": "ipython",
    "version": 3
   },
   "file_extension": ".py",
   "mimetype": "text/x-python",
   "name": "python",
   "nbconvert_exporter": "python",
   "pygments_lexer": "ipython3",
   "version": "3.8.11"
  }
 },
 "nbformat": 4,
 "nbformat_minor": 5
}
