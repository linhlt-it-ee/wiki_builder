{
 "cells": [
  {
   "cell_type": "code",
   "execution_count": 1,
   "id": "f3917ced-0671-4894-bee9-51545981cbbe",
   "metadata": {},
   "outputs": [],
   "source": [
    "import os\n",
    "import json\n",
    "import sys\n",
    "sys.path.append(\"../\")\n",
    "\n",
    "from tqdm import tqdm\n",
    "import numpy as np\n",
    "import utils\n",
    "import matplotlib.pyplot as plt"
   ]
  },
  {
   "cell_type": "code",
   "execution_count": 2,
   "id": "37d2db6b-52a7-42c6-8d0e-f135cd7b1a61",
   "metadata": {},
   "outputs": [],
   "source": [
    "data_dir = \"../../data/google_patents/us-25000\"\n",
    "data_ratio = {\"train\": 0.8, \"dev\": 0.1, \"test\": 0.1}\n",
    "random_state = np.random.RandomState(1)\n",
    "\n",
    "save_data_path = os.path.join(data_dir, \"data.ndjson\")\n",
    "save_label_path = os.path.join(data_dir, \"doc_label_encoder.json\")"
   ]
  },
  {
   "cell_type": "code",
   "execution_count": 3,
   "id": "73b8e7a2-9bb1-4591-bbf5-7eda8d8917a3",
   "metadata": {},
   "outputs": [
    {
     "name": "stdout",
     "output_type": "stream",
     "text": [
      "Number of document files: 10\n"
     ]
    }
   ],
   "source": [
    "doc_files = utils.get_file_name_in_dir(os.path.join(data_dir, \"doc\"), \"json\")\n",
    "print(\"Number of document files:\", len(doc_files))"
   ]
  },
  {
   "cell_type": "markdown",
   "id": "827cff56-424e-468b-9820-97b8648d3c76",
   "metadata": {},
   "source": [
    "**Data format:**\n",
    "\n",
    "A .json file contains multiple patents on different lines.\n",
    "\n",
    "Format of each patent:\n",
    "\n",
    "```json\n",
    "{\n",
    "    \"patent_id\": str,\n",
    "    \"title\": [{\"text\": str, \"language\": str, \"truncated\": bool}],\n",
    "    \"description\": [{\"text\": str, \"language\": str, \"truncated\": bool}],\n",
    "    \"claims\": [{\"text\": str, \"language\": str, \"truncated\": bool}],\n",
    "    \"classifications\": [{\"code\": str, \"inventive\": bool, \"first\": bool, \"tree\": List[str]}, ...]\n",
    "}\n",
    "```"
   ]
  },
  {
   "cell_type": "code",
   "execution_count": 4,
   "id": "bb1c4645-0f91-425d-ab10-ab8492d4dff8",
   "metadata": {},
   "outputs": [
    {
     "data": {
      "text/plain": [
       "[{'code': 'A46B11/0006', 'inventive': True, 'first': True, 'tree': []},\n",
       " {'code': 'A46B9/023', 'inventive': True, 'first': False, 'tree': []},\n",
       " {'code': 'A45D24/28', 'inventive': True, 'first': False, 'tree': []},\n",
       " {'code': 'A46B5/0095', 'inventive': True, 'first': False, 'tree': []},\n",
       " {'code': 'A45D24/22', 'inventive': False, 'first': False, 'tree': []},\n",
       " {'code': 'A46B11/002', 'inventive': True, 'first': False, 'tree': []},\n",
       " {'code': 'A46B2200/104', 'inventive': False, 'first': False, 'tree': []},\n",
       " {'code': 'A46B9/023', 'inventive': True, 'first': False, 'tree': []},\n",
       " {'code': 'A46B2200/104', 'inventive': False, 'first': False, 'tree': []},\n",
       " {'code': 'A45D24/22', 'inventive': False, 'first': False, 'tree': []},\n",
       " {'code': 'A46B11/0006', 'inventive': True, 'first': True, 'tree': []},\n",
       " {'code': 'A46B5/0095', 'inventive': True, 'first': False, 'tree': []},\n",
       " {'code': 'A46B11/002', 'inventive': False, 'first': False, 'tree': []}]"
      ]
     },
     "execution_count": 4,
     "metadata": {},
     "output_type": "execute_result"
    }
   ],
   "source": [
    "sample_doc_file = doc_files[0]\n",
    "with open(sample_doc_file, \"r\") as f:\n",
    "    for line in f:\n",
    "        sample_doc = json.loads(line)\n",
    "        break\n",
    "sample_doc[\"classifications\"]"
   ]
  },
  {
   "cell_type": "code",
   "execution_count": 5,
   "id": "0b02e976-61ad-4e99-9c24-63c74e2d032c",
   "metadata": {},
   "outputs": [],
   "source": [
    "def get_id(doc):\n",
    "    return doc[\"patent_id\"]\n",
    "\n",
    "def get_content(doc):\n",
    "    return \"\\n\".join(c[\"text\"].strip() for c in doc[\"claims\"])\n",
    "\n",
    "def get_title(doc):\n",
    "    return \"\\n\".join(c[\"text\"] for c in doc[\"title\"])\n",
    "\n",
    "def get_label(doc):\n",
    "    return list(set(x[\"code\"][:4] for x in doc[\"classifications\"]))\n",
    "\n",
    "def get_sample(doc):\n",
    "    return {\"id\": get_id(doc), \"title\": get_title(doc), \"content\": get_content(doc), \"labels\": get_label(doc)}"
   ]
  },
  {
   "cell_type": "code",
   "execution_count": 6,
   "id": "7c4c8cf3-eafc-489a-ad85-b9cb2516e059",
   "metadata": {
    "tags": []
   },
   "outputs": [
    {
     "name": "stdout",
     "output_type": "stream",
     "text": [
      "Number of valid documents: 17952\n"
     ]
    }
   ],
   "source": [
    "samples = []\n",
    "for fname in doc_files:\n",
    "    with open(fname, \"r\") as f:\n",
    "        for line in f:\n",
    "            doc = json.loads(line)\n",
    "            if get_label(doc) and get_content(doc):\n",
    "                samples.append(get_sample(doc))\n",
    "        \n",
    "doc_ids = random_state.permutation([x[\"id\"] for x in samples if x[\"labels\"]])\n",
    "print(\"Number of valid documents:\", len(doc_ids))"
   ]
  },
  {
   "cell_type": "code",
   "execution_count": 7,
   "id": "3357e7b8-ea45-4b4b-9316-4a1f10302d82",
   "metadata": {},
   "outputs": [
    {
     "name": "stdout",
     "output_type": "stream",
     "text": [
      "Number of labels: 233\n"
     ]
    }
   ],
   "source": [
    "freq = {}\n",
    "for x in samples:\n",
    "    for label in x[\"labels\"]:\n",
    "        freq[label] = freq.get(label, 0) + 1\n",
    "\n",
    "labels = set(k for k, v in freq.items() if v >= 30)\n",
    "label_ids = {x : i for i, x in enumerate(sorted(labels))}\n",
    "utils.dump_json(label_ids, save_label_path)\n",
    "print(\"Number of labels:\", len(labels))"
   ]
  },
  {
   "cell_type": "code",
   "execution_count": 8,
   "id": "5515848c-a74b-4f56-a30a-fe4230b6fbba",
   "metadata": {},
   "outputs": [
    {
     "name": "stderr",
     "output_type": "stream",
     "text": [
      "100%|██████████| 17952/17952 [00:00<00:00, 487098.32it/s]\n"
     ]
    }
   ],
   "source": [
    "new_samples = []\n",
    "for sample in tqdm(samples):\n",
    "    sample[\"labels\"] = [e for e in sample[\"labels\"] if e in labels]\n",
    "    if len(sample[\"labels\"]) != 0:\n",
    "        new_samples.append(sample)\n",
    "\n",
    "samples = new_samples"
   ]
  },
  {
   "cell_type": "code",
   "execution_count": 9,
   "id": "61df6468-508f-4163-9fa9-0ce2237b9ebf",
   "metadata": {},
   "outputs": [
    {
     "data": {
      "text/plain": [
       "(17009, 233)"
      ]
     },
     "execution_count": 9,
     "metadata": {},
     "output_type": "execute_result"
    }
   ],
   "source": [
    "from skmultilearn.model_selection import iterative_train_test_split\n",
    "X_raw = np.array([[x] for x in samples])\n",
    "y_raw = np.matrix([utils.get_onehot(x[\"labels\"], label_ids) for x in samples])\n",
    "X, y = {}, {}\n",
    "y_raw.shape"
   ]
  },
  {
   "cell_type": "code",
   "execution_count": 10,
   "id": "9ce697b7-b5eb-4301-93d7-c64fd9534cf0",
   "metadata": {},
   "outputs": [],
   "source": [
    "X[\"train\"], y[\"train\"], X[\"test\"], y[\"test\"] = iterative_train_test_split(X_raw, y_raw, test_size=0.1)"
   ]
  },
  {
   "cell_type": "code",
   "execution_count": 11,
   "id": "5b8cd1ad-2fa7-4014-81e1-3973031cda22",
   "metadata": {},
   "outputs": [
    {
     "data": {
      "text/plain": [
       "set()"
      ]
     },
     "execution_count": 11,
     "metadata": {},
     "output_type": "execute_result"
    }
   ],
   "source": [
    "set(np.unique(np.where(y[\"train\"] == 1)[1]).tolist()).difference(set(np.unique(np.where(y[\"test\"] == 1)[1]).tolist()))"
   ]
  },
  {
   "cell_type": "code",
   "execution_count": 12,
   "id": "87eb790f-77a3-4d82-999b-bc44ceb328cb",
   "metadata": {},
   "outputs": [],
   "source": [
    "X[\"train\"], y[\"train\"], X[\"dev\"], y[\"dev\"] = iterative_train_test_split(X[\"train\"], y[\"train\"], test_size=len(y[\"test\"]) / len(y[\"train\"]))"
   ]
  },
  {
   "cell_type": "code",
   "execution_count": 13,
   "id": "00d7209f-b305-47ce-95f4-53565dd990d0",
   "metadata": {},
   "outputs": [
    {
     "data": {
      "text/plain": [
       "set()"
      ]
     },
     "execution_count": 13,
     "metadata": {},
     "output_type": "execute_result"
    }
   ],
   "source": [
    "set(np.unique(np.where(y[\"train\"] == 1)[1]).tolist()).difference(set(np.unique(np.where(y[\"dev\"] == 1)[1]).tolist()))"
   ]
  },
  {
   "cell_type": "code",
   "execution_count": 14,
   "id": "d033252c-d4a4-4d9f-b8be-1dd9324e3046",
   "metadata": {},
   "outputs": [],
   "source": [
    "samples = []\n",
    "for data_type in (\"train\", \"dev\", \"test\"):\n",
    "    for sample in X[data_type]:\n",
    "        sample = sample[0]\n",
    "        sample[\"is_train\"] = sample[\"is_dev\"] = sample[\"is_test\"] = False\n",
    "        sample[f\"is_{data_type}\"] = True\n",
    "        samples.append(sample)"
   ]
  },
  {
   "cell_type": "code",
   "execution_count": 15,
   "id": "a892120c-8454-4a59-a639-70c10b6bfdbd",
   "metadata": {},
   "outputs": [
    {
     "name": "stderr",
     "output_type": "stream",
     "text": [
      "100%|██████████| 17009/17009 [00:01<00:00, 13847.74it/s]\n"
     ]
    }
   ],
   "source": [
    "with open(save_data_path, \"w\") as f:\n",
    "    for sample in tqdm(samples):\n",
    "        f.write(json.dumps(sample, ensure_ascii=False) + \"\\n\")"
   ]
  },
  {
   "cell_type": "code",
   "execution_count": 16,
   "id": "5d2ca531-2da9-4a40-8532-3f57a981d572",
   "metadata": {},
   "outputs": [
    {
     "data": {
      "text/html": [
       "<div>\n",
       "<style scoped>\n",
       "    .dataframe tbody tr th:only-of-type {\n",
       "        vertical-align: middle;\n",
       "    }\n",
       "\n",
       "    .dataframe tbody tr th {\n",
       "        vertical-align: top;\n",
       "    }\n",
       "\n",
       "    .dataframe thead th {\n",
       "        text-align: right;\n",
       "    }\n",
       "</style>\n",
       "<table border=\"1\" class=\"dataframe\">\n",
       "  <thead>\n",
       "    <tr style=\"text-align: right;\">\n",
       "      <th></th>\n",
       "      <th>id</th>\n",
       "      <th>title</th>\n",
       "      <th>content</th>\n",
       "      <th>labels</th>\n",
       "      <th>is_train</th>\n",
       "      <th>is_dev</th>\n",
       "      <th>is_test</th>\n",
       "    </tr>\n",
       "  </thead>\n",
       "  <tbody>\n",
       "    <tr>\n",
       "      <th>0</th>\n",
       "      <td>US-10194740-B2</td>\n",
       "      <td>Fluid dispensing brush assembly</td>\n",
       "      <td>I claim: \\n     \\n       1. A fluid dispensing...</td>\n",
       "      <td>[A45D]</td>\n",
       "      <td>True</td>\n",
       "      <td>False</td>\n",
       "      <td>False</td>\n",
       "    </tr>\n",
       "    <tr>\n",
       "      <th>1</th>\n",
       "      <td>US-10193177-B2</td>\n",
       "      <td>Fuel cell system and operating method therefor</td>\n",
       "      <td>The invention claimed is: \\n     \\n       1. A...</td>\n",
       "      <td>[H01M, Y02E, Y02T]</td>\n",
       "      <td>True</td>\n",
       "      <td>False</td>\n",
       "      <td>False</td>\n",
       "    </tr>\n",
       "    <tr>\n",
       "      <th>2</th>\n",
       "      <td>US-10115795-B2</td>\n",
       "      <td>Semiconductor device and method of manufacturi...</td>\n",
       "      <td>What is claimed is: \\n     \\n       1. A semic...</td>\n",
       "      <td>[H01L]</td>\n",
       "      <td>True</td>\n",
       "      <td>False</td>\n",
       "      <td>False</td>\n",
       "    </tr>\n",
       "    <tr>\n",
       "      <th>3</th>\n",
       "      <td>US-10045307-B2</td>\n",
       "      <td>Communication system for setting an uplink tar...</td>\n",
       "      <td>The invention claimed is: \\n     \\n       1. A...</td>\n",
       "      <td>[H04W]</td>\n",
       "      <td>True</td>\n",
       "      <td>False</td>\n",
       "      <td>False</td>\n",
       "    </tr>\n",
       "    <tr>\n",
       "      <th>4</th>\n",
       "      <td>US-10103729-B2</td>\n",
       "      <td>Auxiliary commutated silicon-controlled rectif...</td>\n",
       "      <td>What is claimed is: \\n     \\n       1. A devic...</td>\n",
       "      <td>[H03K, H02M]</td>\n",
       "      <td>True</td>\n",
       "      <td>False</td>\n",
       "      <td>False</td>\n",
       "    </tr>\n",
       "    <tr>\n",
       "      <th>...</th>\n",
       "      <td>...</td>\n",
       "      <td>...</td>\n",
       "      <td>...</td>\n",
       "      <td>...</td>\n",
       "      <td>...</td>\n",
       "      <td>...</td>\n",
       "      <td>...</td>\n",
       "    </tr>\n",
       "    <tr>\n",
       "      <th>17004</th>\n",
       "      <td>US-2013022248-A1</td>\n",
       "      <td>Biometrics based on locally consistent features</td>\n",
       "      <td>1 . A method of performing a biometric functio...</td>\n",
       "      <td>[G07C, A61B, G06K]</td>\n",
       "      <td>False</td>\n",
       "      <td>False</td>\n",
       "      <td>True</td>\n",
       "    </tr>\n",
       "    <tr>\n",
       "      <th>17005</th>\n",
       "      <td>US-2012172256-A1</td>\n",
       "      <td>Cantilevered probes having piezoelectric layer...</td>\n",
       "      <td>1 . A chemical sensor system comprising:\\n a f...</td>\n",
       "      <td>[B82Y]</td>\n",
       "      <td>False</td>\n",
       "      <td>False</td>\n",
       "      <td>True</td>\n",
       "    </tr>\n",
       "    <tr>\n",
       "      <th>17006</th>\n",
       "      <td>US-9815821-B2</td>\n",
       "      <td>Condensed-cyclic compound and organic light em...</td>\n",
       "      <td>What is claimed is: \\n     \\n       1. A conde...</td>\n",
       "      <td>[C07D, H01L]</td>\n",
       "      <td>False</td>\n",
       "      <td>False</td>\n",
       "      <td>True</td>\n",
       "    </tr>\n",
       "    <tr>\n",
       "      <th>17007</th>\n",
       "      <td>US-9823534-B2</td>\n",
       "      <td>Electrochromic single and two-core viologens a...</td>\n",
       "      <td>The invention claimed is: \\n     \\n       1. A...</td>\n",
       "      <td>[G02F, C07D, C09K]</td>\n",
       "      <td>False</td>\n",
       "      <td>False</td>\n",
       "      <td>True</td>\n",
       "    </tr>\n",
       "    <tr>\n",
       "      <th>17008</th>\n",
       "      <td>US-RE33638-E</td>\n",
       "      <td>Mobile fan for poultry farming</td>\n",
       "      <td>What is claimed is: \\n     \\n       1. A metho...</td>\n",
       "      <td>[A01K, F02B, F04D]</td>\n",
       "      <td>False</td>\n",
       "      <td>False</td>\n",
       "      <td>True</td>\n",
       "    </tr>\n",
       "  </tbody>\n",
       "</table>\n",
       "<p>17009 rows × 7 columns</p>\n",
       "</div>"
      ],
      "text/plain": [
       "                     id                                              title  \\\n",
       "0        US-10194740-B2                    Fluid dispensing brush assembly   \n",
       "1        US-10193177-B2     Fuel cell system and operating method therefor   \n",
       "2        US-10115795-B2  Semiconductor device and method of manufacturi...   \n",
       "3        US-10045307-B2  Communication system for setting an uplink tar...   \n",
       "4        US-10103729-B2  Auxiliary commutated silicon-controlled rectif...   \n",
       "...                 ...                                                ...   \n",
       "17004  US-2013022248-A1    Biometrics based on locally consistent features   \n",
       "17005  US-2012172256-A1  Cantilevered probes having piezoelectric layer...   \n",
       "17006     US-9815821-B2  Condensed-cyclic compound and organic light em...   \n",
       "17007     US-9823534-B2  Electrochromic single and two-core viologens a...   \n",
       "17008      US-RE33638-E                     Mobile fan for poultry farming   \n",
       "\n",
       "                                                 content              labels  \\\n",
       "0      I claim: \\n     \\n       1. A fluid dispensing...              [A45D]   \n",
       "1      The invention claimed is: \\n     \\n       1. A...  [H01M, Y02E, Y02T]   \n",
       "2      What is claimed is: \\n     \\n       1. A semic...              [H01L]   \n",
       "3      The invention claimed is: \\n     \\n       1. A...              [H04W]   \n",
       "4      What is claimed is: \\n     \\n       1. A devic...        [H03K, H02M]   \n",
       "...                                                  ...                 ...   \n",
       "17004  1 . A method of performing a biometric functio...  [G07C, A61B, G06K]   \n",
       "17005  1 . A chemical sensor system comprising:\\n a f...              [B82Y]   \n",
       "17006  What is claimed is: \\n     \\n       1. A conde...        [C07D, H01L]   \n",
       "17007  The invention claimed is: \\n     \\n       1. A...  [G02F, C07D, C09K]   \n",
       "17008  What is claimed is: \\n     \\n       1. A metho...  [A01K, F02B, F04D]   \n",
       "\n",
       "       is_train  is_dev  is_test  \n",
       "0          True   False    False  \n",
       "1          True   False    False  \n",
       "2          True   False    False  \n",
       "3          True   False    False  \n",
       "4          True   False    False  \n",
       "...         ...     ...      ...  \n",
       "17004     False   False     True  \n",
       "17005     False   False     True  \n",
       "17006     False   False     True  \n",
       "17007     False   False     True  \n",
       "17008     False   False     True  \n",
       "\n",
       "[17009 rows x 7 columns]"
      ]
     },
     "execution_count": 16,
     "metadata": {},
     "output_type": "execute_result"
    }
   ],
   "source": [
    "import pandas as pd\n",
    "df = pd.DataFrame(samples)\n",
    "df"
   ]
  },
  {
   "cell_type": "code",
   "execution_count": 17,
   "id": "0ad13718-db0d-4d06-93cf-6ee48669ad07",
   "metadata": {},
   "outputs": [
    {
     "data": {
      "text/plain": [
       "(13502, 1781, 1726)"
      ]
     },
     "execution_count": 17,
     "metadata": {},
     "output_type": "execute_result"
    }
   ],
   "source": [
    "sum(df[\"is_train\"]), sum(df[\"is_dev\"]), sum(df[\"is_test\"])"
   ]
  },
  {
   "cell_type": "code",
   "execution_count": 18,
   "id": "d650b93f-bbcc-48aa-83c1-891bddd8f128",
   "metadata": {},
   "outputs": [
    {
     "data": {
      "image/png": "[encoded data removed]",
      "text/plain": [
       "<Figure size 640x480 with 1 Axes>"
      ]
     },
     "metadata": {},
     "output_type": "display_data"
    }
   ],
   "source": [
    "ax = df[\"labels\"].apply(lambda x : len(x)).value_counts().plot(kind=\"bar\");\n",
    "ax.set_title(\"Number of labels per patent\");\n",
    "plt.show()"
   ]
  },
  {
   "cell_type": "markdown",
   "id": "b66aa843-9cbc-4cb2-9d29-7966746f4f0c",
   "metadata": {},
   "source": [
    "**Check**"
   ]
  },
  {
   "cell_type": "code",
   "execution_count": 19,
   "id": "965d5566-355d-496a-bf15-799517fa5248",
   "metadata": {},
   "outputs": [
    {
     "data": {
      "text/plain": [
       "1009.689634899171"
      ]
     },
     "execution_count": 19,
     "metadata": {},
     "output_type": "execute_result"
    }
   ],
   "source": [
    "df[\"content\"].apply(lambda x : len(x.split())).mean()"
   ]
  },
  {
   "cell_type": "code",
   "execution_count": 20,
   "id": "c020ebee-4566-4ac7-be45-52d4a4967237",
   "metadata": {},
   "outputs": [
    {
     "data": {
      "text/plain": [
       "233"
      ]
     },
     "execution_count": 20,
     "metadata": {},
     "output_type": "execute_result"
    }
   ],
   "source": [
    "len(label_ids)"
   ]
  },
  {
   "cell_type": "code",
   "execution_count": 21,
   "id": "ddc12ae8-03ee-4af4-9761-e0f0db48d3e0",
   "metadata": {},
   "outputs": [
    {
     "data": {
      "text/html": [
       "<div>\n",
       "<style scoped>\n",
       "    .dataframe tbody tr th:only-of-type {\n",
       "        vertical-align: middle;\n",
       "    }\n",
       "\n",
       "    .dataframe tbody tr th {\n",
       "        vertical-align: top;\n",
       "    }\n",
       "\n",
       "    .dataframe thead th {\n",
       "        text-align: right;\n",
       "    }\n",
       "</style>\n",
       "<table border=\"1\" class=\"dataframe\">\n",
       "  <thead>\n",
       "    <tr style=\"text-align: right;\">\n",
       "      <th></th>\n",
       "      <th>id</th>\n",
       "      <th>title</th>\n",
       "      <th>content</th>\n",
       "      <th>labels</th>\n",
       "      <th>is_train</th>\n",
       "      <th>is_dev</th>\n",
       "      <th>is_test</th>\n",
       "    </tr>\n",
       "  </thead>\n",
       "  <tbody>\n",
       "  </tbody>\n",
       "</table>\n",
       "</div>"
      ],
      "text/plain": [
       "Empty DataFrame\n",
       "Columns: [id, title, content, labels, is_train, is_dev, is_test]\n",
       "Index: []"
      ]
     },
     "execution_count": 21,
     "metadata": {},
     "output_type": "execute_result"
    }
   ],
   "source": [
    "df[df[\"content\"].apply(lambda x : len(x)) == 0]"
   ]
  },
  {
   "cell_type": "code",
   "execution_count": 22,
   "id": "e2f0b7db-457d-4a86-bb52-df747e285e3d",
   "metadata": {},
   "outputs": [
    {
     "data": {
      "text/plain": [
       "233"
      ]
     },
     "execution_count": 22,
     "metadata": {},
     "output_type": "execute_result"
    }
   ],
   "source": [
    "res = set()\n",
    "for x in df[df[\"is_train\"]][\"labels\"].values:\n",
    "    res.update(x)\n",
    "len(res)"
   ]
  },
  {
   "cell_type": "code",
   "execution_count": 23,
   "id": "4b2bbff7-a1b0-44a9-bfdc-8ddaa8d79a48",
   "metadata": {},
   "outputs": [
    {
     "data": {
      "text/plain": [
       "233"
      ]
     },
     "execution_count": 23,
     "metadata": {},
     "output_type": "execute_result"
    }
   ],
   "source": [
    "res = set()\n",
    "for x in df[df[\"is_dev\"]][\"labels\"].values:\n",
    "    res.update(x)\n",
    "len(res)"
   ]
  },
  {
   "cell_type": "code",
   "execution_count": 24,
   "id": "15cdf742-6514-4ffc-a056-3d03e251616c",
   "metadata": {},
   "outputs": [
    {
     "data": {
      "text/plain": [
       "233"
      ]
     },
     "execution_count": 24,
     "metadata": {},
     "output_type": "execute_result"
    }
   ],
   "source": [
    "res = set()\n",
    "for x in df[df[\"is_test\"]][\"labels\"].values:\n",
    "    res.update(x)\n",
    "len(res)"
   ]
  },
  {
   "cell_type": "code",
   "execution_count": null,
   "id": "ab86084d-b183-432d-bf33-6ea5c9ab0452",
   "metadata": {},
   "outputs": [],
   "source": []
  }
 ],
 "metadata": {
  "kernelspec": {
   "display_name": "Python 3",
   "language": "python",
   "name": "python3"
  },
  "language_info": {
   "codemirror_mode": {
    "name": "ipython",
    "version": 3
   },
   "file_extension": ".py",
   "mimetype": "text/x-python",
   "name": "python",
   "nbconvert_exporter": "python",
   "pygments_lexer": "ipython3",
   "version": "3.8.5"
  }
 },
 "nbformat": 4,
 "nbformat_minor": 5
}
