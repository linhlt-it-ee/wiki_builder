{
 "cells": [
  {
   "cell_type": "code",
   "execution_count": 1,
   "id": "f3917ced-0671-4894-bee9-51545981cbbe",
   "metadata": {},
   "outputs": [],
   "source": [
    "import os\n",
    "import json\n",
    "import sys\n",
    "sys.path.append(\"../\")\n",
    "\n",
    "from tqdm import tqdm\n",
    "import numpy as np\n",
    "import utils"
   ]
  },
  {
   "cell_type": "code",
   "execution_count": 2,
   "id": "37d2db6b-52a7-42c6-8d0e-f135cd7b1a61",
   "metadata": {},
   "outputs": [],
   "source": [
    "data_dir = \"../../data/google_patents/us-25000\"\n",
    "data_ratio = {\"train\": 0.8, \"dev\": 0.1, \"test\": 0.1}\n",
    "random_state = np.random.RandomState(1)\n",
    "\n",
    "save_data_path = os.path.join(data_dir, \"data.ndjson\")\n",
    "save_label_path = os.path.join(data_dir, \"doc_label_encoder.json\")"
   ]
  },
  {
   "cell_type": "code",
   "execution_count": 3,
   "id": "73b8e7a2-9bb1-4591-bbf5-7eda8d8917a3",
   "metadata": {},
   "outputs": [
    {
     "name": "stdout",
     "output_type": "stream",
     "text": [
      "Number of document files: 10\n"
     ]
    }
   ],
   "source": [
    "doc_files = utils.get_file_name_in_dir(os.path.join(data_dir, \"doc\"), \"json\")\n",
    "print(\"Number of document files:\", len(doc_files))"
   ]
  },
  {
   "cell_type": "markdown",
   "id": "827cff56-424e-468b-9820-97b8648d3c76",
   "metadata": {},
   "source": [
    "**Data format:**\n",
    "\n",
    "A .json file contains multiple patents on different lines.\n",
    "\n",
    "Format of each patent:\n",
    "\n",
    "```json\n",
    "{\n",
    "    \"patent_id\": str,\n",
    "    \"title\": [{\"text\": str, \"language\": str, \"truncated\": bool}],\n",
    "    \"description\": [{\"text\": str, \"language\": str, \"truncated\": bool}],\n",
    "    \"claims\": [{\"text\": str, \"language\": str, \"truncated\": bool}],\n",
    "    \"classifications\": [{\"code\": str, \"inventive\": bool, \"first\": bool, \"tree\": List[str]}, ...]\n",
    "}\n",
    "```"
   ]
  },
  {
   "cell_type": "code",
   "execution_count": 4,
   "id": "bb1c4645-0f91-425d-ab10-ab8492d4dff8",
   "metadata": {},
   "outputs": [
    {
     "data": {
      "text/plain": [
       "[{'code': 'A46B11/0006', 'inventive': True, 'first': True, 'tree': []},\n",
       " {'code': 'A46B9/023', 'inventive': True, 'first': False, 'tree': []},\n",
       " {'code': 'A45D24/28', 'inventive': True, 'first': False, 'tree': []},\n",
       " {'code': 'A46B5/0095', 'inventive': True, 'first': False, 'tree': []},\n",
       " {'code': 'A45D24/22', 'inventive': False, 'first': False, 'tree': []},\n",
       " {'code': 'A46B11/002', 'inventive': True, 'first': False, 'tree': []},\n",
       " {'code': 'A46B2200/104', 'inventive': False, 'first': False, 'tree': []},\n",
       " {'code': 'A46B9/023', 'inventive': True, 'first': False, 'tree': []},\n",
       " {'code': 'A46B2200/104', 'inventive': False, 'first': False, 'tree': []},\n",
       " {'code': 'A45D24/22', 'inventive': False, 'first': False, 'tree': []},\n",
       " {'code': 'A46B11/0006', 'inventive': True, 'first': True, 'tree': []},\n",
       " {'code': 'A46B5/0095', 'inventive': True, 'first': False, 'tree': []},\n",
       " {'code': 'A46B11/002', 'inventive': False, 'first': False, 'tree': []}]"
      ]
     },
     "execution_count": 4,
     "metadata": {},
     "output_type": "execute_result"
    }
   ],
   "source": [
    "sample_doc_file = doc_files[0]\n",
    "with open(sample_doc_file, \"r\") as f:\n",
    "    for line in f:\n",
    "        sample_doc = json.loads(line)\n",
    "        break\n",
    "sample_doc[\"classifications\"]"
   ]
  },
  {
   "cell_type": "code",
   "execution_count": 5,
   "id": "0b02e976-61ad-4e99-9c24-63c74e2d032c",
   "metadata": {},
   "outputs": [],
   "source": [
    "def get_id(doc):\n",
    "    return doc[\"patent_id\"]\n",
    "\n",
    "def get_content(doc):\n",
    "    return \"\\n\".join(c[\"text\"] for c in doc[\"claims\"])\n",
    "\n",
    "def get_title(doc):\n",
    "    return \"\\n\".join(c[\"text\"] for c in doc[\"title\"])\n",
    "\n",
    "def get_label(doc):\n",
    "    return list(set(x[\"code\"][:4] for x in doc[\"classifications\"]))\n",
    "\n",
    "def get_sample(doc):\n",
    "    return {\"id\": get_id(doc), \"title\": get_title(doc), \"content\": get_content(doc), \"labels\": get_label(doc)}"
   ]
  },
  {
   "cell_type": "code",
   "execution_count": 6,
   "id": "7c4c8cf3-eafc-489a-ad85-b9cb2516e059",
   "metadata": {},
   "outputs": [
    {
     "name": "stdout",
     "output_type": "stream",
     "text": [
      "Number of valid documents: 21747\n"
     ]
    }
   ],
   "source": [
    "samples = []\n",
    "for fname in doc_files:\n",
    "    with open(fname, \"r\") as f:\n",
    "        for line in f:\n",
    "            doc = json.loads(line)\n",
    "            if get_label(doc):\n",
    "                samples.append(get_sample(doc))\n",
    "        \n",
    "doc_ids = random_state.permutation([x[\"id\"] for x in samples if x[\"labels\"]])\n",
    "print(\"Number of valid documents:\", len(doc_ids))"
   ]
  },
  {
   "cell_type": "code",
   "execution_count": 7,
   "id": "547e36b5-336c-470a-9eb1-f1354d3ad76f",
   "metadata": {},
   "outputs": [
    {
     "data": {
      "text/plain": [
       "{'train': array(['US-1086026-A', 'US-10446879-B2', 'US-2008193475-A1', ...,\n",
       "        'US-2018315664-A1', 'US-10514782-B2', 'US-10209632-B2'],\n",
       "       dtype='<U16'),\n",
       " 'dev': array(['US-10385381-B2', 'US-10720723-B2', 'US-10287701-B2', ...,\n",
       "        'US-7527811-B2', 'US-10135434-B2', 'US-7460518-B1'], dtype='<U16'),\n",
       " 'test': array(['US-9897040-B2', 'US-2011078884-A1', 'US-4351119-A', ...,\n",
       "        'US-3941221-A', 'US-2016123831-A1', 'US-9700800-B2'], dtype='<U16')}"
      ]
     },
     "execution_count": 7,
     "metadata": {},
     "output_type": "execute_result"
    }
   ],
   "source": [
    "split_ids = {}\n",
    "last_id = 0\n",
    "\n",
    "for data_type in (\"train\", \"dev\", \"test\"):\n",
    "    num_samples = int(data_ratio[data_type] * len(doc_ids))\n",
    "    split_ids[data_type] = doc_ids[last_id : last_id + num_samples]\n",
    "    last_id += num_samples\n",
    "    \n",
    "split_ids"
   ]
  },
  {
   "cell_type": "code",
   "execution_count": 8,
   "id": "6a656b21-6e2d-4aef-ae89-efd5828943af",
   "metadata": {},
   "outputs": [],
   "source": [
    "for sample in samples:\n",
    "    id = sample[\"id\"]\n",
    "    sample[\"is_train\"] = id in split_ids[\"train\"]\n",
    "    sample[\"is_dev\"] = id in split_ids[\"dev\"]\n",
    "    sample[\"is_test\"] = id in split_ids[\"test\"]"
   ]
  },
  {
   "cell_type": "code",
   "execution_count": 9,
   "id": "b18bd1bb-5a8f-4942-b311-b1f0a513a757",
   "metadata": {},
   "outputs": [
    {
     "name": "stderr",
     "output_type": "stream",
     "text": [
      "100%|██████████| 21747/21747 [00:01<00:00, 20889.15it/s]\n"
     ]
    }
   ],
   "source": [
    "labels = set()\n",
    "with open(save_data_path, \"w\") as f:\n",
    "    for sample in tqdm(samples):\n",
    "        if sample[\"labels\"]:\n",
    "            f.write(json.dumps(sample, ensure_ascii=False) + \"\\n\")\n",
    "            labels.update(sample[\"labels\"])\n",
    "\n",
    "label_ids = {x : i for i, x in enumerate(sorted(labels))}\n",
    "utils.dump_json(label_ids, save_label_path)"
   ]
  },
  {
   "cell_type": "code",
   "execution_count": 12,
   "id": "71a2c6f4-460c-4f36-8dac-7cf804624cf4",
   "metadata": {},
   "outputs": [
    {
     "data": {
      "text/html": [
       "<div>\n",
       "<style scoped>\n",
       "    .dataframe tbody tr th:only-of-type {\n",
       "        vertical-align: middle;\n",
       "    }\n",
       "\n",
       "    .dataframe tbody tr th {\n",
       "        vertical-align: top;\n",
       "    }\n",
       "\n",
       "    .dataframe thead th {\n",
       "        text-align: right;\n",
       "    }\n",
       "</style>\n",
       "<table border=\"1\" class=\"dataframe\">\n",
       "  <thead>\n",
       "    <tr style=\"text-align: right;\">\n",
       "      <th></th>\n",
       "      <th>id</th>\n",
       "      <th>title</th>\n",
       "      <th>content</th>\n",
       "      <th>labels</th>\n",
       "      <th>is_train</th>\n",
       "      <th>is_dev</th>\n",
       "      <th>is_test</th>\n",
       "    </tr>\n",
       "  </thead>\n",
       "  <tbody>\n",
       "    <tr>\n",
       "      <th>0</th>\n",
       "      <td>US-10194740-B2</td>\n",
       "      <td>Fluid dispensing brush assembly</td>\n",
       "      <td>I claim: \\n     \\n       1. A fluid dispensing...</td>\n",
       "      <td>[A46B, A45D]</td>\n",
       "      <td>True</td>\n",
       "      <td>False</td>\n",
       "      <td>False</td>\n",
       "    </tr>\n",
       "    <tr>\n",
       "      <th>1</th>\n",
       "      <td>US-10033661-B1</td>\n",
       "      <td>Tiered priority system and callout performance...</td>\n",
       "      <td>What is claimed is: \\n     \\n       1. A metho...</td>\n",
       "      <td>[G06F, H04L]</td>\n",
       "      <td>True</td>\n",
       "      <td>False</td>\n",
       "      <td>False</td>\n",
       "    </tr>\n",
       "    <tr>\n",
       "      <th>2</th>\n",
       "      <td>US-10027048-B2</td>\n",
       "      <td>Electrical component and electronic device</td>\n",
       "      <td>What is claimed is: \\n     \\n       1. An elec...</td>\n",
       "      <td>[H01R]</td>\n",
       "      <td>True</td>\n",
       "      <td>False</td>\n",
       "      <td>False</td>\n",
       "    </tr>\n",
       "    <tr>\n",
       "      <th>3</th>\n",
       "      <td>US-10077129-B2</td>\n",
       "      <td>Labeler with sealing label press-on device</td>\n",
       "      <td>What is claimed is: \\n     \\n       1. A label...</td>\n",
       "      <td>[B65C]</td>\n",
       "      <td>True</td>\n",
       "      <td>False</td>\n",
       "      <td>False</td>\n",
       "    </tr>\n",
       "    <tr>\n",
       "      <th>4</th>\n",
       "      <td>US-10193177-B2</td>\n",
       "      <td>Fuel cell system and operating method therefor</td>\n",
       "      <td>The invention claimed is: \\n     \\n       1. A...</td>\n",
       "      <td>[Y02T, H01M, Y02E]</td>\n",
       "      <td>True</td>\n",
       "      <td>False</td>\n",
       "      <td>False</td>\n",
       "    </tr>\n",
       "    <tr>\n",
       "      <th>...</th>\n",
       "      <td>...</td>\n",
       "      <td>...</td>\n",
       "      <td>...</td>\n",
       "      <td>...</td>\n",
       "      <td>...</td>\n",
       "      <td>...</td>\n",
       "      <td>...</td>\n",
       "    </tr>\n",
       "    <tr>\n",
       "      <th>21742</th>\n",
       "      <td>US-10235166-B1</td>\n",
       "      <td>Code quality evaluation and user interfaces</td>\n",
       "      <td>What is claimed is: \\n     \\n       1. A metho...</td>\n",
       "      <td>[G06F]</td>\n",
       "      <td>True</td>\n",
       "      <td>False</td>\n",
       "      <td>False</td>\n",
       "    </tr>\n",
       "    <tr>\n",
       "      <th>21743</th>\n",
       "      <td>US-10030890-B2</td>\n",
       "      <td>Hinge apparatus</td>\n",
       "      <td>What is claimed is: \\n     \\n       1. A hinge...</td>\n",
       "      <td>[E05D, F16M, F24H, G09F, F23M]</td>\n",
       "      <td>True</td>\n",
       "      <td>False</td>\n",
       "      <td>False</td>\n",
       "    </tr>\n",
       "    <tr>\n",
       "      <th>21744</th>\n",
       "      <td>US-10076584-B2</td>\n",
       "      <td>Low odor latex paint capable of reducing inter...</td>\n",
       "      <td>What is claimed is: \\n     \\n       1. A paint...</td>\n",
       "      <td>[Y10T, A61L, C08K, C09D]</td>\n",
       "      <td>True</td>\n",
       "      <td>False</td>\n",
       "      <td>False</td>\n",
       "    </tr>\n",
       "    <tr>\n",
       "      <th>21745</th>\n",
       "      <td>US-10066520-B2</td>\n",
       "      <td>Valve opening and closing timing control appar...</td>\n",
       "      <td>What is claimed is: \\n     \\n       1. A valve...</td>\n",
       "      <td>[F01L]</td>\n",
       "      <td>False</td>\n",
       "      <td>False</td>\n",
       "      <td>True</td>\n",
       "    </tr>\n",
       "    <tr>\n",
       "      <th>21746</th>\n",
       "      <td>US-10004455-B2</td>\n",
       "      <td>Realtime biofeedback mechanism and data presen...</td>\n",
       "      <td>What is claimed is: \\n     \\n       1. A metho...</td>\n",
       "      <td>[A61B]</td>\n",
       "      <td>True</td>\n",
       "      <td>False</td>\n",
       "      <td>False</td>\n",
       "    </tr>\n",
       "  </tbody>\n",
       "</table>\n",
       "<p>21747 rows × 7 columns</p>\n",
       "</div>"
      ],
      "text/plain": [
       "                   id                                              title  \\\n",
       "0      US-10194740-B2                    Fluid dispensing brush assembly   \n",
       "1      US-10033661-B1  Tiered priority system and callout performance...   \n",
       "2      US-10027048-B2         Electrical component and electronic device   \n",
       "3      US-10077129-B2         Labeler with sealing label press-on device   \n",
       "4      US-10193177-B2     Fuel cell system and operating method therefor   \n",
       "...               ...                                                ...   \n",
       "21742  US-10235166-B1        Code quality evaluation and user interfaces   \n",
       "21743  US-10030890-B2                                    Hinge apparatus   \n",
       "21744  US-10076584-B2  Low odor latex paint capable of reducing inter...   \n",
       "21745  US-10066520-B2  Valve opening and closing timing control appar...   \n",
       "21746  US-10004455-B2  Realtime biofeedback mechanism and data presen...   \n",
       "\n",
       "                                                 content  \\\n",
       "0      I claim: \\n     \\n       1. A fluid dispensing...   \n",
       "1      What is claimed is: \\n     \\n       1. A metho...   \n",
       "2      What is claimed is: \\n     \\n       1. An elec...   \n",
       "3      What is claimed is: \\n     \\n       1. A label...   \n",
       "4      The invention claimed is: \\n     \\n       1. A...   \n",
       "...                                                  ...   \n",
       "21742  What is claimed is: \\n     \\n       1. A metho...   \n",
       "21743  What is claimed is: \\n     \\n       1. A hinge...   \n",
       "21744  What is claimed is: \\n     \\n       1. A paint...   \n",
       "21745  What is claimed is: \\n     \\n       1. A valve...   \n",
       "21746  What is claimed is: \\n     \\n       1. A metho...   \n",
       "\n",
       "                               labels  is_train  is_dev  is_test  \n",
       "0                        [A46B, A45D]      True   False    False  \n",
       "1                        [G06F, H04L]      True   False    False  \n",
       "2                              [H01R]      True   False    False  \n",
       "3                              [B65C]      True   False    False  \n",
       "4                  [Y02T, H01M, Y02E]      True   False    False  \n",
       "...                               ...       ...     ...      ...  \n",
       "21742                          [G06F]      True   False    False  \n",
       "21743  [E05D, F16M, F24H, G09F, F23M]      True   False    False  \n",
       "21744        [Y10T, A61L, C08K, C09D]      True   False    False  \n",
       "21745                          [F01L]     False   False     True  \n",
       "21746                          [A61B]      True   False    False  \n",
       "\n",
       "[21747 rows x 7 columns]"
      ]
     },
     "execution_count": 12,
     "metadata": {},
     "output_type": "execute_result"
    }
   ],
   "source": [
    "import pandas as pd\n",
    "df = pd.DataFrame(samples)\n",
    "df"
   ]
  },
  {
   "cell_type": "code",
   "execution_count": 24,
   "id": "b83a029d-0989-470f-829a-c63efc2c600b",
   "metadata": {},
   "outputs": [
    {
     "data": {
      "text/plain": [
       "(17397, 2174, 2174)"
      ]
     },
     "execution_count": 24,
     "metadata": {},
     "output_type": "execute_result"
    }
   ],
   "source": [
    "sum(df[\"is_train\"]), sum(df[\"is_dev\"]), sum(df[\"is_test\"])"
   ]
  },
  {
   "cell_type": "code",
   "execution_count": 23,
   "id": "10b8894d-f9be-47bd-b49c-f788c1795d24",
   "metadata": {},
   "outputs": [
    {
     "data": {
      "image/png": "[encoded data removed]",
      "text/plain": [
       "<Figure size 432x288 with 1 Axes>"
      ]
     },
     "metadata": {
      "needs_background": "light"
     },
     "output_type": "display_data"
    }
   ],
   "source": [
    "ax = df[\"labels\"].apply(lambda x : len(x)).value_counts().plot(kind=\"bar\");\n",
    "ax.set_title(\"Number of labels per patent\");"
   ]
  },
  {
   "cell_type": "code",
   "execution_count": 26,
   "id": "547f962c-0d48-40a1-9504-9b8ff65550b0",
   "metadata": {},
   "outputs": [
    {
     "data": {
      "text/plain": [
       "822.8826504805261"
      ]
     },
     "execution_count": 26,
     "metadata": {},
     "output_type": "execute_result"
    }
   ],
   "source": [
    "df[\"content\"].apply(lambda x : len(x.split())).mean()"
   ]
  },
  {
   "cell_type": "code",
   "execution_count": 29,
   "id": "79ab8f99-581b-49ad-9e6e-21e008627b52",
   "metadata": {},
   "outputs": [
    {
     "data": {
      "text/plain": [
       "633"
      ]
     },
     "execution_count": 29,
     "metadata": {},
     "output_type": "execute_result"
    }
   ],
   "source": [
    "len(label_ids)"
   ]
  },
  {
   "cell_type": "code",
   "execution_count": null,
   "id": "49c81e68-3315-4401-85f3-c5f99b5eefce",
   "metadata": {},
   "outputs": [],
   "source": []
  }
 ],
 "metadata": {
  "kernelspec": {
   "display_name": "Python 3",
   "language": "python",
   "name": "python3"
  },
  "language_info": {
   "codemirror_mode": {
    "name": "ipython",
    "version": 3
   },
   "file_extension": ".py",
   "mimetype": "text/x-python",
   "name": "python",
   "nbconvert_exporter": "python",
   "pygments_lexer": "ipython3",
   "version": "3.8.5"
  }
 },
 "nbformat": 4,
 "nbformat_minor": 5
}
