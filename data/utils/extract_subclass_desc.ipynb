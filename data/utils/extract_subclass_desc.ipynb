{
 "cells": [
  {
   "cell_type": "code",
   "execution_count": 4,
   "id": "9c3d3f8f-7670-4f38-b763-d087498a6692",
   "metadata": {},
   "outputs": [],
   "source": [
    "import os\n",
    "import json\n",
    "from collections import defaultdict"
   ]
  },
  {
   "cell_type": "code",
   "execution_count": 5,
   "id": "bc198439-de35-400a-8e11-540507b2ba42",
   "metadata": {},
   "outputs": [],
   "source": [
    "data_dir = \"./patent_code\"\n",
    "\n",
    "subclass_dict = defaultdict(list)\n",
    "for fname in os.listdir(data_dir):\n",
    "    if not fname.endswith(\"txt\"):\n",
    "        continue\n",
    "    with open(os.path.join(data_dir, fname), \"r\") as f:\n",
    "        for line in f:\n",
    "            code, level, desc = line.strip().split(\"\\t\")\n",
    "            if len(code) > 4 and level == \"0\":\n",
    "                subclass_dict[code[:4]].append(desc)"
   ]
  },
  {
   "cell_type": "code",
   "execution_count": 6,
   "id": "a177b318-bbf2-4aad-a5b0-3c890de59857",
   "metadata": {},
   "outputs": [],
   "source": [
    "with open(\"cpc_subclass.py\", \"w\") as f:\n",
    "    f.write(\"CPC_SUBCLASS = \" + json.dumps(subclass_dict, indent=2))"
   ]
  },
  {
   "cell_type": "code",
   "execution_count": null,
   "id": "4018443d-7dce-44e9-a6bb-430ace689446",
   "metadata": {},
   "outputs": [],
   "source": []
  }
 ],
 "metadata": {
  "kernelspec": {
   "display_name": "Python 3 (ipykernel)",
   "language": "python",
   "name": "python3"
  },
  "language_info": {
   "codemirror_mode": {
    "name": "ipython",
    "version": 3
   },
   "file_extension": ".py",
   "mimetype": "text/x-python",
   "name": "python",
   "nbconvert_exporter": "python",
   "pygments_lexer": "ipython3",
   "version": "3.9.7"
  }
 },
 "nbformat": 4,
 "nbformat_minor": 5
}
