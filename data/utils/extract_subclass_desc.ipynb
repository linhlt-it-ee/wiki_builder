{
 "cells": [
  {
   "cell_type": "code",
   "execution_count": 10,
   "id": "9c3d3f8f-7670-4f38-b763-d087498a6692",
   "metadata": {},
   "outputs": [],
   "source": [
    "import os\n",
    "import json"
   ]
  },
  {
   "cell_type": "code",
   "execution_count": 8,
   "id": "bc198439-de35-400a-8e11-540507b2ba42",
   "metadata": {},
   "outputs": [],
   "source": [
    "data_dir = \"./patent_code\"\n",
    "\n",
    "subclass_dict = {}\n",
    "for fname in os.listdir(data_dir):\n",
    "    if not fname.endswith(\"txt\"):\n",
    "        continue\n",
    "    with open(os.path.join(data_dir, fname), \"r\") as f:\n",
    "        for line in f:\n",
    "            code, level, desc = line.strip().split(\"\\t\")\n",
    "            if len(code) > 4 and level == \"0\":\n",
    "                subclass_dict[code[:4]] = desc"
   ]
  },
  {
   "cell_type": "code",
   "execution_count": 11,
   "id": "d53f443a-062e-403c-bdef-24777e0e9565",
   "metadata": {},
   "outputs": [],
   "source": [
    "with open(\"cpc_subclass.json\", \"w\") as f:\n",
    "    json.dump(subclass_dict, f, indent=2)"
   ]
  },
  {
   "cell_type": "code",
   "execution_count": null,
   "id": "a177b318-bbf2-4aad-a5b0-3c890de59857",
   "metadata": {},
   "outputs": [],
   "source": []
  }
 ],
 "metadata": {
  "kernelspec": {
   "display_name": "Python 3 (ipykernel)",
   "language": "python",
   "name": "python3"
  },
  "language_info": {
   "codemirror_mode": {
    "name": "ipython",
    "version": 3
   },
   "file_extension": ".py",
   "mimetype": "text/x-python",
   "name": "python",
   "nbconvert_exporter": "python",
   "pygments_lexer": "ipython3",
   "version": "3.9.7"
  }
 },
 "nbformat": 4,
 "nbformat_minor": 5
}
