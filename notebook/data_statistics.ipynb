{
 "cells": [
  {
   "cell_type": "code",
   "execution_count": 1,
   "id": "706018bf-663a-4a6a-a968-1a62710ed801",
   "metadata": {},
   "outputs": [],
   "source": [
    "import os\n",
    "import json\n",
    "import pandas as pd\n",
    "import sys\n",
    "from collections import defaultdict"
   ]
  },
  {
   "cell_type": "code",
   "execution_count": 2,
   "id": "1baed609-8c0c-4993-966a-afcf1cd052ce",
   "metadata": {},
   "outputs": [],
   "source": [
    "data_dir = f\"../../data/google_patents/us_patents\"\n",
    "save_data_path = os.path.join(data_dir, \"data.ndjson\")\n",
    "stat_dir = \"./us_statistics/\"\n",
    "os.makedirs(stat_dir, exist_ok=True)\n",
    "\n",
    "stat_dict = {}"
   ]
  },
  {
   "cell_type": "code",
   "execution_count": 3,
   "id": "bb62f8b2-f1eb-4e31-ab67-ba0dc8db1e30",
   "metadata": {},
   "outputs": [],
   "source": [
    "with open(save_data_path, \"r\") as f:\n",
    "    samples = [json.loads(line) for line in f]\n",
    "\n",
    "df = pd.DataFrame(samples)"
   ]
  },
  {
   "cell_type": "markdown",
   "id": "f0967dd8-b662-4902-8101-382c0bb0e999",
   "metadata": {},
   "source": [
    "## Create statistics report"
   ]
  },
  {
   "cell_type": "code",
   "execution_count": 4,
   "id": "2c610b31-2b25-4fc5-8786-c7e62093a6fb",
   "metadata": {},
   "outputs": [],
   "source": [
    "stat_dict[\"no. samples\"] = len(samples)"
   ]
  },
  {
   "cell_type": "code",
   "execution_count": 5,
   "id": "99cedb4e-64fa-435f-a35f-a355723f5c98",
   "metadata": {},
   "outputs": [],
   "source": [
    "labels = set()\n",
    "for x in samples:\n",
    "    labels.update(x[\"labels\"])\n",
    "stat_dict[\"no. labels\"] = len(labels)"
   ]
  },
  {
   "cell_type": "code",
   "execution_count": 6,
   "id": "b7cb9ac7-095f-4b93-954a-627a2c095722",
   "metadata": {},
   "outputs": [],
   "source": [
    "sample_label = defaultdict(set)\n",
    "for x in samples:\n",
    "    for l in x[\"labels\"]:\n",
    "        sample_label[l].add(x[\"id\"])\n",
    "\n",
    "tmp = pd.Series(sample_label).apply(lambda x: len(x)).describe()\n",
    "stat_dict[\"no. samples/label\"] = \"{:.2f} ± {:.2f}\".format(tmp[\"mean\"], tmp[\"std\"])"
   ]
  },
  {
   "cell_type": "code",
   "execution_count": 7,
   "id": "ab398aa0-668c-41a5-b768-7ec495df5b49",
   "metadata": {},
   "outputs": [],
   "source": [
    "tmp = df[\"labels\"].apply(lambda x: len(x)).describe()\n",
    "stat_dict[\"no. labels/sample\"] = \"{:.2f} ± {:.2f}\".format(tmp[\"mean\"], tmp[\"std\"])"
   ]
  },
  {
   "cell_type": "code",
   "execution_count": 8,
   "id": "539d584b-57d8-446d-831d-06492c7376a6",
   "metadata": {},
   "outputs": [],
   "source": [
    "content_samples = []\n",
    "for x in samples:\n",
    "    content = \" \".join((x[\"abstract\"], x[\"title\"], x[\"claims\"], x[\"description\"]))\n",
    "    content_samples.append(content)\n",
    "\n",
    "stat_dict[\"no. words/sample\"] = pd.Series(content_samples).apply(lambda text: len(text.split())).mean()"
   ]
  },
  {
   "cell_type": "code",
   "execution_count": 9,
   "id": "424ba57e-76c0-4fdd-bf31-cb640ea3967d",
   "metadata": {},
   "outputs": [],
   "source": [
    "for x in (\"abstract\", \"title\", \"claim_1\", \"claims\", \"description\"):\n",
    "    stat_dict[f\"no. words/sample ({x})\"] = df[x].apply(lambda text: len(text.split())).mean()"
   ]
  },
  {
   "cell_type": "code",
   "execution_count": 10,
   "id": "6ccdbdee-f9c2-4e22-8ab7-809323dd2a68",
   "metadata": {},
   "outputs": [
    {
     "data": {
      "text/plain": [
       "{'no. samples': 45131,\n",
       " 'no. labels': 425,\n",
       " 'no. samples/label': '221.69 ± 38.56',\n",
       " 'no. labels/sample': '2.09 ± 1.31',\n",
       " 'no. words/sample': 7514.904721809842,\n",
       " 'no. words/sample (abstract)': 131.05240300458664,\n",
       " 'no. words/sample (title)': 7.28988943298398,\n",
       " 'no. words/sample (claim_1)': 154.6793556535419,\n",
       " 'no. words/sample (claims)': 955.8766922957612,\n",
       " 'no. words/sample (description)': 6420.685737076511}"
      ]
     },
     "execution_count": 10,
     "metadata": {},
     "output_type": "execute_result"
    }
   ],
   "source": [
    "stat_dict"
   ]
  },
  {
   "cell_type": "code",
   "execution_count": 11,
   "id": "b86aef05-679a-4f93-955a-9eb177ee7914",
   "metadata": {},
   "outputs": [
    {
     "data": {
      "text/html": [
       "<div>\n",
       "<style scoped>\n",
       "    .dataframe tbody tr th:only-of-type {\n",
       "        vertical-align: middle;\n",
       "    }\n",
       "\n",
       "    .dataframe tbody tr th {\n",
       "        vertical-align: top;\n",
       "    }\n",
       "\n",
       "    .dataframe thead th {\n",
       "        text-align: right;\n",
       "    }\n",
       "</style>\n",
       "<table border=\"1\" class=\"dataframe\">\n",
       "  <thead>\n",
       "    <tr style=\"text-align: right;\">\n",
       "      <th></th>\n",
       "      <th>no. samples</th>\n",
       "      <th>no. labels</th>\n",
       "      <th>no. samples/label</th>\n",
       "      <th>no. labels/sample</th>\n",
       "      <th>no. words/sample</th>\n",
       "      <th>no. words/sample (abstract)</th>\n",
       "      <th>no. words/sample (title)</th>\n",
       "      <th>no. words/sample (claim_1)</th>\n",
       "      <th>no. words/sample (claims)</th>\n",
       "      <th>no. words/sample (description)</th>\n",
       "    </tr>\n",
       "  </thead>\n",
       "  <tbody>\n",
       "    <tr>\n",
       "      <th>0</th>\n",
       "      <td>45131</td>\n",
       "      <td>425</td>\n",
       "      <td>221.69 ± 38.56</td>\n",
       "      <td>2.09 ± 1.31</td>\n",
       "      <td>7514.904722</td>\n",
       "      <td>131.052403</td>\n",
       "      <td>7.289889</td>\n",
       "      <td>154.679356</td>\n",
       "      <td>955.876692</td>\n",
       "      <td>6420.685737</td>\n",
       "    </tr>\n",
       "  </tbody>\n",
       "</table>\n",
       "</div>"
      ],
      "text/plain": [
       "   no. samples  no. labels no. samples/label no. labels/sample  \\\n",
       "0        45131         425    221.69 ± 38.56       2.09 ± 1.31   \n",
       "\n",
       "   no. words/sample  no. words/sample (abstract)  no. words/sample (title)  \\\n",
       "0       7514.904722                   131.052403                  7.289889   \n",
       "\n",
       "   no. words/sample (claim_1)  no. words/sample (claims)  \\\n",
       "0                  154.679356                 955.876692   \n",
       "\n",
       "   no. words/sample (description)  \n",
       "0                     6420.685737  "
      ]
     },
     "execution_count": 11,
     "metadata": {},
     "output_type": "execute_result"
    }
   ],
   "source": [
    "stat_report = pd.DataFrame([stat_dict])\n",
    "stat_report.to_excel(stat_dir + \"ja_statistics.xlsx\", index=False, float_format=\"%.2f\")\n",
    "stat_report"
   ]
  },
  {
   "cell_type": "markdown",
   "id": "558c1c2c-4c00-4257-8b91-64b6e5ac8f3c",
   "metadata": {},
   "source": [
    "## Visualise statistics"
   ]
  },
  {
   "cell_type": "code",
   "execution_count": 12,
   "id": "e399dc60-1aa1-49a9-bb01-21224dfa080f",
   "metadata": {},
   "outputs": [
    {
     "name": "stdout",
     "output_type": "stream",
     "text": [
      "['/mnt/lustre/home/joanna/dotfiles/helvetica/helvetica-rounded-bold-5871d05ead8de.otf', '/mnt/lustre/home/joanna/dotfiles/helvetica/helvetica-Oblique.ttf', '/mnt/lustre/home/joanna/dotfiles/helvetica/helvetica-compressed-5871d14b6903a.otf', '/mnt/lustre/home/joanna/dotfiles/simhei/chinese.simhei.ttf', '/mnt/lustre/home/joanna/dotfiles/simhei/SimHei.ttf', '/mnt/lustre/home/joanna/dotfiles/helvetica/helvetica-BoldOblique.ttf', '/mnt/lustre/home/joanna/dotfiles/helvetica/helvetica-Bold.ttf', '/mnt/lustre/home/joanna/dotfiles/helvetica/helvetica.ttf', '/mnt/lustre/home/joanna/dotfiles/helvetica/helvetica-light-587ebe5a59211.ttf']\n"
     ]
    }
   ],
   "source": [
    "import matplotlib as mpl\n",
    "import matplotlib.pyplot as plt\n",
    "import seaborn as sns\n",
    "import numpy as np\n",
    "\n",
    "font_dirs = [\"../../dotfiles/helvetica/\", \"../../dotfiles/simhei\"]\n",
    "font_files = mpl.font_manager.findSystemFonts(fontpaths=font_dirs)\n",
    "print(font_files)\n",
    "for font_file in font_files:\n",
    "    mpl.font_manager.fontManager.addfont(font_file)   \n",
    "    \n",
    "mpl.rcParams['axes.titlepad'] = 15\n",
    "mpl.rcParams['axes.labelpad'] = 10\n",
    "mpl.rcParams['font.family'] = 'sans-serif'\n",
    "mpl.rcParams['font.sans-serif'] = 'helvetica'\n",
    "\n",
    "sns.set_style(\"ticks\")\n",
    "sns.set_context(\"paper\")\n",
    "\n",
    "cmap = mpl.cm.get_cmap('Greys_r')\n",
    "palette = \"gray\""
   ]
  },
  {
   "cell_type": "code",
   "execution_count": 13,
   "id": "d9302159-1296-4ebf-93a8-cc523651aaf9",
   "metadata": {},
   "outputs": [],
   "source": [
    "def compute_frequency(samples):\n",
    "    freq = {}\n",
    "    for x in samples:\n",
    "        for label in x[\"labels\"]:\n",
    "            freq[label] = freq.get(label, 0) + 1\n",
    "    return freq\n",
    "\n",
    "freq = compute_frequency(samples)"
   ]
  },
  {
   "cell_type": "code",
   "execution_count": 14,
   "id": "676c5843-c192-48f0-bb34-62b04b3d3e4b",
   "metadata": {},
   "outputs": [
    {
     "data": {
      "text/plain": [
       "2.0    353\n",
       "3.0     29\n",
       "2.5     26\n",
       "3.5     14\n",
       "4.0      3\n",
       "dtype: int64"
      ]
     },
     "execution_count": 14,
     "metadata": {},
     "output_type": "execute_result"
    }
   ],
   "source": [
    "tmp = pd.Series(freq).apply(lambda x: round(2 * (x / 100)) / 2).value_counts() \n",
    "tmp"
   ]
  },
  {
   "cell_type": "code",
   "execution_count": 15,
   "id": "a9a1c36f-bcfb-4738-913f-723670855fd7",
   "metadata": {},
   "outputs": [
    {
     "data": {
      "image/png": "[encoded data removed]",
      "text/plain": [
       "<Figure size 432x432 with 2 Axes>"
      ]
     },
     "metadata": {},
     "output_type": "display_data"
    }
   ],
   "source": [
    "fig, ax = plt.subplots(1, 1, figsize=(6, 6))\n",
    "\n",
    "n_clusters = len(tmp)\n",
    "bounds = np.linspace(0, 1, num=n_clusters + 1)\n",
    "norm = mpl.colors.BoundaryNorm(bounds, cmap.N)\n",
    "\n",
    "pie_chart = ax.pie(tmp, startangle=90, autopct=\"%1.1f%%\", pctdistance=1.13, counterclock=False, colors=cmap(bounds));\n",
    "ax_cbar = fig.add_axes([.9, .25, .03, .5])\n",
    "\n",
    "cbar = mpl.colorbar.ColorbarBase(ax_cbar, cmap=cmap, norm=norm, ticks=(np.arange(n_clusters) + 0.5) / n_clusters)\n",
    "cbar.set_label(\"no. samples/label\")\n",
    "cbar.set_ticklabels((tmp.index * 100).astype(int))\n",
    "\n",
    "fig.show()\n",
    "fig.savefig(stat_dir + \"chart_number-samples-per-label.pdf\", bbox_inches=\"tight\")"
   ]
  },
  {
   "cell_type": "code",
   "execution_count": 16,
   "id": "43bef095-6a62-497a-905c-0b64868c7b84",
   "metadata": {},
   "outputs": [
    {
     "data": {
      "image/png": "[encoded data removed]",
      "text/plain": [
       "<Figure size 432x288 with 1 Axes>"
      ]
     },
     "metadata": {},
     "output_type": "display_data"
    }
   ],
   "source": [
    "fig, ax = plt.subplots(1, 1, figsize=(6, 4))\n",
    "\n",
    "ax = sns.countplot(x=df[\"labels\"].apply(lambda x: len(x)), palette=palette);\n",
    "ax.set_title(\"Number of labels per sample\", weight=\"bold\");\n",
    "ax.set(xlabel=\"no. labels\", ylabel=\"no. samples\");\n",
    "\n",
    "ax.spines['top'].set_visible(False);\n",
    "ax.spines['right'].set_visible(False);\n",
    "ax.spines['left'].set_position(('outward', 5));\n",
    "ax.spines['bottom'].set_position(('outward', 5));\n",
    "\n",
    "fig.show()\n",
    "fig.savefig(stat_dir + \"chart_number-labels-per-sample.pdf\", bbox_inches=\"tight\")"
   ]
  }
 ],
 "metadata": {
  "kernelspec": {
   "display_name": "Python 3 (ipykernel)",
   "language": "python",
   "name": "python3"
  },
  "language_info": {
   "codemirror_mode": {
    "name": "ipython",
    "version": 3
   },
   "file_extension": ".py",
   "mimetype": "text/x-python",
   "name": "python",
   "nbconvert_exporter": "python",
   "pygments_lexer": "ipython3",
   "version": "3.9.7"
  }
 },
 "nbformat": 4,
 "nbformat_minor": 5
}
