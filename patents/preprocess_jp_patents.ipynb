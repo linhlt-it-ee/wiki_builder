{
 "cells": [
  {
   "cell_type": "code",
   "execution_count": 1,
   "id": "371f566f-f09c-443c-a806-39dddde4cf48",
   "metadata": {},
   "outputs": [],
   "source": [
    "import os\n",
    "import json\n",
    "import sys\n",
    "sys.path.append(\"../\")\n",
    "\n",
    "from tqdm import tqdm\n",
    "from sklearn.model_selection import train_test_split\n",
    "from utils import file_util"
   ]
  },
  {
   "cell_type": "code",
   "execution_count": 2,
   "id": "056338ae-e790-4381-920b-7cb4e79dd8e0",
   "metadata": {},
   "outputs": [
    {
     "name": "stdout",
     "output_type": "stream",
     "text": [
      "data.ndjson\t\t doc\t\t     graphs\n",
      "dict_name_mentions.json  entity_labels.json  name_mentions\n"
     ]
    }
   ],
   "source": [
    "data_dir = \"../data/google_patents/24054-jp-patents\"\n",
    "seed = 6\n",
    "test_size = 0.2\n",
    "!ls $data_dir"
   ]
  },
  {
   "cell_type": "markdown",
   "id": "2e9be2bb-602f-4087-be17-1268a604955b",
   "metadata": {},
   "source": [
    "Format of data file:\n",
    "- A `.json` file contains multiple patents on different lines.\n",
    "- Format of each patent:\n",
    "\n",
    "```json\n",
    "{\n",
    "    \"title\": str,\n",
    "    \"pdf\": str,\n",
    "    \"description\": List[str],      # should be concatenated\n",
    "    \"claims\": List[str],\n",
    "    \"classifications\": List[str],   # each string uses \"\\n\" to separate the cluster ID and its description \n",
    "}\n",
    "\n",
    "```"
   ]
  },
  {
   "cell_type": "code",
   "execution_count": 3,
   "id": "b091803b-a5b0-4993-9053-ffe8eceb6ba7",
   "metadata": {},
   "outputs": [
    {
     "name": "stdout",
     "output_type": "stream",
     "text": [
      "Number of document files: 24054\n"
     ]
    }
   ],
   "source": [
    "doc_files = file_util.get_file_name_in_dir(os.path.join(data_dir, \"doc\"), \"json\")\n",
    "print(\"Number of document files:\", len(doc_files))"
   ]
  },
  {
   "cell_type": "code",
   "execution_count": 4,
   "id": "57a5bd43-7499-4dcd-acc2-0a6135415c41",
   "metadata": {},
   "outputs": [
    {
     "name": "stdout",
     "output_type": "stream",
     "text": [
      "Document attributes: dict_keys(['title', 'pdf', 'classifications', 'description', 'claims'])\n"
     ]
    }
   ],
   "source": [
    "sample_doc_file = doc_files[2]\n",
    "with open(sample_doc_file, \"r\") as f:\n",
    "    sample_doc = json.load(f)\n",
    "    print(\"Document attributes:\", sample_doc.keys())"
   ]
  },
  {
   "cell_type": "code",
   "execution_count": 5,
   "id": "aefd05bf-98d2-45cd-8bac-fa49651eba8d",
   "metadata": {},
   "outputs": [
    {
     "data": {
      "text/plain": [
       "['A61N1/0456\\nSpecially adapted for transcutaneous electrical nerve stimulation [TENS]',\n",
       " 'A61N1/0526\\nHead electrodes',\n",
       " 'A61N1/0551\\nSpinal or peripheral nerve electrodes',\n",
       " 'A61N1/36017\\nExternal stimulators, e.g. with patch electrodes with leads or electrodes penetrating the skin',\n",
       " 'A61N1/36025\\nExternal stimulators, e.g. with patch electrodes for treating a mental or cerebral condition',\n",
       " 'A61N1/36031\\nControl systems using physiological parameters for adjustment',\n",
       " 'A61N1/36034\\nControl systems specified by the stimulation parameters',\n",
       " 'A61N1/36053\\nImplantable neurostimulators for stimulating central or peripheral nerve system adapted for vagal stimulation',\n",
       " 'A61N1/36064\\nEpilepsy',\n",
       " 'A61N1/36085\\nEating disorders or obesity',\n",
       " 'A61N1/36089\\nAddiction or withdrawal from substance abuse such as alcohol or drugs',\n",
       " 'A61N1/36096\\nMood disorders, e.g. depression, anxiety or panic disorder',\n",
       " 'A61N1/361\\nPhantom sensations, e.g. tinnitus',\n",
       " 'A61N1/36114\\nCardiac control, e.g. by vagal stimulation']"
      ]
     },
     "execution_count": 5,
     "metadata": {},
     "output_type": "execute_result"
    }
   ],
   "source": [
    "sample_doc[\"classifications\"]"
   ]
  },
  {
   "cell_type": "code",
   "execution_count": 6,
   "id": "a721d055-67ef-486b-bd4b-3de31b5d3fb7",
   "metadata": {},
   "outputs": [],
   "source": [
    "def get_id(doc_file_name):\n",
    "    x = os.path.basename(doc_file_name)\n",
    "    return os.path.splitext(x)[0]\n",
    "    \n",
    "def get_content(doc):\n",
    "    return \"\\n\".join(doc[\"claims\"])\n",
    "\n",
    "def get_label(doc):\n",
    "    global labels\n",
    "    res = [x.split(\"\\n\")[0] for x in sample_doc[\"classifications\"]]\n",
    "    labels.update(res)\n",
    "    return res\n",
    "    \n",
    "def get_title(doc):\n",
    "    return doc[\"title\"]"
   ]
  },
  {
   "cell_type": "code",
   "execution_count": 7,
   "id": "f7b52c69-9741-4d1e-9f34-e6d6287a9889",
   "metadata": {},
   "outputs": [
    {
     "name": "stderr",
     "output_type": "stream",
     "text": [
      "Writing: 100%|██████████| 24054/24054 [01:58<00:00, 202.47it/s]\n"
     ]
    }
   ],
   "source": [
    "f = open(os.path.join(data_dir, \"data.ndjson\"), \"w\")\n",
    "labels = set()\n",
    "train_doc_ids, _ = train_test_split(range(len(doc_files)), test_size=test_size, random_state=seed)\n",
    "\n",
    "for i, filename in enumerate(tqdm(doc_files, desc=\"Writing\")):\n",
    "    with open(filename, \"r\") as fin:\n",
    "        doc = json.load(fin)\n",
    "        sample = {\n",
    "            \"doc_id\": get_id(filename),\n",
    "            \"title\": get_title(doc),\n",
    "            \"content\": get_content(doc),\n",
    "            \"labels\": get_label(doc),\n",
    "            \"is_train\": i in train_doc_ids,\n",
    "        }\n",
    "    f.write(json.dumps(sample, ensure_ascii=False) + \"\\n\")\n",
    "f.close()        "
   ]
  },
  {
   "cell_type": "code",
   "execution_count": 8,
   "id": "d736be73-9289-4384-ba0e-40964bab059a",
   "metadata": {},
   "outputs": [],
   "source": [
    "label_ids = {x : i for i, x in enumerate(labels)}\n",
    "file_util.dump_json(label_ids, os.path.join(data_dir, \"document_label_ids.json\"))"
   ]
  }
 ],
 "metadata": {
  "kernelspec": {
   "display_name": "Python 3",
   "language": "python",
   "name": "python3"
  },
  "language_info": {
   "codemirror_mode": {
    "name": "ipython",
    "version": 3
   },
   "file_extension": ".py",
   "mimetype": "text/x-python",
   "name": "python",
   "nbconvert_exporter": "python",
   "pygments_lexer": "ipython3",
   "version": "3.9.5"
  }
 },
 "nbformat": 4,
 "nbformat_minor": 5
}
