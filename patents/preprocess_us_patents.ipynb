{
 "cells": [
  {
   "cell_type": "code",
   "execution_count": 1,
   "id": "371f566f-f09c-443c-a806-39dddde4cf48",
   "metadata": {},
   "outputs": [],
   "source": [
    "import os\n",
    "import json\n",
    "import sys\n",
    "sys.path.append(\"../\")\n",
    "\n",
    "from tqdm import tqdm\n",
    "from sklearn.model_selection import train_test_split\n",
    "from utils import file_util"
   ]
  },
  {
   "cell_type": "code",
   "execution_count": 2,
   "id": "056338ae-e790-4381-920b-7cb4e79dd8e0",
   "metadata": {},
   "outputs": [
    {
     "name": "stdout",
     "output_type": "stream",
     "text": [
      "crawl_wiki_concepts.log  document_label_ids.json  mask.pck\n",
      "data.ndjson\t\t entities_ids.json\t  name_mention_links.json\n",
      "doc\t\t\t entities_labels.json\t  name_mentions\n",
      "doc_name_mentions.json\t entity_labels.json\n",
      "document_ids.json\t graph.bin\n"
     ]
    }
   ],
   "source": [
    "data_dir = \"../data/google_patents/us-25000\"\n",
    "seed = 6\n",
    "test_size = 0.2\n",
    "!ls $data_dir"
   ]
  },
  {
   "cell_type": "markdown",
   "id": "2e9be2bb-602f-4087-be17-1268a604955b",
   "metadata": {},
   "source": [
    "Format of data file:\n",
    "- A `.json` file contains multiple patents on different lines.\n",
    "- Format of each patent:\n",
    "\n",
    "```json\n",
    "{\n",
    "    \"patent_id\": str,\n",
    "    \"title\": [{\"text\": str, \"language\": str, \"truncated\": bool}],\n",
    "    \"description\": [{\"text\": str, \"language\": str, \"truncated\": bool}],\n",
    "    \"claims\": [{\"text\": str, \"language\": str, \"truncated\": bool}],\n",
    "    \"classifications\": [{\"code\": str, \"inventive\": bool, \"first\": bool, \"tree\": List[str]}, ...]\n",
    "}\n",
    "\n",
    "```"
   ]
  },
  {
   "cell_type": "code",
   "execution_count": 3,
   "id": "b091803b-a5b0-4993-9053-ffe8eceb6ba7",
   "metadata": {},
   "outputs": [
    {
     "name": "stdout",
     "output_type": "stream",
     "text": [
      "Number of document files: 10\n"
     ]
    }
   ],
   "source": [
    "doc_files = file_util.get_file_name_in_dir(os.path.join(data_dir, \"doc\"), \"json\")\n",
    "print(\"Number of document files:\", len(doc_files))"
   ]
  },
  {
   "cell_type": "code",
   "execution_count": 4,
   "id": "57a5bd43-7499-4dcd-acc2-0a6135415c41",
   "metadata": {},
   "outputs": [
    {
     "data": {
      "text/plain": [
       "[{'code': 'A46B11/0006', 'inventive': True, 'first': True, 'tree': []},\n",
       " {'code': 'A46B9/023', 'inventive': True, 'first': False, 'tree': []},\n",
       " {'code': 'A45D24/28', 'inventive': True, 'first': False, 'tree': []},\n",
       " {'code': 'A46B5/0095', 'inventive': True, 'first': False, 'tree': []},\n",
       " {'code': 'A45D24/22', 'inventive': False, 'first': False, 'tree': []},\n",
       " {'code': 'A46B11/002', 'inventive': True, 'first': False, 'tree': []},\n",
       " {'code': 'A46B2200/104', 'inventive': False, 'first': False, 'tree': []},\n",
       " {'code': 'A46B9/023', 'inventive': True, 'first': False, 'tree': []},\n",
       " {'code': 'A46B2200/104', 'inventive': False, 'first': False, 'tree': []},\n",
       " {'code': 'A45D24/22', 'inventive': False, 'first': False, 'tree': []},\n",
       " {'code': 'A46B11/0006', 'inventive': True, 'first': True, 'tree': []},\n",
       " {'code': 'A46B5/0095', 'inventive': True, 'first': False, 'tree': []},\n",
       " {'code': 'A46B11/002', 'inventive': False, 'first': False, 'tree': []}]"
      ]
     },
     "execution_count": 4,
     "metadata": {},
     "output_type": "execute_result"
    }
   ],
   "source": [
    "sample_doc_file = doc_files[0]\n",
    "with open(sample_doc_file, \"r\") as f:\n",
    "    for line in f:\n",
    "        sample_doc = json.loads(line)\n",
    "        break\n",
    "sample_doc[\"classifications\"]"
   ]
  },
  {
   "cell_type": "code",
   "execution_count": 5,
   "id": "a721d055-67ef-486b-bd4b-3de31b5d3fb7",
   "metadata": {},
   "outputs": [],
   "source": [
    "def get_id(doc):\n",
    "    return doc[\"patent_id\"]\n",
    "\n",
    "def get_content(doc):\n",
    "    return \"\\n\".join(c[\"text\"] for c in doc[\"claims\"])\n",
    "\n",
    "def get_title(doc):\n",
    "    return \"\\n\".join(c[\"text\"] for c in doc[\"title\"])\n",
    "\n",
    "def get_label(doc):\n",
    "    global labels\n",
    "    res = [x[\"code\"] for x in doc[\"classifications\"]]\n",
    "    labels.update(res)\n",
    "    return res"
   ]
  },
  {
   "cell_type": "code",
   "execution_count": 6,
   "id": "f7b52c69-9741-4d1e-9f34-e6d6287a9889",
   "metadata": {},
   "outputs": [
    {
     "name": "stdout",
     "output_type": "stream",
     "text": [
      "Process Compressed File: 1/10\n"
     ]
    },
    {
     "name": "stderr",
     "output_type": "stream",
     "text": [
      "Writing: 100%|██████████| 2546/2546 [00:01<00:00, 1325.36it/s]\n"
     ]
    },
    {
     "name": "stdout",
     "output_type": "stream",
     "text": [
      "Process Compressed File: 2/10\n"
     ]
    },
    {
     "name": "stderr",
     "output_type": "stream",
     "text": [
      "Writing: 100%|██████████| 2504/2504 [00:01<00:00, 1722.82it/s]\n"
     ]
    },
    {
     "name": "stdout",
     "output_type": "stream",
     "text": [
      "Process Compressed File: 3/10\n"
     ]
    },
    {
     "name": "stderr",
     "output_type": "stream",
     "text": [
      "Writing: 100%|██████████| 2480/2480 [00:01<00:00, 1678.66it/s]\n"
     ]
    },
    {
     "name": "stdout",
     "output_type": "stream",
     "text": [
      "Process Compressed File: 4/10\n"
     ]
    },
    {
     "name": "stderr",
     "output_type": "stream",
     "text": [
      "Writing: 100%|██████████| 2456/2456 [00:01<00:00, 1592.34it/s]\n"
     ]
    },
    {
     "name": "stdout",
     "output_type": "stream",
     "text": [
      "Process Compressed File: 5/10\n"
     ]
    },
    {
     "name": "stderr",
     "output_type": "stream",
     "text": [
      "Writing: 100%|██████████| 2374/2374 [00:01<00:00, 1651.18it/s]\n"
     ]
    },
    {
     "name": "stdout",
     "output_type": "stream",
     "text": [
      "Process Compressed File: 6/10\n"
     ]
    },
    {
     "name": "stderr",
     "output_type": "stream",
     "text": [
      "Writing: 100%|██████████| 2544/2544 [00:01<00:00, 1820.28it/s]\n"
     ]
    },
    {
     "name": "stdout",
     "output_type": "stream",
     "text": [
      "Process Compressed File: 7/10\n"
     ]
    },
    {
     "name": "stderr",
     "output_type": "stream",
     "text": [
      "Writing: 100%|██████████| 2521/2521 [00:01<00:00, 1825.45it/s]\n"
     ]
    },
    {
     "name": "stdout",
     "output_type": "stream",
     "text": [
      "Process Compressed File: 8/10\n"
     ]
    },
    {
     "name": "stderr",
     "output_type": "stream",
     "text": [
      "Writing: 100%|██████████| 2517/2517 [00:01<00:00, 1631.56it/s]\n"
     ]
    },
    {
     "name": "stdout",
     "output_type": "stream",
     "text": [
      "Process Compressed File: 9/10\n"
     ]
    },
    {
     "name": "stderr",
     "output_type": "stream",
     "text": [
      "Writing: 100%|██████████| 2513/2513 [00:01<00:00, 1872.22it/s]\n"
     ]
    },
    {
     "name": "stdout",
     "output_type": "stream",
     "text": [
      "Process Compressed File: 10/10\n"
     ]
    },
    {
     "name": "stderr",
     "output_type": "stream",
     "text": [
      "Writing: 100%|██████████| 2545/2545 [00:01<00:00, 1445.00it/s]\n"
     ]
    }
   ],
   "source": [
    "f = open(os.path.join(data_dir, \"data.ndjson\"), \"w\")\n",
    "labels = set()\n",
    "\n",
    "for i, filename in enumerate(doc_files):\n",
    "    print(f\"Process Compressed File: {i + 1}/{len(doc_files)}\")\n",
    "    with open(filename, \"r\") as fin:\n",
    "        num_documents = 0\n",
    "        for _ in fin:\n",
    "            num_documents += 1\n",
    "        fin.seek(0)\n",
    "        train_doc_ids, _ = train_test_split(range(num_documents), test_size=test_size, random_state=seed)\n",
    "        for rid, line in enumerate(tqdm(fin, total=num_documents, desc=\"Writing\")):\n",
    "            doc = json.loads(line)\n",
    "            sample = {\n",
    "                \"doc_id\": get_id(doc),\n",
    "                \"title\": get_title(doc),\n",
    "                \"content\": get_content(doc),\n",
    "                \"labels\": get_label(doc),\n",
    "                \"is_train\": rid in train_doc_ids,\n",
    "            }\n",
    "            f.write(json.dumps(sample, ensure_ascii=False) + \"\\n\")\n",
    "f.close()        "
   ]
  },
  {
   "cell_type": "code",
   "execution_count": 7,
   "id": "4a710a2a-c02f-473b-b2f3-2613186a2714",
   "metadata": {},
   "outputs": [],
   "source": [
    "label_ids = {x : i for i, x in enumerate(labels)}\n",
    "file_util.dump_json(label_ids, os.path.join(data_dir, \"document_label_ids.json\"))"
   ]
  },
  {
   "cell_type": "code",
   "execution_count": null,
   "id": "b231b239-f1e6-491e-9874-94802023a35d",
   "metadata": {},
   "outputs": [],
   "source": []
  }
 ],
 "metadata": {
  "kernelspec": {
   "display_name": "Python 3",
   "language": "python",
   "name": "python3"
  },
  "language_info": {
   "codemirror_mode": {
    "name": "ipython",
    "version": 3
   },
   "file_extension": ".py",
   "mimetype": "text/x-python",
   "name": "python",
   "nbconvert_exporter": "python",
   "pygments_lexer": "ipython3",
   "version": "3.9.5"
  }
 },
 "nbformat": 4,
 "nbformat_minor": 5
}
