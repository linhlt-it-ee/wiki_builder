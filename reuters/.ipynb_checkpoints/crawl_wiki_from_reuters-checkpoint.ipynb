{
 "cells": [
  {
   "cell_type": "code",
   "execution_count": 1,
   "id": "88ea31af-2e33-4e70-a045-640fbc6abc77",
   "metadata": {},
   "outputs": [
    {
     "name": "stdout",
     "output_type": "stream",
     "text": [
      "['nonplanar', 'amorphous']\n",
      "[]\n"
     ]
    }
   ],
   "source": [
    "import sys\n",
    "import os\n",
    "sys.path.append(\"../\")\n",
    "\n",
    "import pandas as pd\n",
    "import json\n",
    "from tqdm import tqdm\n",
    "import copy\n",
    "from utils import text_util, file_util, excel_tree_level_export\n",
    "from utils import graph_builder_from_wiki as graph_wiki_util\n",
    "import crawl_wiki_tree"
   ]
  },
  {
   "cell_type": "code",
   "execution_count": 2,
   "id": "accc6b53-89d2-4b4d-be8e-ec7a91c673df",
   "metadata": {},
   "outputs": [],
   "source": [
    "DATA_DIR = \"../data\"\n",
    "DOC_PATH = os.path.join(DATA_DIR, \"reuters.csv\")\n",
    "max_level = 3"
   ]
  },
  {
   "cell_type": "code",
   "execution_count": 3,
   "id": "b898c08d-0b13-4e13-afa0-36e38b8cfce8",
   "metadata": {},
   "outputs": [
    {
     "data": {
      "text/html": [
       "<div>\n",
       "<style scoped>\n",
       "    .dataframe tbody tr th:only-of-type {\n",
       "        vertical-align: middle;\n",
       "    }\n",
       "\n",
       "    .dataframe tbody tr th {\n",
       "        vertical-align: top;\n",
       "    }\n",
       "\n",
       "    .dataframe thead th {\n",
       "        text-align: right;\n",
       "    }\n",
       "</style>\n",
       "<table border=\"1\" class=\"dataframe\">\n",
       "  <thead>\n",
       "    <tr style=\"text-align: right;\">\n",
       "      <th></th>\n",
       "      <th>path</th>\n",
       "      <th>topic</th>\n",
       "      <th>subset</th>\n",
       "      <th>index</th>\n",
       "      <th>content</th>\n",
       "      <th>lead</th>\n",
       "      <th>tin</th>\n",
       "      <th>retail</th>\n",
       "      <th>fuel</th>\n",
       "      <th>propane</th>\n",
       "      <th>...</th>\n",
       "      <th>soy-meal</th>\n",
       "      <th>earn</th>\n",
       "      <th>sun-oil</th>\n",
       "      <th>instal-debt</th>\n",
       "      <th>cotton</th>\n",
       "      <th>heat</th>\n",
       "      <th>trade</th>\n",
       "      <th>dfl</th>\n",
       "      <th>palladium</th>\n",
       "      <th>iron-steel</th>\n",
       "    </tr>\n",
       "  </thead>\n",
       "  <tbody>\n",
       "    <tr>\n",
       "      <th>0</th>\n",
       "      <td>test/14826</td>\n",
       "      <td>['trade']</td>\n",
       "      <td>test</td>\n",
       "      <td>14826</td>\n",
       "      <td>ASIAN EXPORTERS FEAR DAMAGE FROM U.S.-JAPAN RI...</td>\n",
       "      <td>0</td>\n",
       "      <td>0</td>\n",
       "      <td>0</td>\n",
       "      <td>0</td>\n",
       "      <td>0</td>\n",
       "      <td>...</td>\n",
       "      <td>0</td>\n",
       "      <td>0</td>\n",
       "      <td>0</td>\n",
       "      <td>0</td>\n",
       "      <td>0</td>\n",
       "      <td>0</td>\n",
       "      <td>1</td>\n",
       "      <td>0</td>\n",
       "      <td>0</td>\n",
       "      <td>0</td>\n",
       "    </tr>\n",
       "    <tr>\n",
       "      <th>1</th>\n",
       "      <td>test/14828</td>\n",
       "      <td>['grain']</td>\n",
       "      <td>test</td>\n",
       "      <td>14828</td>\n",
       "      <td>CHINA DAILY SAYS VERMIN EAT 7-12 PCT GRAIN STO...</td>\n",
       "      <td>0</td>\n",
       "      <td>0</td>\n",
       "      <td>0</td>\n",
       "      <td>0</td>\n",
       "      <td>0</td>\n",
       "      <td>...</td>\n",
       "      <td>0</td>\n",
       "      <td>0</td>\n",
       "      <td>0</td>\n",
       "      <td>0</td>\n",
       "      <td>0</td>\n",
       "      <td>0</td>\n",
       "      <td>0</td>\n",
       "      <td>0</td>\n",
       "      <td>0</td>\n",
       "      <td>0</td>\n",
       "    </tr>\n",
       "    <tr>\n",
       "      <th>2</th>\n",
       "      <td>test/14829</td>\n",
       "      <td>['nat-gas', 'crude']</td>\n",
       "      <td>test</td>\n",
       "      <td>14829</td>\n",
       "      <td>JAPAN TO REVISE LONG-TERM ENERGY DEMAND DOWNWA...</td>\n",
       "      <td>0</td>\n",
       "      <td>0</td>\n",
       "      <td>0</td>\n",
       "      <td>0</td>\n",
       "      <td>0</td>\n",
       "      <td>...</td>\n",
       "      <td>0</td>\n",
       "      <td>0</td>\n",
       "      <td>0</td>\n",
       "      <td>0</td>\n",
       "      <td>0</td>\n",
       "      <td>0</td>\n",
       "      <td>0</td>\n",
       "      <td>0</td>\n",
       "      <td>0</td>\n",
       "      <td>0</td>\n",
       "    </tr>\n",
       "    <tr>\n",
       "      <th>3</th>\n",
       "      <td>test/14832</td>\n",
       "      <td>['rubber', 'tin', 'sugar', 'corn', 'rice', 'gr...</td>\n",
       "      <td>test</td>\n",
       "      <td>14832</td>\n",
       "      <td>THAI TRADE DEFICIT WIDENS IN FIRST QUARTER\\n  ...</td>\n",
       "      <td>0</td>\n",
       "      <td>1</td>\n",
       "      <td>0</td>\n",
       "      <td>0</td>\n",
       "      <td>0</td>\n",
       "      <td>...</td>\n",
       "      <td>0</td>\n",
       "      <td>0</td>\n",
       "      <td>0</td>\n",
       "      <td>0</td>\n",
       "      <td>0</td>\n",
       "      <td>0</td>\n",
       "      <td>1</td>\n",
       "      <td>0</td>\n",
       "      <td>0</td>\n",
       "      <td>0</td>\n",
       "    </tr>\n",
       "    <tr>\n",
       "      <th>4</th>\n",
       "      <td>test/14833</td>\n",
       "      <td>['palm-oil', 'veg-oil']</td>\n",
       "      <td>test</td>\n",
       "      <td>14833</td>\n",
       "      <td>INDONESIA SEES CPO PRICE RISING SHARPLY\\n  Ind...</td>\n",
       "      <td>0</td>\n",
       "      <td>0</td>\n",
       "      <td>0</td>\n",
       "      <td>0</td>\n",
       "      <td>0</td>\n",
       "      <td>...</td>\n",
       "      <td>0</td>\n",
       "      <td>0</td>\n",
       "      <td>0</td>\n",
       "      <td>0</td>\n",
       "      <td>0</td>\n",
       "      <td>0</td>\n",
       "      <td>0</td>\n",
       "      <td>0</td>\n",
       "      <td>0</td>\n",
       "      <td>0</td>\n",
       "    </tr>\n",
       "  </tbody>\n",
       "</table>\n",
       "<p>5 rows × 95 columns</p>\n",
       "</div>"
      ],
      "text/plain": [
       "         path                                              topic subset  \\\n",
       "0  test/14826                                          ['trade']   test   \n",
       "1  test/14828                                          ['grain']   test   \n",
       "2  test/14829                               ['nat-gas', 'crude']   test   \n",
       "3  test/14832  ['rubber', 'tin', 'sugar', 'corn', 'rice', 'gr...   test   \n",
       "4  test/14833                            ['palm-oil', 'veg-oil']   test   \n",
       "\n",
       "   index                                            content  lead  tin  \\\n",
       "0  14826  ASIAN EXPORTERS FEAR DAMAGE FROM U.S.-JAPAN RI...     0    0   \n",
       "1  14828  CHINA DAILY SAYS VERMIN EAT 7-12 PCT GRAIN STO...     0    0   \n",
       "2  14829  JAPAN TO REVISE LONG-TERM ENERGY DEMAND DOWNWA...     0    0   \n",
       "3  14832  THAI TRADE DEFICIT WIDENS IN FIRST QUARTER\\n  ...     0    1   \n",
       "4  14833  INDONESIA SEES CPO PRICE RISING SHARPLY\\n  Ind...     0    0   \n",
       "\n",
       "   retail  fuel  propane  ...  soy-meal  earn  sun-oil  instal-debt  cotton  \\\n",
       "0       0     0        0  ...         0     0        0            0       0   \n",
       "1       0     0        0  ...         0     0        0            0       0   \n",
       "2       0     0        0  ...         0     0        0            0       0   \n",
       "3       0     0        0  ...         0     0        0            0       0   \n",
       "4       0     0        0  ...         0     0        0            0       0   \n",
       "\n",
       "   heat  trade  dfl  palladium  iron-steel  \n",
       "0     0      1    0          0           0  \n",
       "1     0      0    0          0           0  \n",
       "2     0      0    0          0           0  \n",
       "3     0      1    0          0           0  \n",
       "4     0      0    0          0           0  \n",
       "\n",
       "[5 rows x 95 columns]"
      ]
     },
     "execution_count": 3,
     "metadata": {},
     "output_type": "execute_result"
    }
   ],
   "source": [
    "df = pd.read_csv(DOC_PATH)\n",
    "df.head()"
   ]
  },
  {
   "cell_type": "code",
   "execution_count": 4,
   "id": "0a95cb1a-2e01-41c0-9787-3daa85407dea",
   "metadata": {},
   "outputs": [
    {
     "name": "stdout",
     "output_type": "stream",
     "text": [
      "Data shape: (10788, 95)\n",
      "A sample news content:\n",
      "TURKEY CALLS FOR DIALOGUE TO SOLVE DISPUTE\n",
      "  Turkey said today its disputes with\n",
      "  Greece, including rights on the continental shelf in the Aegean\n",
      "  Sea, should be solved through negotiations.\n",
      "      A Foreign Ministry statement said the latest crisis between\n",
      "  the two NATO members stemmed from the continental shelf dispute\n",
      "  and an agreement on this issue would effect the security,\n",
      "  economy and other rights of both countries.\n",
      "      \"As the issue is basicly political, a solution can only be\n",
      "  found by bilateral negotiations,\" the statement said. Greece has\n",
      "  repeatedly said the issue was legal and could be solved at the\n",
      "  International Court of Justice.\n",
      "      The two countries approached armed confrontation last month\n",
      "  after Greece announced it planned oil exploration work in the\n",
      "  Aegean and Turkey said it would also search for oil.\n",
      "      A face-off was averted when Turkey confined its research to\n",
      "  territorrial waters. \"The latest crises created an historic\n",
      "  opportunity to solve the disputes between the two countries,\"\n",
      "  the Foreign Ministry statement said.\n",
      "      Turkey's ambassador in Athens, Nazmi Akiman, was due to\n",
      "  meet Prime Minister Andreas Papandreou today for the Greek\n",
      "  reply to a message sent last week by Turkish Prime Minister\n",
      "  Turgut Ozal. The contents of the message were not disclosed.\n",
      "  \n",
      "\n",
      "\n"
     ]
    }
   ],
   "source": [
    "# df = df.sample(5)\n",
    "print(\"Data shape:\", df.shape)\n",
    "sample_content = df.sample(1)[\"content\"].values[0]\n",
    "print(\"A sample news content:\")\n",
    "print(sample_content[:5000])"
   ]
  },
  {
   "cell_type": "code",
   "execution_count": 5,
   "id": "ad938895-adf0-4978-977f-b6ae75e007f8",
   "metadata": {},
   "outputs": [
    {
     "name": "stdout",
     "output_type": "stream",
     "text": [
      "Number of labels: 90\n",
      "Labels:\n",
      "lead, tin, retail, fuel, propane, crude, income, oat, copra-cake, barley, groundnut, cotton-oil, rand, cpi, lei, cocoa, groundnut-oil, jobs, nkr, livestock, castor-oil, palmkernel, money-fx, sunseed, hog, nat-gas, zinc, coconut-oil, gas, rape-oil, gold, orange, pet-chem, wheat, nickel, jet, interest, carcass, bop, l-cattle, potato, rapeseed, sugar, coffee, soy-oil, money-supply, platinum, yen, wpi, ship, soybean, sorghum, lin-oil, dmk, meal-feed, coconut, rice, dlr, alum, oilseed, acq, reserves, ipi, corn, grain, housing, nzdlr, naphtha, strategic-metal, palm-oil, sun-meal, lumber, tea, rye, rubber, gnp, veg-oil, cpu, silver, copper, soy-meal, earn, sun-oil, instal-debt, cotton, heat, trade, dfl, palladium, iron-steel\n"
     ]
    }
   ],
   "source": [
    "label_columns = [x for x in df.columns if x not in (\"path\", \"topic\", \"subset\", \"index\", \"content\")]\n",
    "\n",
    "print(\"Number of labels:\", len(label_columns))\n",
    "print(\"Labels:\")\n",
    "print(*label_columns, sep=\", \")"
   ]
  },
  {
   "cell_type": "markdown",
   "id": "c6d15b7d-eda9-4f1d-937f-14ffc270a7ca",
   "metadata": {},
   "source": [
    "**Text normalization**\n",
    "\n",
    "Since news content is splitted into multiple line (separator `\\n`), we first concatenate them into a single paragraph.\n",
    "Also, we use new line `\\n` to separate the news body from its heading, which is the first capitalized line."
   ]
  },
  {
   "cell_type": "code",
   "execution_count": 6,
   "id": "80dafab1-82d6-4cd4-9d07-9fdf3f590e81",
   "metadata": {},
   "outputs": [
    {
     "name": "stdout",
     "output_type": "stream",
     "text": [
      "TURKEY CALLS FOR DIALOGUE TO SOLVE DISPUTE\n",
      "Turkey said today its disputes with Greece, including rights on the continental shelf in the Aegean Sea, should be solved through negotiations. A Foreign Ministry statement said the latest crisis between the two NATO members stemmed from the continental shelf dispute and an agreement on this issue would effect the security, economy and other rights of both countries. \"As the issue is basicly political, a solution can only be found by bilateral negotiations,\" the statement said. Greece has repeatedly said the issue was legal and could be solved at the International Court of Justice. The two countries approached armed confrontation last month after Greece announced it planned oil exploration work in the Aegean and Turkey said it would also search for oil. A face-off was averted when Turkey confined its research to territorrial waters. \"The latest crises created an historic opportunity to solve the disputes between the two countries,\" the Foreign Ministry statement said. Turkey's ambassador in Athens, Nazmi Akiman, was due to meet Prime Minister Andreas Papandreou today for the Greek reply to a message sent last week by Turkish Prime Minister Turgut Ozal. The contents of the message were not disclosed.\n"
     ]
    }
   ],
   "source": [
    "def normalize(text):\n",
    "    split_text = text.split(\"\\n\")\n",
    "    heading = split_text.pop(0).strip()\n",
    "    content = \" \".join(x.strip() for x in split_text).strip()\n",
    "    merge_text = \"{}\\n{}\".format(heading, content)\n",
    "    return merge_text\n",
    "\n",
    "# Testing with a sample\n",
    "print(normalize(sample_content))"
   ]
  },
  {
   "cell_type": "code",
   "execution_count": 7,
   "id": "745a46f5-236f-4faa-ba2c-76d3d9815516",
   "metadata": {},
   "outputs": [],
   "source": [
    "df[\"content\"] = df[\"content\"].apply(normalize)"
   ]
  },
  {
   "cell_type": "markdown",
   "id": "31a8ffb6-359b-4a56-b9d5-fcd16fb18706",
   "metadata": {},
   "source": [
    "## Extract name mentions from each document\n",
    "\n",
    "For later reference, save name mentions in each document with `doc_id` into a folder named `name_mention_<doc_id>.txt`"
   ]
  },
  {
   "cell_type": "code",
   "execution_count": 8,
   "id": "ae497edb-5913-41a8-8c01-2d4c08d30f13",
   "metadata": {},
   "outputs": [],
   "source": [
    "NAME_MENTION_DIR = os.path.join(DATA_DIR, \"reuters_name_mentions\")"
   ]
  },
  {
   "cell_type": "code",
   "execution_count": null,
   "id": "909b03cb-e973-49bc-a83e-7c3b7551f2e0",
   "metadata": {},
   "outputs": [],
   "source": [
    "# # Testing with a sample\n",
    "# name_mentions = text_util.get_name_mention_from_claims_nltk([sample_content])\n",
    "# print(name_mentions)"
   ]
  },
  {
   "cell_type": "code",
   "execution_count": null,
   "id": "7c724258-f41e-49a7-a223-ef00c44080f3",
   "metadata": {},
   "outputs": [],
   "source": [
    "# file_util.mkdir(NAME_MENTION_DIR)\n",
    "\n",
    "# for rid, row in tqdm(df.iterrows(), desc=\"Getting name mentions\", total=len(df)):\n",
    "#     doc_id, doc_content = row[\"index\"], row[\"content\"]\n",
    "#     name_mentions = text_util.get_name_mention_from_claims_nltk([doc_content])\n",
    "    \n",
    "#     with open(os.path.join(NAME_MENTION_DIR, f\"{doc_id}.txt\"), \"w\") as f:\n",
    "#         for e in name_mentions:\n",
    "#             f.write(e + \"\\n\")"
   ]
  },
  {
   "cell_type": "markdown",
   "id": "9af59060-bb08-43d3-9945-1864956b9fbb",
   "metadata": {},
   "source": [
    "## Retrieve parents of name mentions"
   ]
  },
  {
   "cell_type": "code",
   "execution_count": null,
   "id": "278fbe6c-bce0-418a-8f1b-1359b494fbe9",
   "metadata": {
    "scrolled": true,
    "tags": []
   },
   "outputs": [],
   "source": [
    "# crawl_wiki_tree.search_wiki_with_threads(NAME_MENTION_DIR, 0, None, iteration=max_level)"
   ]
  },
  {
   "cell_type": "markdown",
   "id": "9b715d3c-e315-4a0a-b2dc-cc97600748bf",
   "metadata": {},
   "source": [
    "## Trace paths of parents"
   ]
  },
  {
   "cell_type": "code",
   "execution_count": 9,
   "id": "b5c5da43-d3db-404e-865e-7e21ac9515bb",
   "metadata": {},
   "outputs": [],
   "source": [
    "from collections import deque\n",
    "\n",
    "def cache_linkto(parent_links):\n",
    "    linkto_infos = {}\n",
    "    for link in parent_links:\n",
    "        src_id, src_label, dest_id = link[\"id\"], link[\"label\"], link[\"link_to\"]\n",
    "        if src_id not in linkto_infos:\n",
    "            linkto_infos[src_id] = {\"label\": src_label, \"link_to\": set()}\n",
    "        if dest_id != \"\":\n",
    "            linkto_infos[src_id][\"link_to\"].add(dest_id)\n",
    "\n",
    "    for src_id in linkto_infos:\n",
    "        linkto_infos[src_id][\"link_to\"] = list(linkto_infos[src_id][\"link_to\"])\n",
    "    \n",
    "    return linkto_infos\n",
    "\n",
    "\n",
    "def trace_path(root_id, entity, max_level):\n",
    "    linkto_infos = cache_linkto(entity[\"parents\"])\n",
    "    labels = {root_id: entity[\"label\"]}\n",
    "    parents = []\n",
    "    \n",
    "    # BFS to get parent up to max_level\n",
    "    queue = deque()\n",
    "    queue.append(root_id)\n",
    "    level = {root_id : 0}\n",
    "    path = {root_id: str(root_id)}\n",
    "    \n",
    "    while len(queue) != 0:\n",
    "        u = queue.popleft()\n",
    "        for v in linkto_infos[u][\"link_to\"]:\n",
    "            if v not in level and v in linkto_infos:\n",
    "                level[v] = level[u] + 1\n",
    "                path[v] = \"{} >> {}\".format(path[u], v)\n",
    "                labels[v] = linkto_infos[v][\"label\"]\n",
    "                parents.append({\n",
    "                    \"id\": v, \n",
    "                    \"level\": level[v], \n",
    "                    \"label\": labels[v],\n",
    "                    \"path\": path[v],\n",
    "                })\n",
    "                if level[v] < max_level:\n",
    "                    queue.append(v)\n",
    "    \n",
    "    return parents, labels"
   ]
  },
  {
   "cell_type": "code",
   "execution_count": 35,
   "id": "8b43d0ac-af73-4e32-9070-32f91ca057ff",
   "metadata": {},
   "outputs": [
    {
     "name": "stdout",
     "output_type": "stream",
     "text": [
      "TRACING ERROR Q23947147\n"
     ]
    }
   ],
   "source": [
    "sample_entity_file = file_util.get_file_name_in_dir_regex(NAME_MENTION_DIR, \"entities.pck\")[0]\n",
    "sample_entity = file_util.load(sample_entity_file)\n",
    "\n",
    "for name_mention_eid, entity in sample_entity.items():\n",
    "    try:\n",
    "        trace_path(name_mention_eid, entity, max_level=max_level)\n",
    "    except KeyError:\n",
    "        print(\"TRACING ERROR\", name_mention_eid)"
   ]
  },
  {
   "cell_type": "code",
   "execution_count": 33,
   "id": "e3694c8a-49c2-473d-9dc1-76daec051023",
   "metadata": {},
   "outputs": [
    {
     "name": "stderr",
     "output_type": "stream",
     "text": [
      "Tracing parents:   0%|          | 0/10788 [00:00<?, ?it/s]\n"
     ]
    }
   ],
   "source": [
    "ENTITY_LABEL_PATH = os.path.join(DATA_DIR, \"entity_labels.json\")\n",
    "\n",
    "file_names = file_util.get_file_name_in_dir(NAME_MENTION_DIR, \"txt\")\n",
    "entity_labels = {}\n",
    "\n",
    "for file_name in tqdm(file_names, desc=\"Tracing parents\"):\n",
    "    base_name = os.path.splitext(file_name)[0]\n",
    "    entity_path = base_name + \"_entities.pck\"\n",
    "    parent_path = base_name + \"_parents.json\"\n",
    "    error_path = base_name + \"_entities_cannot_trace_parents.json\"\n",
    "    \n",
    "    file_entity = file_util.load(entity_path)\n",
    "    entity_parents = {}\n",
    "    errors = []\n",
    "    \n",
    "    for name_mention_eid, entity in file_entity.items():\n",
    "        try:\n",
    "            parents, labels = trace_path(name_mention_eid, entity, max_level=max_level)\n",
    "        except KeyError:\n",
    "            errors.append(file_entity[name_mention_eid])\n",
    "            continue\n",
    "        entity_parents[name_mention_eid] = {\"name_mention\": entity[\"name_mention\"], \"label\": entity[\"label\"], \"parents\": parents}\n",
    "        entity_labels.update(labels)\n",
    "        \n",
    "    file_util.dump_json(entity_labels, ENTITY_LABEL_PATH)\n",
    "    file_util.dump_json(entity_parents, parent_path)\n",
    "    file_util.dump_json(errors, error_path)"
   ]
  },
  {
   "cell_type": "code",
   "execution_count": null,
   "id": "74847c06-08ea-4205-93ef-1c4c8b8444dc",
   "metadata": {},
   "outputs": [],
   "source": []
  }
 ],
 "metadata": {
  "kernelspec": {
   "display_name": "Python 3",
   "language": "python",
   "name": "python3"
  },
  "language_info": {
   "codemirror_mode": {
    "name": "ipython",
    "version": 3
   },
   "file_extension": ".py",
   "mimetype": "text/x-python",
   "name": "python",
   "nbconvert_exporter": "python",
   "pygments_lexer": "ipython3",
   "version": "3.8.8"
  }
 },
 "nbformat": 4,
 "nbformat_minor": 5
}
