{
 "cells": [
  {
   "cell_type": "code",
   "execution_count": 2,
   "id": "f0cb4603-ac46-41fc-9976-69dc5b52c3df",
   "metadata": {},
   "outputs": [],
   "source": [
    "import os\n",
    "import sys\n",
    "import random\n",
    "sys.path.append(\"../\")\n",
    "\n",
    "import numpy as np\n",
    "import networkx as nx\n",
    "import pandas as pd\n",
    "import matplotlib.pyplot as plt\n",
    "from tqdm import tqdm\n",
    "from utils import file_util"
   ]
  },
  {
   "cell_type": "code",
   "execution_count": 3,
   "id": "b73dc1d6-4d35-4023-8c21-208470e87465",
   "metadata": {},
   "outputs": [],
   "source": [
    "DATA_DIR = \"../data\"\n",
    "NAME_MENTION_DIR = os.path.join(DATA_DIR, \"reuters_name_mentions\")\n",
    "entity_labels = file_util.load_json(os.path.join(DATA_DIR, \"entity_labels.json\"))"
   ]
  },
  {
   "cell_type": "code",
   "execution_count": 4,
   "id": "c57d4a81-6945-40ef-b90b-4f21cf7eac3e",
   "metadata": {},
   "outputs": [],
   "source": [
    "def extract_relations(parents, only_return_path_name=False):\n",
    "    entity_path = {}\n",
    "    for parent_info in parents:\n",
    "        entity_path[parent_info[\"path\"]] = parent_info\n",
    "    \n",
    "    for parent_info in parents:\n",
    "        if parent_info[\"level\"] == 3:\n",
    "            path_name = \" >> \".join(x for x in parent_info[\"path\"].split(\" >> \")[1:])\n",
    "            if only_return_path_name:\n",
    "                yield path_name\n",
    "            else:\n",
    "                rela = {}\n",
    "                while True:\n",
    "                    level = parent_info[\"level\"]\n",
    "                    rela[f\"Level {level}\"] = \"\\n\".join((parent_info[\"id\"], parent_info[\"label\"], parent_info[\"path\"]))\n",
    "                    child_path = \" >> \".join(x for x in parent_info[\"path\"].split(\" >> \")[:-1])\n",
    "                    if level == 1:\n",
    "                        break\n",
    "                    parent_info = entity_path[child_path]\n",
    "                yield rela, path_name"
   ]
  },
  {
   "cell_type": "code",
   "execution_count": 5,
   "id": "07b9190e-c181-4d6f-a37d-abcea3620101",
   "metadata": {},
   "outputs": [],
   "source": [
    "file_names = file_util.get_file_name_in_dir(NAME_MENTION_DIR, \"txt\")\n",
    "file_name = random.sample(file_names, 1)[0]"
   ]
  },
  {
   "cell_type": "code",
   "execution_count": 6,
   "id": "93ddf484-f121-4811-8063-b57d08b7bda2",
   "metadata": {
    "tags": []
   },
   "outputs": [
    {
     "name": "stderr",
     "output_type": "stream",
     "text": [
      "100%|██████████| 10788/10788 [01:02<00:00, 173.44it/s]\n"
     ]
    }
   ],
   "source": [
    "freq = {}\n",
    "for file_name in tqdm(file_names):\n",
    "    base_name = os.path.splitext(file_name)[0]\n",
    "    parent_path = base_name + \"_parents.json\"\n",
    "    parents = file_util.load_json(parent_path)\n",
    "    \n",
    "    for name_mention_eid, entity in parents.items():\n",
    "        for path_name in extract_relations(entity[\"parents\"], only_return_path_name=True):\n",
    "            freq[path_name] = freq.get(path_name, 0) + 1"
   ]
  },
  {
   "cell_type": "code",
   "execution_count": 13,
   "id": "2b0ec5d1-c2aa-4718-812d-a3154a2f077d",
   "metadata": {},
   "outputs": [
    {
     "name": "stderr",
     "output_type": "stream",
     "text": [
      "100%|██████████| 10788/10788 [01:51<00:00, 96.81it/s] \n"
     ]
    }
   ],
   "source": [
    "entity_level_dict = {}\n",
    "listed = {}\n",
    "\n",
    "for file_name in tqdm(file_names):\n",
    "    for name_mention_eid, entity in parents.items():\n",
    "        if name_mention_eid not in entity_level_dict:\n",
    "            entity_level_dict[name_mention_eid] = []\n",
    "            listed[name_mention_eid] = set()\n",
    "            \n",
    "        for row, path_name in extract_relations(entity[\"parents\"]):\n",
    "            row[\"Level 0\"] = entity[\"label\"]\n",
    "            row[\"Occurence\"] = freq[path_name]\n",
    "            if path_name not in listed[name_mention_eid]:\n",
    "                entity_level_dict[name_mention_eid].append(row)\n",
    "                listed[name_mention_eid].add(path_name)"
   ]
  },
  {
   "cell_type": "code",
   "execution_count": 16,
   "id": "5ea4842a-0cda-4ae7-8e57-4753853e555a",
   "metadata": {},
   "outputs": [
    {
     "name": "stderr",
     "output_type": "stream",
     "text": [
      "100%|██████████| 298/298 [00:00<00:00, 336.74it/s]\n"
     ]
    }
   ],
   "source": [
    "writer = pd.ExcelWriter('entity_level_dict.xlsx', engine='xlsxwriter')\n",
    "for name_mention_eid, infor in tqdm(entity_level_dict.items()):\n",
    "    df = pd.DataFrame(infor)\n",
    "    df = df[sorted(df.columns)]\n",
    "    df.to_excel(writer, sheet_name=name_mention_eid)\n",
    "writer.save()"
   ]
  }
 ],
 "metadata": {
  "kernelspec": {
   "display_name": "Python 3",
   "language": "python",
   "name": "python3"
  },
  "language_info": {
   "codemirror_mode": {
    "name": "ipython",
    "version": 3
   },
   "file_extension": ".py",
   "mimetype": "text/x-python",
   "name": "python",
   "nbconvert_exporter": "python",
   "pygments_lexer": "ipython3",
   "version": "3.8.8"
  }
 },
 "nbformat": 4,
 "nbformat_minor": 5
}
