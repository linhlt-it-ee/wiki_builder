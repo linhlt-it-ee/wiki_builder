{
 "cells": [
  {
   "cell_type": "code",
   "execution_count": null,
   "id": "c1c2241c-58e8-466a-97de-8cfd9b7b4cbe",
   "metadata": {},
   "outputs": [],
   "source": [
    "import os\n",
    "import sys\n",
    "import random\n",
    "sys.path.append(\"../\")\n",
    "\n",
    "import numpy as np\n",
    "import networkx as nx\n",
    "import pandas as pd\n",
    "import matplotlib.pyplot as plt\n",
    "from tqdm import tqdm\n",
    "from utils import file_util"
   ]
  },
  {
   "cell_type": "code",
   "execution_count": null,
   "id": "f841e122-0338-4af8-b943-babbedf62376",
   "metadata": {},
   "outputs": [],
   "source": [
    "DATA_DIR = \"../data\"\n",
    "NAME_MENTION_DIR = os.path.join(DATA_DIR, \"reuters_name_mentions\")\n",
    "entity_labels = file_util.load_json(os.path.join(DATA_DIR, \"entity_labels.json\"))"
   ]
  },
  {
   "cell_type": "code",
   "execution_count": null,
   "id": "0bf66744-2b55-418d-b899-21bc65759a06",
   "metadata": {},
   "outputs": [],
   "source": [
    "def create_concept_graph(file_name):\n",
    "    base_name = os.path.splitext(file_name)[0]\n",
    "    parent_path = base_name + \"_parents.json\"\n",
    "    parents = file_util.load_json(parent_path)\n",
    "    doc_id = base_name.split(\"/\")[-1]\n",
    "    \n",
    "    graph = nx.DiGraph()\n",
    "    for name_mention_eid, entity in parents.items():\n",
    "        for parent in entity[\"parents\"]:\n",
    "            path = parent[\"path\"].split(\" >> \")\n",
    "            nx.add_path(graph, path)\n",
    "    \n",
    "    num_nodes_before = len(graph.nodes)\n",
    "    \n",
    "    # Graph reduction\n",
    "    largest_component_nodes = max(nx.connected_components(graph.to_undirected()), key=len)\n",
    "    graph = graph.subgraph(largest_component_nodes)\n",
    "    # Prune nodes\n",
    "    node_central_scores = nx.algorithms.centrality.information_centrality(graph.to_undirected())\n",
    "    min_central_score = pd.Series(node_central_scores.values()).quantile(.9)\n",
    "    central_nodes = [node for node, score in node_central_scores.items() if score >= min_central_score]\n",
    "   \n",
    "    graph = graph.subgraph(central_nodes)\n",
    "    num_nodes_after = len(graph.nodes)\n",
    "    return num_nodes_before, num_nodes_after, graph"
   ]
  },
  {
   "cell_type": "code",
   "execution_count": null,
   "id": "f2aab7b8-9e28-4a58-be77-43f8e70a16dd",
   "metadata": {},
   "outputs": [],
   "source": [
    "file_names = file_util.get_file_name_in_dir(NAME_MENTION_DIR, \"txt\")\n",
    "sample_file_name = random.sample(file_names, 1)[0]"
   ]
  },
  {
   "cell_type": "code",
   "execution_count": null,
   "id": "00de43b5-f4f2-4a64-8f61-37ac38f8f85f",
   "metadata": {},
   "outputs": [],
   "source": [
    "num_nodes_before, num_nodes_after, sample_graph = create_concept_graph(sample_file_name)\n",
    "nx.draw(sample_graph, with_labels=True)\n",
    "nx.write_edgelist(sample_graph, \"sample_graph_edgelist.gz\")"
   ]
  },
  {
   "cell_type": "code",
   "execution_count": null,
   "id": "9b84bbbe-1de1-4709-90dc-fa6fe822d736",
   "metadata": {},
   "outputs": [],
   "source": [
    "GRAPH_DIR = os.path.join(DATA_DIR, \"graphs\")\n",
    "os.mkdir(GRAPH_DIR)\n",
    "pbar = tqdm(file_names, desc=\"Creating concept graphs\")\n",
    "\n",
    "for file_name in pbar:\n",
    "    base_name = os.path.splitext(file_name)[0]\n",
    "    doc_id = base_name.split(\"/\")[-1]\n",
    "    try:\n",
    "        num_nodes_before, num_nodes_after, graph = create_concept_graph(file_name)\n",
    "    except:\n",
    "        num_nodes_before, num_nodes_after = None, None\n",
    "        graph = nx.DiGraph()\n",
    "        \n",
    "    graph_path = os.path.join(GRAPH_DIR, f\"{doc_id}_graph_edgelist.gz\")\n",
    "    nx.write_edgelist(graph, graph_path)\n",
    "    pbar.set_postfix({\"reduce\": f\"{num_nodes_before}->{num_nodes_after}\"})"
   ]
  },
  {
   "cell_type": "code",
   "execution_count": null,
   "id": "1c4c252a-04ec-481a-9f05-d80ad5f4ec5a",
   "metadata": {},
   "outputs": [],
   "source": []
  }
 ],
 "metadata": {
  "kernelspec": {
   "display_name": "Python 3",
   "language": "python",
   "name": "python3"
  },
  "language_info": {
   "codemirror_mode": {
    "name": "ipython",
    "version": 3
   },
   "file_extension": ".py",
   "mimetype": "text/x-python",
   "name": "python",
   "nbconvert_exporter": "python",
   "pygments_lexer": "ipython3",
   "version": "3.8.8"
  }
 },
 "nbformat": 4,
 "nbformat_minor": 5
}
