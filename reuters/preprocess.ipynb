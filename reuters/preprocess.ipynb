{
 "cells": [
  {
   "cell_type": "code",
   "execution_count": 1,
   "id": "5a0d554a-e79f-4392-805b-6ca3295a702c",
   "metadata": {},
   "outputs": [],
   "source": [
    "import pandas as pd\n",
    "import json\n",
    "import sys\n",
    "import os\n",
    "sys.path.append(\"../\")\n",
    "\n",
    "from utils import file_util\n",
    "from tqdm import tqdm\n",
    "from ast import literal_eval\n",
    "from sklearn.model_selection import train_test_split"
   ]
  },
  {
   "cell_type": "code",
   "execution_count": 2,
   "id": "ad2605b2-f8f2-4747-925c-e57e60261bfc",
   "metadata": {},
   "outputs": [],
   "source": [
    "data_dir = \"../data/reuters\"\n",
    "seed = 6\n",
    "test_size = 0.2"
   ]
  },
  {
   "cell_type": "code",
   "execution_count": 3,
   "id": "69493480-9d25-494c-9a83-92c40b9b664e",
   "metadata": {},
   "outputs": [
    {
     "data": {
      "text/html": [
       "<div>\n",
       "<style scoped>\n",
       "    .dataframe tbody tr th:only-of-type {\n",
       "        vertical-align: middle;\n",
       "    }\n",
       "\n",
       "    .dataframe tbody tr th {\n",
       "        vertical-align: top;\n",
       "    }\n",
       "\n",
       "    .dataframe thead th {\n",
       "        text-align: right;\n",
       "    }\n",
       "</style>\n",
       "<table border=\"1\" class=\"dataframe\">\n",
       "  <thead>\n",
       "    <tr style=\"text-align: right;\">\n",
       "      <th></th>\n",
       "      <th>path</th>\n",
       "      <th>topic</th>\n",
       "      <th>subset</th>\n",
       "      <th>index</th>\n",
       "      <th>content</th>\n",
       "      <th>lead</th>\n",
       "      <th>tin</th>\n",
       "      <th>retail</th>\n",
       "      <th>fuel</th>\n",
       "      <th>propane</th>\n",
       "      <th>...</th>\n",
       "      <th>soy-meal</th>\n",
       "      <th>earn</th>\n",
       "      <th>sun-oil</th>\n",
       "      <th>instal-debt</th>\n",
       "      <th>cotton</th>\n",
       "      <th>heat</th>\n",
       "      <th>trade</th>\n",
       "      <th>dfl</th>\n",
       "      <th>palladium</th>\n",
       "      <th>iron-steel</th>\n",
       "    </tr>\n",
       "  </thead>\n",
       "  <tbody>\n",
       "    <tr>\n",
       "      <th>0</th>\n",
       "      <td>test/14826</td>\n",
       "      <td>[trade]</td>\n",
       "      <td>test</td>\n",
       "      <td>14826</td>\n",
       "      <td>ASIAN EXPORTERS FEAR DAMAGE FROM U.S.-JAPAN RI...</td>\n",
       "      <td>0</td>\n",
       "      <td>0</td>\n",
       "      <td>0</td>\n",
       "      <td>0</td>\n",
       "      <td>0</td>\n",
       "      <td>...</td>\n",
       "      <td>0</td>\n",
       "      <td>0</td>\n",
       "      <td>0</td>\n",
       "      <td>0</td>\n",
       "      <td>0</td>\n",
       "      <td>0</td>\n",
       "      <td>1</td>\n",
       "      <td>0</td>\n",
       "      <td>0</td>\n",
       "      <td>0</td>\n",
       "    </tr>\n",
       "    <tr>\n",
       "      <th>1</th>\n",
       "      <td>test/14828</td>\n",
       "      <td>[grain]</td>\n",
       "      <td>test</td>\n",
       "      <td>14828</td>\n",
       "      <td>CHINA DAILY SAYS VERMIN EAT 7-12 PCT GRAIN STO...</td>\n",
       "      <td>0</td>\n",
       "      <td>0</td>\n",
       "      <td>0</td>\n",
       "      <td>0</td>\n",
       "      <td>0</td>\n",
       "      <td>...</td>\n",
       "      <td>0</td>\n",
       "      <td>0</td>\n",
       "      <td>0</td>\n",
       "      <td>0</td>\n",
       "      <td>0</td>\n",
       "      <td>0</td>\n",
       "      <td>0</td>\n",
       "      <td>0</td>\n",
       "      <td>0</td>\n",
       "      <td>0</td>\n",
       "    </tr>\n",
       "    <tr>\n",
       "      <th>2</th>\n",
       "      <td>test/14829</td>\n",
       "      <td>[nat-gas, crude]</td>\n",
       "      <td>test</td>\n",
       "      <td>14829</td>\n",
       "      <td>JAPAN TO REVISE LONG-TERM ENERGY DEMAND DOWNWA...</td>\n",
       "      <td>0</td>\n",
       "      <td>0</td>\n",
       "      <td>0</td>\n",
       "      <td>0</td>\n",
       "      <td>0</td>\n",
       "      <td>...</td>\n",
       "      <td>0</td>\n",
       "      <td>0</td>\n",
       "      <td>0</td>\n",
       "      <td>0</td>\n",
       "      <td>0</td>\n",
       "      <td>0</td>\n",
       "      <td>0</td>\n",
       "      <td>0</td>\n",
       "      <td>0</td>\n",
       "      <td>0</td>\n",
       "    </tr>\n",
       "    <tr>\n",
       "      <th>3</th>\n",
       "      <td>test/14832</td>\n",
       "      <td>[rubber, tin, sugar, corn, rice, grain, trade]</td>\n",
       "      <td>test</td>\n",
       "      <td>14832</td>\n",
       "      <td>THAI TRADE DEFICIT WIDENS IN FIRST QUARTER\\n  ...</td>\n",
       "      <td>0</td>\n",
       "      <td>1</td>\n",
       "      <td>0</td>\n",
       "      <td>0</td>\n",
       "      <td>0</td>\n",
       "      <td>...</td>\n",
       "      <td>0</td>\n",
       "      <td>0</td>\n",
       "      <td>0</td>\n",
       "      <td>0</td>\n",
       "      <td>0</td>\n",
       "      <td>0</td>\n",
       "      <td>1</td>\n",
       "      <td>0</td>\n",
       "      <td>0</td>\n",
       "      <td>0</td>\n",
       "    </tr>\n",
       "    <tr>\n",
       "      <th>4</th>\n",
       "      <td>test/14833</td>\n",
       "      <td>[palm-oil, veg-oil]</td>\n",
       "      <td>test</td>\n",
       "      <td>14833</td>\n",
       "      <td>INDONESIA SEES CPO PRICE RISING SHARPLY\\n  Ind...</td>\n",
       "      <td>0</td>\n",
       "      <td>0</td>\n",
       "      <td>0</td>\n",
       "      <td>0</td>\n",
       "      <td>0</td>\n",
       "      <td>...</td>\n",
       "      <td>0</td>\n",
       "      <td>0</td>\n",
       "      <td>0</td>\n",
       "      <td>0</td>\n",
       "      <td>0</td>\n",
       "      <td>0</td>\n",
       "      <td>0</td>\n",
       "      <td>0</td>\n",
       "      <td>0</td>\n",
       "      <td>0</td>\n",
       "    </tr>\n",
       "  </tbody>\n",
       "</table>\n",
       "<p>5 rows × 95 columns</p>\n",
       "</div>"
      ],
      "text/plain": [
       "         path                                           topic subset  index  \\\n",
       "0  test/14826                                         [trade]   test  14826   \n",
       "1  test/14828                                         [grain]   test  14828   \n",
       "2  test/14829                                [nat-gas, crude]   test  14829   \n",
       "3  test/14832  [rubber, tin, sugar, corn, rice, grain, trade]   test  14832   \n",
       "4  test/14833                             [palm-oil, veg-oil]   test  14833   \n",
       "\n",
       "                                             content  lead  tin  retail  fuel  \\\n",
       "0  ASIAN EXPORTERS FEAR DAMAGE FROM U.S.-JAPAN RI...     0    0       0     0   \n",
       "1  CHINA DAILY SAYS VERMIN EAT 7-12 PCT GRAIN STO...     0    0       0     0   \n",
       "2  JAPAN TO REVISE LONG-TERM ENERGY DEMAND DOWNWA...     0    0       0     0   \n",
       "3  THAI TRADE DEFICIT WIDENS IN FIRST QUARTER\\n  ...     0    1       0     0   \n",
       "4  INDONESIA SEES CPO PRICE RISING SHARPLY\\n  Ind...     0    0       0     0   \n",
       "\n",
       "   propane  ...  soy-meal  earn  sun-oil  instal-debt  cotton  heat  trade  \\\n",
       "0        0  ...         0     0        0            0       0     0      1   \n",
       "1        0  ...         0     0        0            0       0     0      0   \n",
       "2        0  ...         0     0        0            0       0     0      0   \n",
       "3        0  ...         0     0        0            0       0     0      1   \n",
       "4        0  ...         0     0        0            0       0     0      0   \n",
       "\n",
       "   dfl  palladium  iron-steel  \n",
       "0    0          0           0  \n",
       "1    0          0           0  \n",
       "2    0          0           0  \n",
       "3    0          0           0  \n",
       "4    0          0           0  \n",
       "\n",
       "[5 rows x 95 columns]"
      ]
     },
     "execution_count": 3,
     "metadata": {},
     "output_type": "execute_result"
    }
   ],
   "source": [
    "df = pd.read_csv(os.path.join(data_dir, \"doc.csv\"), converters={'lists': literal_eval})\n",
    "df[\"topic\"] = df[\"topic\"].apply(literal_eval)\n",
    "df.head()"
   ]
  },
  {
   "cell_type": "code",
   "execution_count": 4,
   "id": "dd9a5f14-df3b-4799-9ed3-9bd41b6c2238",
   "metadata": {},
   "outputs": [
    {
     "name": "stdout",
     "output_type": "stream",
     "text": [
      "Data shape: (10788, 95)\n",
      "A sample news content:\n",
      "NATIONAL WESTMINSTER BANK SAYS IT CUTTING BASE LENDING RATE TO 10.5 PCT FROM 11 PCT.\n",
      "\n",
      "  NATIONAL WESTMINSTER BANK SAYS IT CUTTING BASE LENDING RATE TO 10.5 PCT FROM 11 PCT.\n",
      "  \n",
      "\n",
      "\n"
     ]
    }
   ],
   "source": [
    "print(\"Data shape:\", df.shape)\n",
    "sample_content = df.sample(1)[\"content\"].values[0]\n",
    "print(\"A sample news content:\")\n",
    "print(sample_content[:5000])"
   ]
  },
  {
   "cell_type": "markdown",
   "id": "0517a440-d5b1-4c40-9f5e-2ed02f2e4b20",
   "metadata": {},
   "source": [
    "### Encode labels"
   ]
  },
  {
   "cell_type": "code",
   "execution_count": 5,
   "id": "5abf9f67-9297-4ee0-9994-3bbaa2c19970",
   "metadata": {},
   "outputs": [
    {
     "name": "stdout",
     "output_type": "stream",
     "text": [
      "- Number of labels: 90\n",
      "- Labels:\n",
      "lead, tin, retail, fuel, propane, crude, income, oat, copra-cake, barley, groundnut, cotton-oil, rand, cpi, lei, cocoa, groundnut-oil, jobs, nkr, livestock, castor-oil, palmkernel, money-fx, sunseed, hog, nat-gas, zinc, coconut-oil, gas, rape-oil, gold, orange, pet-chem, wheat, nickel, jet, interest, carcass, bop, l-cattle, potato, rapeseed, sugar, coffee, soy-oil, money-supply, platinum, yen, wpi, ship, soybean, sorghum, lin-oil, dmk, meal-feed, coconut, rice, dlr, alum, oilseed, acq, reserves, ipi, corn, grain, housing, nzdlr, naphtha, strategic-metal, palm-oil, sun-meal, lumber, tea, rye, rubber, gnp, veg-oil, cpu, silver, copper, soy-meal, earn, sun-oil, instal-debt, cotton, heat, trade, dfl, palladium, iron-steel\n"
     ]
    }
   ],
   "source": [
    "labels = [x for x in df.columns if x not in (\"path\", \"topic\", \"subset\", \"index\", \"content\")]\n",
    "print(\"- Number of labels:\", len(labels))\n",
    "print(\"- Labels:\")\n",
    "print(*labels, sep=\", \")"
   ]
  },
  {
   "cell_type": "code",
   "execution_count": 6,
   "id": "9505acc4-2a3a-436e-a4ed-d72213d1f959",
   "metadata": {},
   "outputs": [],
   "source": [
    "label_ids = {x : i for i, x in enumerate(labels)}"
   ]
  },
  {
   "cell_type": "markdown",
   "id": "7e24375d-e28f-48c2-8126-fd94043809f4",
   "metadata": {},
   "source": [
    "### Text normalization\n",
    "\n",
    "Since news content is splitted into multiple line (separator `\\n`), we first concatenate them into a single paragraph.\n",
    "Also, we use new line `\\n` to separate the news body from its heading, which is the first capitalized line."
   ]
  },
  {
   "cell_type": "code",
   "execution_count": 7,
   "id": "a86211cb-198b-44ec-ba74-33017caf36bf",
   "metadata": {},
   "outputs": [
    {
     "name": "stdout",
     "output_type": "stream",
     "text": [
      "('NATIONAL WESTMINSTER BANK SAYS IT CUTTING BASE LENDING RATE TO 10.5 PCT FROM 11 PCT.', 'NATIONAL WESTMINSTER BANK SAYS IT CUTTING BASE LENDING RATE TO 10.5 PCT FROM 11 PCT.')\n"
     ]
    }
   ],
   "source": [
    "def normalize(text):\n",
    "    split_text = text.split(\"\\n\")\n",
    "    title = split_text.pop(0).strip()\n",
    "    content = \" \".join(x.strip() for x in split_text).strip()\n",
    "    return title, content\n",
    "\n",
    "# Testing with a sample\n",
    "print(normalize(sample_content))"
   ]
  },
  {
   "cell_type": "code",
   "execution_count": 8,
   "id": "10f27daa-5be0-4dc1-b75f-0dbfbe1eeae4",
   "metadata": {},
   "outputs": [],
   "source": [
    "df[\"content\"] = df[\"content\"].apply(normalize)"
   ]
  },
  {
   "cell_type": "markdown",
   "id": "98feb6a1-d6a6-48ac-8943-9c2def9b1fa3",
   "metadata": {},
   "source": [
    "## Export"
   ]
  },
  {
   "cell_type": "code",
   "execution_count": 9,
   "id": "d21d7f6f-8925-406b-9a31-df740c23f535",
   "metadata": {},
   "outputs": [],
   "source": [
    "file_util.dump_json(label_ids, os.path.join(data_dir, \"document_label_ids.json\"))"
   ]
  },
  {
   "cell_type": "code",
   "execution_count": 10,
   "id": "f23c176e-b5ed-4ce2-abb2-4b30977f603d",
   "metadata": {},
   "outputs": [
    {
     "name": "stderr",
     "output_type": "stream",
     "text": [
      "Writing: 100%|██████████| 10788/10788 [00:02<00:00, 3979.29it/s]\n"
     ]
    }
   ],
   "source": [
    "f = open(os.path.join(data_dir, \"data.ndjson\"), \"w\")\n",
    "train_doc_ids, _ = train_test_split(range(df.shape[0]), test_size=test_size, random_state=seed)\n",
    "\n",
    "for rid, row in tqdm(df.iterrows(), desc=\"Writing\", total=df.shape[0]):\n",
    "    title, content = row[\"content\"]\n",
    "    sample = {\n",
    "        \"doc_id\": row[\"index\"],\n",
    "        \"title\": title,\n",
    "        \"content\": content,\n",
    "        \"labels\": row[\"topic\"],\n",
    "        \"is_train\": rid in train_doc_ids,\n",
    "    }\n",
    "    f.write(json.dumps(sample, ensure_ascii=False) + \"\\n\")\n",
    "    \n",
    "f.close()        "
   ]
  }
 ],
 "metadata": {
  "kernelspec": {
   "display_name": "Python 3",
   "language": "python",
   "name": "python3"
  },
  "language_info": {
   "codemirror_mode": {
    "name": "ipython",
    "version": 3
   },
   "file_extension": ".py",
   "mimetype": "text/x-python",
   "name": "python",
   "nbconvert_exporter": "python",
   "pygments_lexer": "ipython3",
   "version": "3.9.5"
  }
 },
 "nbformat": 4,
 "nbformat_minor": 5
}
